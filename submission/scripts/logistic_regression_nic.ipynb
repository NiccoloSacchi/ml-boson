{
 "cells": [
  {
   "cell_type": "code",
   "execution_count": 27,
   "metadata": {},
   "outputs": [
    {
     "name": "stdout",
     "output_type": "stream",
     "text": [
      "The autoreload extension is already loaded. To reload it, use:\n",
      "  %reload_ext autoreload\n"
     ]
    }
   ],
   "source": [
    "# Useful starting lines\n",
    "%matplotlib inline\n",
    "\n",
    "import numpy as np\n",
    "import matplotlib.pyplot as plt\n",
    "\n",
    "from implementations import *\n",
    "from plots import *\n",
    "from cleaner import *\n",
    "from proj1_helpers import *\n",
    "\n",
    "%load_ext autoreload\n",
    "%autoreload 2"
   ]
  },
  {
   "cell_type": "markdown",
   "metadata": {},
   "source": [
    "## 1. Load boson data "
   ]
  },
  {
   "cell_type": "code",
   "execution_count": 4,
   "metadata": {},
   "outputs": [
    {
     "data": {
      "text/plain": [
       "((250000, 1), (250000, 30))"
      ]
     },
     "execution_count": 4,
     "metadata": {},
     "output_type": "execute_result"
    }
   ],
   "source": [
    "# just load the training dataset\n",
    "data_path = \"../../dataset/train.csv\"\n",
    "y_loaded, x_loaded, ids_te = load_csv_data(data_path, sub_sample=False)\n",
    "y_loaded = y_loaded.reshape((-1, 1))\n",
    "y_loaded.shape, x_loaded.shape"
   ]
  },
  {
   "cell_type": "markdown",
   "metadata": {},
   "source": [
    "## 2. Clean data"
   ]
  },
  {
   "cell_type": "code",
   "execution_count": 98,
   "metadata": {
    "scrolled": true
   },
   "outputs": [
    {
     "name": "stdout",
     "output_type": "stream",
     "text": [
      "Managing the outliers\n",
      "Jet 0 useless columns dropped: [4, 5, 6, 12, 22, 23, 24, 25, 26, 27, 28, 29]\n",
      "Jet 1 useless columns dropped: [4, 5, 6, 12, 22, 26, 27, 28]\n",
      "Jet 2 useless columns dropped: [22]\n",
      "Jet 3 useless columns dropped: [22]\n",
      "Jet 0 correlated columns dropped: []\n",
      "Jet 1 correlated columns dropped: []\n",
      "Jet 2 correlated columns dropped: []\n",
      "Jet 3 correlated columns dropped: []\n"
     ]
    },
    {
     "data": {
      "text/plain": [
       "((99857, 37), (77396, 45), (50080, 59), (21801, 59))"
      ]
     },
     "execution_count": 98,
     "metadata": {},
     "output_type": "execute_result"
    }
   ],
   "source": [
    "# settings for the cleaning\n",
    "corr = 1\n",
    "dimension_expansion = 2\n",
    "bool_col = True\n",
    "x_all, y_all = clean_input_data(x_loaded.copy(), y_loaded.copy(), corr=corr, \n",
    "                                dimension_expansion=dimension_expansion, bool_col=bool_col)\n",
    "for i in range(len(y_all)):\n",
    "    y_all[i][y_all[i]== -1] = 0\n",
    "x_all[0].shape, x_all[1].shape, x_all[2].shape, x_all[3].shape"
   ]
  },
  {
   "cell_type": "markdown",
   "metadata": {},
   "source": [
    "### 2.9 Choose the degree and set the gamma"
   ]
  },
  {
   "cell_type": "code",
   "execution_count": 99,
   "metadata": {},
   "outputs": [
    {
     "data": {
      "text/plain": [
       "((77396, 271), (77396, 1))"
      ]
     },
     "execution_count": 99,
     "metadata": {},
     "output_type": "execute_result"
    }
   ],
   "source": [
    "i = 1\n",
    "# choose degree\n",
    "degree = 6\n",
    "#tx_sub = build_poly(x_sub, degree)\n",
    "tx_all = build_poly(x_all[i], degree)\n",
    "tx_all.shape, y_all[i].shape"
   ]
  },
  {
   "cell_type": "code",
   "execution_count": 100,
   "metadata": {},
   "outputs": [
    {
     "data": {
      "text/plain": [
       "(271, 1)"
      ]
     },
     "execution_count": 100,
     "metadata": {},
     "output_type": "execute_result"
    }
   ],
   "source": [
    "ncolumns = x_all[i].shape[1]\n",
    "\n",
    "# 50000 data, 14 columns, 999=mean, 0=mean\n",
    "gamma = np.concatenate([\n",
    "     # gamma for constant and 1st degree \n",
    "    np.ones(ncolumns+1)*1e-5,\n",
    "    # gammma 2nd degree\n",
    "    np.ones(ncolumns)*1e-6, \n",
    "    # gamma for 3rd degree \n",
    "    np.ones(ncolumns)*1e-7,\n",
    "    # gamma for 4th degree\n",
    "    np.ones(ncolumns)*1e-10,\n",
    "    # gamma for 5th degree\n",
    "    np.ones(ncolumns)*1e-12,\n",
    "    # gamma for 6th degree\n",
    "    np.ones(ncolumns)*1e-15,\n",
    "#     # gamma for 7th degree \n",
    "#     np.ones(ncolumns)*1e-17,\n",
    "#     # gamma for 8th degree \n",
    "#     np.ones(ncolumns)*1e-20,\n",
    "#     # gamma for 9th degree \n",
    "#     np.ones(ncolumns)*1e-24,\n",
    "#     # gamma for 10th degree \n",
    "#     np.ones(ncolumns)*1e-24,\n",
    "#     # gamma for 11th degree \n",
    "#     np.ones(ncolumns)*1e-28,\n",
    "])\\\n",
    ".reshape((-1, 1))\n",
    "gamma.shape"
   ]
  },
  {
   "cell_type": "markdown",
   "metadata": {},
   "source": [
    "## 3. Train the model"
   ]
  },
  {
   "cell_type": "markdown",
   "metadata": {},
   "source": [
    "### Logistic Regression"
   ]
  },
  {
   "cell_type": "code",
   "execution_count": 101,
   "metadata": {},
   "outputs": [
    {
     "name": "stdout",
     "output_type": "stream",
     "text": [
      "Gradient Descent(0/499): loss=48416.9827243409, prediction ratio=0.642914362499354\n",
      "Gradient Descent(25/499): loss=38516.08079557575, prediction ratio=0.7690319913173808\n",
      "Gradient Descent(50/499): loss=36584.50542752587, prediction ratio=0.7799240270815029\n",
      "Gradient Descent(75/499): loss=35713.85133185185, prediction ratio=0.7856090754044137\n",
      "Gradient Descent(100/499): loss=35213.367630645815, prediction ratio=0.7879735386841697\n",
      "Gradient Descent(125/499): loss=34877.50565229297, prediction ratio=0.7906997777662929\n",
      "Gradient Descent(150/499): loss=34635.05524329418, prediction ratio=0.7923148483125743\n",
      "Gradient Descent(175/499): loss=34448.38763084941, prediction ratio=0.7934776991058969\n",
      "Gradient Descent(200/499): loss=34303.160175548335, prediction ratio=0.7946663910279601\n",
      "Gradient Descent(225/499): loss=34188.70888092308, prediction ratio=0.7954545454545454\n",
      "Gradient Descent(250/499): loss=34097.98263639345, prediction ratio=0.7961522559305391\n",
      "Gradient Descent(275/499): loss=34022.29995218314, prediction ratio=0.7969533309214947\n",
      "Gradient Descent(300/499): loss=33959.09755985587, prediction ratio=0.7977802470411908\n",
      "Gradient Descent(325/499): loss=33902.12772795127, prediction ratio=0.7982970696160008\n",
      "Gradient Descent(350/499): loss=33852.691367204134, prediction ratio=0.7984779575171843\n",
      "Gradient Descent(375/499): loss=33807.60861240167, prediction ratio=0.7990335417851052\n",
      "Gradient Descent(400/499): loss=33768.02876732077, prediction ratio=0.7993565558943615\n",
      "Gradient Descent(425/499): loss=33729.98805550792, prediction ratio=0.7996278877461368\n",
      "Gradient Descent(450/499): loss=33696.092121097194, prediction ratio=0.7996795700036178\n",
      "Gradient Descent(475/499): loss=33663.86532294749, prediction ratio=0.800054266370355\n",
      "Gradient Descent(499/499): loss=33635.114230304374, prediction ratio=0.8004935655589436\n"
     ]
    },
    {
     "data": {
      "image/png": "[encoded data removed]",
      "text/plain": [
       "<matplotlib.figure.Figure at 0x7ff679f5d6a0>"
      ]
     },
     "metadata": {},
     "output_type": "display_data"
    }
   ],
   "source": [
    "initial_w = np.zeros((tx_all.shape[1], 1))\n",
    "max_iters = 500\n",
    "ouptut_step = 25\n",
    "loss, w = gradient_descent(y_all[i], tx_all, initial_w, max_iters, gamma, num_batches=2,\n",
    "                           plot_losses=True, print_output=True, ouptut_step=ouptut_step, costfunc=CostFunction.LIKELIHOOD)"
   ]
  },
  {
   "cell_type": "code",
   "execution_count": 80,
   "metadata": {},
   "outputs": [
    {
     "data": {
      "text/plain": [
       "0.80030692252140723"
      ]
     },
     "execution_count": 80,
     "metadata": {},
     "output_type": "execute_result"
    }
   ],
   "source": [
    "compute_loss(y_all[i], tx_all, w, costfunc=CostFunction.SUCCESS_RATIO)"
   ]
  },
  {
   "cell_type": "markdown",
   "metadata": {},
   "source": [
    "### Penalized logistic regression"
   ]
  },
  {
   "cell_type": "code",
   "execution_count": null,
   "metadata": {},
   "outputs": [],
   "source": [
    "initial_w = np.zeros((tx.shape[1], 1))\n",
    "max_iters = 500\n",
    "ouptut_step = 100\n",
    "lambda_ = 1\n",
    "loss, w = gradient_descent(y_all[i], tx_all, initial_w, max_iters, gamma, num_batches=1, lambda_=lambda_,\n",
    "                           plot_losses=True, print_output=True, ouptut_step=50, costfunc=CostFunction.LIKELIHOOD)"
   ]
  },
  {
   "cell_type": "code",
   "execution_count": null,
   "metadata": {},
   "outputs": [],
   "source": [
    "compute_loss(y_all[i], tx_all, w, costfunc=CostFunction.SUCCESS_RATIO)"
   ]
  },
  {
   "cell_type": "markdown",
   "metadata": {},
   "source": [
    "## 4. Create submit file"
   ]
  },
  {
   "cell_type": "markdown",
   "metadata": {},
   "source": [
    "##### a. Load test data"
   ]
  },
  {
   "cell_type": "code",
   "execution_count": null,
   "metadata": {},
   "outputs": [],
   "source": [
    "data_path = \"../dataset/test.csv\"\n",
    "y_te_loaded, x_te_loaded, ids_te_loaded = load_csv_data(data_path, sub_sample=False)\n",
    "y_te_loaded.shape, x_te_loaded.shape"
   ]
  },
  {
   "cell_type": "markdown",
   "metadata": {},
   "source": [
    "#### b. Clean"
   ]
  },
  {
   "cell_type": "code",
   "execution_count": null,
   "metadata": {},
   "outputs": [],
   "source": [
    "ids_te[0].shape"
   ]
  },
  {
   "cell_type": "code",
   "execution_count": null,
   "metadata": {},
   "outputs": [],
   "source": [
    "# clean, have to split the ids too otherwise we lose the mappings\n",
    "x_te, ids_te = clean_input_data(x_te_loaded.copy(), ids_te_loaded.copy())"
   ]
  },
  {
   "cell_type": "markdown",
   "metadata": {},
   "source": [
    "#### c. Build the polynomial"
   ]
  },
  {
   "cell_type": "code",
   "execution_count": null,
   "metadata": {},
   "outputs": [],
   "source": [
    "# build\n",
    "degree = 3\n",
    "tx_te = []\n",
    "for x_te_ in x_te:\n",
    "    tx_te.append(build_poly(x_te_, degree))\n",
    "tx_te[0].shape, tx_te[1].shape, tx_te[2].shape, tx_te[3].shape"
   ]
  },
  {
   "cell_type": "markdown",
   "metadata": {},
   "source": [
    "####  d. Predict "
   ]
  },
  {
   "cell_type": "code",
   "execution_count": null,
   "metadata": {},
   "outputs": [],
   "source": [
    "y_te_pred = []\n",
    "for jet in range(4):\n",
    "    y_te_pred.append(predict_labels(weigths[jet], tx_te[jet]))\n",
    "y_te_pred[0].shape, y_te_pred[1].shape, y_te_pred[2].shape, y_te_pred[3].shape"
   ]
  },
  {
   "cell_type": "code",
   "execution_count": null,
   "metadata": {},
   "outputs": [],
   "source": [
    "# concatenate all the results\n",
    "for jet in range(4):\n",
    "    ids_te[jet] = ids_te[jet].reshape((-1, 1))\n",
    "y_pred = np.row_stack([y_te_pred[0], y_te_pred[1], y_te_pred[2], y_te_pred[3]])\n",
    "ids = np.row_stack([ids_te[0], ids_te[1], ids_te[2], ids_te[3]])\n",
    "y_pred.shape, ids.shape"
   ]
  },
  {
   "cell_type": "code",
   "execution_count": null,
   "metadata": {},
   "outputs": [],
   "source": [
    "# check it makes sense\n",
    "(y_pred==-1).sum(), (y_pred==1).sum()\n",
    "# (393191, 175047)"
   ]
  },
  {
   "cell_type": "markdown",
   "metadata": {},
   "source": [
    "#### e. Store predictions"
   ]
  },
  {
   "cell_type": "code",
   "execution_count": null,
   "metadata": {},
   "outputs": [],
   "source": [
    "# store the predictions\n",
    "sub_file_name = \"logistic_regression_definitiveClean_degree3\"\n",
    "create_csv_submission(ids, y_pred, sub_file_name)"
   ]
  },
  {
   "cell_type": "markdown",
   "metadata": {},
   "source": [
    "## Store/load weights"
   ]
  },
  {
   "cell_type": "markdown",
   "metadata": {},
   "source": [
    "### Store"
   ]
  },
  {
   "cell_type": "code",
   "execution_count": null,
   "metadata": {},
   "outputs": [],
   "source": [
    "weigth_name = \"w3\"\n",
    "#file_path = \"weigths/no_perc/w1\"\n",
    "file_path = \"weigths/with_perc3/\" + weigth_name\n",
    "json.dump(w.tolist(), codecs.open(file_path, 'w', encoding='utf-8'), separators=(',', ':'), sort_keys=True, indent=4)"
   ]
  },
  {
   "cell_type": "markdown",
   "metadata": {},
   "source": [
    "### Load"
   ]
  },
  {
   "cell_type": "code",
   "execution_count": null,
   "metadata": {},
   "outputs": [],
   "source": [
    "weigths = []\n",
    "for weigth_name in [\"w0\", \"w1\", \"w2\", \"w3\"]:\n",
    "    file_path = \"weigths/with_perc3/\"+weigth_name\n",
    "    obj_text = codecs.open(file_path, 'r', encoding='utf-8').read()\n",
    "    weigths.append(np.array(json.loads(obj_text)))\n",
    "weigths[0].shape, weigths[1].shape, weigths[2].shape, weigths[3].shape"
   ]
  }
 ],
 "metadata": {
  "anaconda-cloud": {},
  "kernelspec": {
   "display_name": "Python [conda root]",
   "language": "python",
   "name": "conda-root-py"
  }
 },
 "nbformat": 4,
 "nbformat_minor": 1
}
