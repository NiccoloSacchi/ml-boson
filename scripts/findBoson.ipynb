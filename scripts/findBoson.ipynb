{
 "cells": [
  {
   "cell_type": "code",
   "execution_count": 1,
   "metadata": {},
   "outputs": [],
   "source": [
    "%matplotlib inline\n",
    "import numpy as np\n",
    "import matplotlib.pyplot as plt\n",
    "import matplotlib as mpl\n",
    "from implementations import * \n",
    "from proj1_helpers import *\n",
    "%load_ext autoreload\n",
    "%autoreload 2"
   ]
  },
  {
   "cell_type": "code",
   "execution_count": 8,
   "metadata": {},
   "outputs": [
    {
     "data": {
      "text/plain": [
       "((99,), (99, 30), (99, 31), (99, 30))"
      ]
     },
     "execution_count": 8,
     "metadata": {},
     "output_type": "execute_result"
    }
   ],
   "source": [
    "# import some data to test the functions\n",
    "from helpers import *\n",
    "\n",
    "ids_tr,predictions_tr,data_tr, ids_te,data_te = load_boson_data()\n",
    "\n",
    "y = predictions_tr\n",
    "\n",
    "x, mean_x, std_x = standardize(data_tr)\n",
    "\n",
    "y,tx = build_model_data(x,y)\n",
    "\n",
    "y.shape, x.shape, tx.shape, data_tr.shape"
   ]
  },
  {
   "cell_type": "code",
   "execution_count": null,
   "metadata": {},
   "outputs": [],
   "source": [
    "# gradient descent\n",
    "initial_w = np.zeros(tx.shape[1])\n",
    "max_iters = 20\n",
    "gamma = 0.1\n",
    "loss, w = gradient_descent(y, tx, initial_w, max_iters, gamma, print_output=False, plot_losses=True)\n",
    "loss,w"
   ]
  },
  {
   "cell_type": "code",
   "execution_count": null,
   "metadata": {},
   "outputs": [],
   "source": [
    "# stochastic gradient descent\n",
    "# gradient descent\n",
    "initial_w = np.array([0, 0])\n",
    "max_iters = 20\n",
    "gamma = 0.5\n",
    "loss, w = gradient_descent(y, tx, initial_w, max_iters, gamma, batch_size=1, print_output=False, plot_losses=True)\n",
    "loss,w"
   ]
  },
  {
   "cell_type": "code",
   "execution_count": null,
   "metadata": {},
   "outputs": [],
   "source": [
    "# analityc solution\n",
    "least_squares(y, tx)"
   ]
  },
  {
   "cell_type": "code",
   "execution_count": null,
   "metadata": {},
   "outputs": [],
   "source": [
    "# ridge regression to choose smaller weights (the simpler the model the better)\n",
    "lambda_ = 0.02 # how to properly choose lambda?\n",
    "ridge_regression(y, tx, lambda_)"
   ]
  },
  {
   "cell_type": "code",
   "execution_count": null,
   "metadata": {},
   "outputs": [],
   "source": [
    "# logistic regression (it is gradient descent with a different loss function)\n",
    "from helpers import sample_data, load_data\n",
    "from plots import visualization\n",
    "\n",
    "# load data.\n",
    "height, weight, gender = load_data()\n",
    "\n",
    "# build sampled x and y.\n",
    "seed = 1\n",
    "y = np.expand_dims(gender, axis=1)\n",
    "X = np.c_[height.reshape(-1), weight.reshape(-1)]\n",
    "y, X = sample_data(y, X, seed, size_samples=200)\n",
    "x, mean_x, std_x = standardize(X)\n",
    "\n",
    "tx = build_poly(x, 1)\n",
    "initial_w = np.ones(tx.shape[1])\n",
    "max_iters = 50\n",
    "gamma = 0.2\n",
    "minloss, w = gradient_descent(y, tx, initial_w, max_iters, gamma, batch_size=-1, print_output=False, plot_losses=True, costfunc=CostFunction.PROB)\n",
    "# w = np.array(w).reshape(-1, 1)\n",
    "visualization(y, x, mean_x, std_x, w, \"classification_by_least_square\")\n",
    "minloss, w"
   ]
  },
  {
   "cell_type": "code",
   "execution_count": null,
   "metadata": {},
   "outputs": [],
   "source": [
    "tes_std, _, _ = standardize(data_te)\n",
    "tx_std =  build_poly(tes_std, 1)\n",
    "\n",
    "print(tx_std.shape)\n",
    "predict_labels(w, tx_std)"
   ]
  },
  {
   "cell_type": "markdown",
   "metadata": {},
   "source": [
    "## Cross validation example (with ridge regression)"
   ]
  },
  {
   "cell_type": "code",
   "execution_count": 53,
   "metadata": {},
   "outputs": [
    {
     "data": {
      "text/plain": [
       "<matplotlib.figure.Figure at 0x7f75fb186438>"
      ]
     },
     "metadata": {},
     "output_type": "display_data"
    },
    {
     "data": {
      "image/png": "[encoded data removed]",
      "text/plain": [
       "<matplotlib.figure.Figure at 0x7f75fb6a5198>"
      ]
     },
     "metadata": {},
     "output_type": "display_data"
    }
   ],
   "source": [
    "# just show how the function cross_validation_visualization works\n",
    "set1 = np.array([[0.65, 0.9], [0.7, 0.8], [0.7, 0.7]])\n",
    "set2 =  np.array([[0.7, 0.6], [0.9, 1], [0.8, 0.8]])\n",
    "degrees = np.array([1, 2, 3])\n",
    "lambdas = np.array([0.1, 0.5])\n",
    "cross_validation_visualization(set1, set2, degrees, lambdas, \"lambda (ridge_regression)\", log_axis_x=False)"
   ]
  },
  {
   "cell_type": "code",
   "execution_count": 2,
   "metadata": {},
   "outputs": [
    {
     "data": {
      "text/plain": [
       "((250000,), (250000, 30))"
      ]
     },
     "execution_count": 2,
     "metadata": {},
     "output_type": "execute_result"
    }
   ],
   "source": [
    "# just load the train data set\n",
    "data_path = \"../dataset/train.csv\"\n",
    "y, x_raw, col_labels = load_csv_data(data_path, sub_sample=False)\n",
    "\n",
    "x, mean_x, std_x = standardize(x_raw)\n",
    "y.shape, x.shape"
   ]
  },
  {
   "cell_type": "code",
   "execution_count": 16,
   "metadata": {},
   "outputs": [],
   "source": [
    "# num_sets: number of sets in which the dataset will be splitted to run the cross validation\n",
    "# degree_list: list of degree to be tried\n",
    "# lambdas: list of lambdas to be tried \n",
    "def cross_validation_ridge_regression(x, y, num_K_sets, degree_list, lambdas):\n",
    "    seed = 2\n",
    "    \n",
    "    # split indices in k sets\n",
    "    k_indices = build_k_indices(y, num_K_sets, seed)\n",
    "    \n",
    "    ratio_tr = [] # matrix success ratio obtained with the training sets\n",
    "    ratio_te = [] # matrix success ratio obtained with the test sets\n",
    "\n",
    "    # define lists to store the loss of training data and test data\n",
    "    for nfigure, degree in enumerate(degree_list): # one figure per degree\n",
    "        tx = build_poly(x, degree) \n",
    "        \n",
    "        # one row (figure) per degree\n",
    "        ratio_tr.append([])\n",
    "        ratio_te.append([])\n",
    "        \n",
    "        for npoint, lambda_ in enumerate(lambdas):\n",
    "            # for each lambda we compute the expected ratio of success (this will be the a point in the figure)\n",
    "            ratio_tr[nfigure].append(0)\n",
    "            ratio_te[nfigure].append(0)\n",
    "            \n",
    "            for k_curr in range(num_K_sets):\n",
    "                train, test = get_kth_set(y, tx, k_indices, k_curr)\n",
    "                # train the model, just line should change depending on the chosen training \n",
    "                _, w = ridge_regression(train.y, train.tx, lambda_)\n",
    "                \n",
    "#                 # gradient descent\n",
    "#                 initial_w = np.zeros(tx.shape[1])\n",
    "#                 max_iters = 50\n",
    "#                 gamma = lambda_\n",
    "#                 _, w = gradient_descent(train.y, train.tx, initial_w, max_iters, gamma, batch_size=-1, print_output=False, plot_losses=False, costfunc=CostFunction.MSE)\n",
    "                \n",
    "                # compute how good is the model\n",
    "                ratio_tr[nfigure][npoint] += compute_loss(train.y, train.tx, w, costfunc=CostFunction.SUCCESS_RATIO)\n",
    "                ratio_te[nfigure][npoint] += compute_loss(test.y, test.tx, w, costfunc=CostFunction.SUCCESS_RATIO)\n",
    "            \n",
    "            # average the ratio obtained with the cross validation\n",
    "            ratio_tr[nfigure][npoint] /= num_K_sets\n",
    "            ratio_te[nfigure][npoint] /= num_K_sets\n",
    "            \n",
    "    ratio_tr = np.array(ratio_tr)\n",
    "    ratio_te = np.array(ratio_te)\n",
    "    \n",
    "#     print(ratio_tr.shape) # #degree x #lambdas\n",
    "#     print(ratio_te.shape)\n",
    "#     print(degrees.shape)\n",
    "#     print(lambdas.shape)\n",
    "    \n",
    "    return ratio_tr, ratio_te"
   ]
  },
  {
   "cell_type": "code",
   "execution_count": 17,
   "metadata": {},
   "outputs": [
    {
     "name": "stdout",
     "output_type": "stream",
     "text": [
      "151096\n",
      "37731\n",
      "150742\n",
      "37582\n",
      "150252\n",
      "37540\n",
      "151045\n",
      "37721\n",
      "150020\n",
      "37534\n",
      "131476\n",
      "32860\n",
      "131512\n",
      "32823\n",
      "131419\n",
      "32916\n",
      "131487\n",
      "32848\n",
      "131446\n",
      "32889\n",
      "131476\n",
      "32859\n",
      "131512\n",
      "32823\n",
      "131419\n",
      "32916\n",
      "131487\n",
      "32848\n",
      "131446\n",
      "32889\n",
      "155268\n",
      "38762\n",
      "155416\n",
      "38809\n",
      "155352\n",
      "38794\n",
      "155274\n",
      "38852\n",
      "155166\n",
      "38858\n",
      "139591\n",
      "34952\n",
      "139628\n",
      "34801\n",
      "139680\n",
      "34975\n",
      "139832\n",
      "34960\n",
      "139474\n",
      "34921\n",
      "139850\n",
      "35031\n",
      "139844\n",
      "34852\n",
      "139977\n",
      "35063\n",
      "140194\n",
      "35061\n",
      "139863\n",
      "34956\n",
      "157286\n",
      "39348\n",
      "157344\n",
      "39323\n",
      "157382\n",
      "39273\n",
      "157444\n",
      "39378\n",
      "157483\n",
      "39296\n",
      "138230\n",
      "34550\n",
      "138528\n",
      "34552\n",
      "138139\n",
      "34627\n",
      "138227\n",
      "34531\n",
      "138083\n",
      "34556\n",
      "138988\n",
      "34720\n",
      "139244\n",
      "34715\n",
      "138931\n",
      "34799\n",
      "138948\n",
      "34707\n",
      "138786\n",
      "34763\n"
     ]
    },
    {
     "data": {
      "text/plain": [
       "<matplotlib.figure.Figure at 0x7f0a8ff802b0>"
      ]
     },
     "metadata": {},
     "output_type": "display_data"
    },
    {
     "data": {
      "image/png": "[encoded data removed]",
      "text/plain": [
       "<matplotlib.figure.Figure at 0x7f0a8fed81d0>"
      ]
     },
     "metadata": {},
     "output_type": "display_data"
    },
    {
     "data": {
      "text/plain": [
       "((3, 3), (3, 3))"
      ]
     },
     "execution_count": 17,
     "metadata": {},
     "output_type": "execute_result"
    }
   ],
   "source": [
    "# the lambda of the ridge regression does not affect mush the model\n",
    "nlambdas = 3\n",
    "lambdas = np.linspace(0, 1000, nlambdas)\n",
    "\n",
    "num_K_sets = 5\n",
    "degree_list = [2, 3, 4]\n",
    "\n",
    "ratio_tr, ratio_te = cross_validation_ridge_regression(x, y, num_K_sets, degree_list, lambdas)\n",
    "\n"
   ]
  },
  {
   "cell_type": "code",
   "execution_count": 18,
   "metadata": {},
   "outputs": [
    {
     "data": {
      "text/plain": [
       "<matplotlib.figure.Figure at 0x7f0a900e97f0>"
      ]
     },
     "metadata": {},
     "output_type": "display_data"
    },
    {
     "data": {
      "image/png": "[encoded data removed]",
      "text/plain": [
       "<matplotlib.figure.Figure at 0x7f0a900e9940>"
      ]
     },
     "metadata": {},
     "output_type": "display_data"
    },
    {
     "data": {
      "text/plain": [
       "((3, 3), (3, 3))"
      ]
     },
     "execution_count": 18,
     "metadata": {},
     "output_type": "execute_result"
    }
   ],
   "source": [
    "# there is A LOT of data => there is no overfitting => the training error is close to the test error => it does\n",
    "# not makes sense to do the cross validation (just use the whole set to train the data and compute the \n",
    "# SUCCESS_RATIO on the training data)\n",
    "cross_validation_visualization(ratio_tr, ratio_te, degree_list, lambdas, \"lambda (ridge_regression)\")\n",
    "\n",
    "ratio_tr.shape, ratio_te.shape"
   ]
  },
  {
   "cell_type": "code",
   "execution_count": 3,
   "metadata": {},
   "outputs": [
    {
     "name": "stderr",
     "output_type": "stream",
     "text": [
      "/home/niccolo/anaconda3/envs/ada/lib/python3.6/site-packages/numpy/ma/core.py:6592: RuntimeWarning: overflow encountered in power\n",
      "  result = np.where(m, fa, umath.power(fa, fb)).view(basetype)\n"
     ]
    },
    {
     "name": "stdout",
     "output_type": "stream",
     "text": [
      "(50000,)\n",
      "(50000,)\n",
      "0.6282\n"
     ]
    },
    {
     "data": {
      "image/png": "[encoded data removed]",
      "text/plain": [
       "<matplotlib.figure.Figure at 0x7f0a90c6f3c8>"
      ]
     },
     "metadata": {},
     "output_type": "display_data"
    }
   ],
   "source": [
    "k_indices = build_k_indices(y, 5, 4)\n",
    "tx = build_poly(x, 3) \n",
    "\n",
    "train, test = get_kth_set(y, tx, k_indices, 1)\n",
    "\n",
    "initial_w = np.zeros(tx.shape[1])\n",
    "max_iters = 50\n",
    "gamma = 0.01\n",
    "\n",
    "_, w = gradient_descent(test.y, test.tx, initial_w, max_iters, gamma, batch_size=-1, \n",
    "                        print_output=False, plot_losses=True, costfunc=CostFunction.MSE)\n",
    "print(compute_loss(test.y, test.tx, w, costfunc=CostFunction.SUCCESS_RATIO))"
   ]
  },
  {
   "cell_type": "code",
   "execution_count": 4,
   "metadata": {},
   "outputs": [
    {
     "data": {
      "text/plain": [
       "array([[ 0.46141372,  0.06833197,  0.40768027, ...,  1.5668    ,\n",
       "         1.55858439,  0.4125105 ],\n",
       "       [ 0.51670419,  0.55250482,  0.54013641, ..., -0.63936657,\n",
       "        -0.63936694, -0.27381996],\n",
       "       [-2.33785898,  3.19515553,  1.09655998, ..., -0.63936657,\n",
       "        -0.63936694, -0.29396985],\n",
       "       ..., \n",
       "       [ 0.38016991,  0.31931645, -0.13086367, ..., -0.63936657,\n",
       "        -0.63936694, -0.31701723],\n",
       "       [ 0.35431502, -0.84532397, -0.30297338, ..., -0.63936657,\n",
       "        -0.63936694, -0.74543941],\n",
       "       [-2.33785898,  0.66533608, -0.25352276, ..., -0.63936657,\n",
       "        -0.63936694, -0.74543941]])"
      ]
     },
     "execution_count": 4,
     "metadata": {},
     "output_type": "execute_result"
    }
   ],
   "source": [
    "x"
   ]
  }
 ],
 "metadata": {
  "kernelspec": {
   "display_name": "Python [default]",
   "language": "python",
   "name": "python3"
  },
  "language_info": {
   "codemirror_mode": {
    "name": "ipython",
    "version": 3
   },
   "file_extension": ".py",
   "mimetype": "text/x-python",
   "name": "python",
   "nbconvert_exporter": "python",
   "pygments_lexer": "ipython3",
   "version": "3.6.2"
  }
 },
 "nbformat": 4,
 "nbformat_minor": 2
}
