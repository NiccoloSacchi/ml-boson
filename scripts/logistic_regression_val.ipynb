{
 "cells": [
  {
   "cell_type": "code",
   "execution_count": 1,
   "metadata": {
    "collapsed": true
   },
   "outputs": [],
   "source": [
    "# Useful starting lines\n",
    "%matplotlib inline\n",
    "\n",
    "import numpy as np\n",
    "import matplotlib.pyplot as plt\n",
    "from plots import visualization\n",
    "from implementations import *\n",
    "from proj1_helpers import *\n",
    "from helpers import equalize_predictions\n",
    "\n",
    "%load_ext autoreload\n",
    "%autoreload 2"
   ]
  },
  {
   "cell_type": "code",
   "execution_count": 2,
   "metadata": {},
   "outputs": [
    {
     "data": {
      "text/plain": [
       "((500, 1), (500, 2))"
      ]
     },
     "execution_count": 2,
     "metadata": {},
     "output_type": "execute_result"
    }
   ],
   "source": [
    "from helpers_ex5 import sample_data, load_data \n",
    "# load data.\n",
    "height, weight, gender = load_data()\n",
    "\n",
    "# build sampled x and y.\n",
    "seed = 1\n",
    "y = np.expand_dims(gender, axis=1)\n",
    "X = np.c_[height.reshape(-1), weight.reshape(-1)]\n",
    "y, X = sample_data(y, X, seed, size_samples=500)\n",
    "x, mean_x, std_x = standardize(X)\n",
    "y.shape, x.shape"
   ]
  },
  {
   "cell_type": "code",
   "execution_count": 3,
   "metadata": {},
   "outputs": [
    {
     "data": {
      "text/plain": [
       "((500, 1), (500, 3))"
      ]
     },
     "execution_count": 3,
     "metadata": {},
     "output_type": "execute_result"
    }
   ],
   "source": [
    "y_sub = y\n",
    "x_sub = build_poly(x, 1)\n",
    "y_sub.shape, x_sub.shape"
   ]
  },
  {
   "cell_type": "markdown",
   "metadata": {},
   "source": [
    "## 1. Load boson data "
   ]
  },
  {
   "cell_type": "code",
   "execution_count": 4,
   "metadata": {},
   "outputs": [
    {
     "data": {
      "text/plain": [
       "((250000, 1), (250000, 30))"
      ]
     },
     "execution_count": 4,
     "metadata": {},
     "output_type": "execute_result"
    }
   ],
   "source": [
    "# just load the training dataset\n",
    "data_path = \"../dataset/train.csv\"\n",
    "y_loaded, x_loaded, ids_te = load_csv_data(data_path, sub_sample=False)\n",
    "y_loaded = y_loaded.reshape((-1, 1))\n",
    "y_loaded.shape, x_loaded.shape"
   ]
  },
  {
   "cell_type": "code",
   "execution_count": 5,
   "metadata": {},
   "outputs": [
    {
     "ename": "NameError",
     "evalue": "name 'keptCols' is not defined",
     "output_type": "error",
     "traceback": [
      "\u001b[1;31m---------------------------------------------------------------------------\u001b[0m",
      "\u001b[1;31mNameError\u001b[0m                                 Traceback (most recent call last)",
      "\u001b[1;32m<ipython-input-5-9e5c13f727c4>\u001b[0m in \u001b[0;36m<module>\u001b[1;34m()\u001b[0m\n\u001b[0;32m      1\u001b[0m \u001b[0mname\u001b[0m \u001b[1;33m=\u001b[0m \u001b[1;34m\"PRI_jet_all_pt\"\u001b[0m \u001b[1;31m#\"PRI_jet_num\"\u001b[0m\u001b[1;33m\u001b[0m\u001b[0m\n\u001b[1;32m----> 2\u001b[1;33m \u001b[0mnp\u001b[0m\u001b[1;33m.\u001b[0m\u001b[0mwhere\u001b[0m\u001b[1;33m(\u001b[0m\u001b[0mkeptCols\u001b[0m \u001b[1;33m==\u001b[0m \u001b[0mname\u001b[0m\u001b[1;33m)\u001b[0m\u001b[1;33m,\u001b[0m \u001b[0mnp\u001b[0m\u001b[1;33m.\u001b[0m\u001b[0mwhere\u001b[0m\u001b[1;33m(\u001b[0m\u001b[0mcolumn_labels\u001b[0m\u001b[1;33m(\u001b[0m\u001b[1;33m)\u001b[0m \u001b[1;33m==\u001b[0m \u001b[0mname\u001b[0m\u001b[1;33m)\u001b[0m\u001b[1;33m\u001b[0m\u001b[0m\n\u001b[0m",
      "\u001b[1;31mNameError\u001b[0m: name 'keptCols' is not defined"
     ]
    }
   ],
   "source": [
    "name = \"PRI_jet_all_pt\" #\"PRI_jet_num\"\n",
    "np.where(keptCols == name), np.where(column_labels() == name)"
   ]
  },
  {
   "cell_type": "code",
   "execution_count": null,
   "metadata": {
    "collapsed": true
   },
   "outputs": [],
   "source": [
    "(x_loaded[np.where(y_loaded == +1), 29] == 0).sum()"
   ]
  },
  {
   "cell_type": "code",
   "execution_count": null,
   "metadata": {
    "collapsed": true
   },
   "outputs": [],
   "source": []
  },
  {
   "cell_type": "markdown",
   "metadata": {},
   "source": [
    "## 2. Clean data"
   ]
  },
  {
   "cell_type": "code",
   "execution_count": null,
   "metadata": {
    "collapsed": true
   },
   "outputs": [],
   "source": [
    "# decide the maximum correlation between the columns\n",
    "corr = 0.7\n",
    "# clean the input features\n",
    "x_all, keptCols = clean_x(x_loaded, corr, subs_func=np.nanmean, bool_col=True)\n",
    "y_all = y_loaded.copy()\n",
    "y_all[y_all== -1] = 0\n",
    "\n",
    "# extract a subsample for the training\n",
    "subsample = 50000\n",
    "indices = np.random.RandomState(seed = 6).permutation(y_all.shape[0]) # get always the same random array\n",
    "x_sub, y_sub = x_all[indices[:subsample]], y_all[indices[:subsample]]\n",
    "\n",
    "x_sub.shape, y_sub.shape, x_all.shape, y_all.shape, keptCols.shape"
   ]
  },
  {
   "cell_type": "markdown",
   "metadata": {},
   "source": [
    "## 2.5 Possibily load previously obtained weights"
   ]
  },
  {
   "cell_type": "code",
   "execution_count": null,
   "metadata": {
    "collapsed": true
   },
   "outputs": [],
   "source": [
    "file_path = \"../miscellanea/best_weights/logistic_regression_17_columns_degree9_bool_col3_mean/weights\"\n",
    "obj_text = codecs.open(file_path, 'r', encoding='utf-8').read()\n",
    "w = np.array(json.loads(obj_text))\n",
    "w.shape"
   ]
  },
  {
   "cell_type": "markdown",
   "metadata": {},
   "source": [
    "### 2.9 Choose the degree and set the gamma"
   ]
  },
  {
   "cell_type": "code",
   "execution_count": null,
   "metadata": {
    "collapsed": true
   },
   "outputs": [],
   "source": [
    "# choose degree\n",
    "degree = 8\n",
    "tx_sub = build_poly(x_sub, degree)\n",
    "tx_all = build_poly(x_all, degree)\n",
    "tx_sub.shape, y_sub.shape"
   ]
  },
  {
   "cell_type": "code",
   "execution_count": null,
   "metadata": {
    "collapsed": true
   },
   "outputs": [],
   "source": [
    "ncolumns = x_sub.shape[1]\n",
    "\n",
    "# 50000 data, 14 columns, 999=mean, 0=mean\n",
    "gamma = np.concatenate([\n",
    "     # gamma for constant and 1st degree \n",
    "    np.ones(ncolumns+1)*1e-5,\n",
    "    # gammma 2nd degree\n",
    "    np.ones(ncolumns)*1e-6, \n",
    "    # gamma for 3rd degree \n",
    "    np.ones(ncolumns)*1e-7,\n",
    "    # gamma for 4th degree\n",
    "    np.ones(ncolumns)*1e-10,\n",
    "    # gamma for 5th degree\n",
    "    np.ones(ncolumns)*1e-12,\n",
    "    # gamma for 6th degree\n",
    "    np.ones(ncolumns)*1e-15,\n",
    "    # gamma for 7th degree \n",
    "    np.ones(ncolumns)*1e-17,\n",
    "    # gamma for 8th degree \n",
    "    np.ones(ncolumns)*1e-20,\n",
    "#     # gamma for 9th degree \n",
    "#     np.ones(ncolumns)*1e-24,\n",
    "#     # gamma for 10th degree \n",
    "#     np.ones(ncolumns)*1e-24,\n",
    "#     # gamma for 11th degree \n",
    "#     np.ones(ncolumns)*1e-28,\n",
    "])\\\n",
    ".reshape((-1, 1))*0.5\n",
    "gamma.shape"
   ]
  },
  {
   "cell_type": "markdown",
   "metadata": {},
   "source": [
    "## 3. Train the model"
   ]
  },
  {
   "cell_type": "markdown",
   "metadata": {},
   "source": [
    "### Logistic Regression"
   ]
  },
  {
   "cell_type": "code",
   "execution_count": null,
   "metadata": {
    "collapsed": true
   },
   "outputs": [],
   "source": [
    "def sigmoid(t):\n",
    "    \"\"\"apply sigmoid function on t.\"\"\"\n",
    "    return 1.0 / (1 + np.exp(-t))"
   ]
  },
  {
   "cell_type": "code",
   "execution_count": null,
   "metadata": {
    "collapsed": true
   },
   "outputs": [],
   "source": [
    "def calculate_loss(y, tx, w):\n",
    "    \"\"\"compute the cost by negative log likelihood.\"\"\"\n",
    "    pred = sigmoid(tx @ w)\n",
    "    loss = y.T @ (np.log(pred)) + (1 - y).T @ (np.log(1 - pred))\n",
    "#     print((1 - y).T @ (np.log(1 - pred)))\n",
    "    return np.squeeze(- loss) "
   ]
  },
  {
   "cell_type": "code",
   "execution_count": null,
   "metadata": {
    "collapsed": true
   },
   "outputs": [],
   "source": [
    "def calculate_gradient(y, tx, w):\n",
    "    \"\"\"compute the gradient of loss.\"\"\"\n",
    "    pred = sigmoid(tx @ w)\n",
    "    \n",
    "    grad = tx.T @ (pred - y)\n",
    "    return grad"
   ]
  },
  {
   "cell_type": "code",
   "execution_count": null,
   "metadata": {
    "collapsed": true
   },
   "outputs": [],
   "source": [
    "def learning_by_gradient_descent(y, tx, w, gamma):\n",
    "    \"\"\"\n",
    "    Do one step of gradient descen using logistic regression.\n",
    "    Return the loss and the updated w.\n",
    "    \"\"\"\n",
    "    #loss = calculate_loss(y, tx, w) \n",
    "    loss = -1\n",
    "    grad = calculate_gradient(y, tx, w)\n",
    "    w -= gamma * grad\n",
    "    return loss, w"
   ]
  },
  {
   "cell_type": "code",
   "execution_count": null,
   "metadata": {
    "collapsed": true
   },
   "outputs": [],
   "source": [
    "def logistic_regression_gradient_descent_demo(y, tx, gamma_, initial_w = np.array([])):\n",
    "    # init parameters\n",
    "    max_iter = 1000\n",
    "    threshold = 1e-8\n",
    "    gamma = gamma_\n",
    "    losses = []\n",
    "    succ_ratio_test = -1\n",
    "    w = initial_w\n",
    "    if initial_w.size == 0:\n",
    "        w = np.zeros((tx.shape[1], 1))\n",
    "    \n",
    "    lowest_loss = float('Inf')\n",
    "    best_w = -1\n",
    "    \n",
    "#     succ_ratios_test = []\n",
    "#     succ_ratios_train = []\n",
    "    \n",
    "    # start the logistic regression\n",
    "    for iter in range(max_iter):\n",
    "        # get loss and update w.\n",
    "        loss, w = learning_by_gradient_descent(y, tx, w, gamma)\n",
    "        \n",
    "        #gamma /= 1.002\n",
    "        loss = 1 - compute_loss(y_all, tx_all, w, costfunc=CostFunction.SUCCESS_RATIO)\n",
    "        if loss < lowest_loss: # loss < lowest_loss\n",
    "            print(1-loss, \"!!\")\n",
    "            lowest_loss = loss # loss\n",
    "            best_w = w\n",
    "            \n",
    "        # log info\n",
    "        if iter % 100 == 0:\n",
    "#             succ_ratio_test = compute_loss(y_all, tx_all, w, costfunc=CostFunction.SUCCESS_RATIO)\n",
    "#             succ_ratios_test.append(succ_ratio_test)\n",
    "#             plt.scatter([iter], [succ_ratio], color= \"red\")\n",
    "#             succ_ratio_train = compute_loss(y, tx, w, costfunc=CostFunction.SUCCESS_RATIO)\n",
    "#             succ_ratios_train.append(succ_ratio_train)\n",
    "#             plt.scatter([iter], [succ_ratio_test], color=\"blue\")\n",
    "            print(\"Current iteration={i}, loss={l}, prediction={pred}\".format(i=iter, l=1-loss, pred=succ_ratio_test))\n",
    "            \n",
    "#         # converge criterion\n",
    "#         losses.append(loss)\n",
    "#         if len(losses) > 1 and np.abs(losses[-1] - losses[-2]) < threshold:\n",
    "#             break\n",
    "            \n",
    "    succ_ratio_test = compute_loss(y_all, tx_all, w, costfunc=CostFunction.SUCCESS_RATIO)\n",
    "#     succ_ratios_test.append(succ_ratio_test)\n",
    "# #             plt.scatter([iter], [succ_ratio], color= \"red\")\n",
    "#     succ_ratio_train = compute_loss(y, tx, w, costfunc=CostFunction.SUCCESS_RATIO)\n",
    "#     succ_ratios_train.append(succ_ratio_train)\n",
    "    print(\"Current iteration={i}, loss={l}, prediction={pred}\".format(i=iter, l=loss, pred=succ_ratio_test))\n",
    "    \n",
    "    # visualization\n",
    "    # visualization(y, x[:, 1:], mean_x, std_x, w, \"classification_by_logistic_regression_gradient_descent\")\n",
    "    #print(\"loss={l}\".format(l=calculate_loss(y, tx, w)))\n",
    "    \n",
    "#     plt.legend([\"train\", \"test\"])\n",
    "#     plt.title([\"if train >> test => overfitting!\"])     \n",
    "#     plt.show()\n",
    "    return best_w #, succ_ratio_test, succ_ratio_train"
   ]
  },
  {
   "cell_type": "code",
   "execution_count": null,
   "metadata": {
    "collapsed": true,
    "scrolled": true
   },
   "outputs": [],
   "source": [
    "# w, s_te, s_tr \n",
    "for i in range(100):\n",
    "    w = logistic_regression_gradient_descent_demo(y_sub, tx_sub, gamma, w)"
   ]
  },
  {
   "cell_type": "code",
   "execution_count": null,
   "metadata": {
    "collapsed": true
   },
   "outputs": [],
   "source": [
    "# bruteforce\n",
    "y_correct = y_.copy()\n",
    "y_correct[y_correct== 0] = -1\n",
    "\n",
    "best_ratio = 0\n",
    "best_w = -1\n",
    "gammas = np.logspace(-20, -15, 10)\n",
    "bests = []\n",
    "for degree in range(4, 18):\n",
    "    tx_ = build_poly(x_, degree)\n",
    "    for gamma in gammas:\n",
    "        w = logistic_regression_gradient_descent_demo(y_, tx_, gamma)\n",
    "        suc_ratio = compute_loss(y_correct, tx_, w, costfunc=CostFunction.SUCCESS_RATIO)\n",
    "        if suc_ratio > 0.75:\n",
    "            print(\"degree:\", degree, \", gamma:\", gamma, \", weigths:\", w, \", succ_ratio:\", suc_ratio)\n",
    "            bests.append({\"degree\":degree, \"gamma\": gamma, \"weigths\": w, \"succ_ratio\": suc_ratio})"
   ]
  },
  {
   "cell_type": "code",
   "execution_count": null,
   "metadata": {
    "collapsed": true
   },
   "outputs": [],
   "source": [
    "# for index, i in enumerate(bests):\n",
    "#     if i[\"succ_ratio\"] > 0.78:\n",
    "#         print(index)\n",
    "# bests[4]"
   ]
  },
  {
   "cell_type": "code",
   "execution_count": null,
   "metadata": {
    "collapsed": true
   },
   "outputs": [],
   "source": [
    "compute_loss(y_all, tx_all, w, costfunc=CostFunction.SUCCESS_RATIO)"
   ]
  },
  {
   "cell_type": "markdown",
   "metadata": {},
   "source": [
    "### logistic regression with cross validation"
   ]
  },
  {
   "cell_type": "code",
   "execution_count": null,
   "metadata": {
    "collapsed": true
   },
   "outputs": [],
   "source": [
    "def log_reg_batch(y, tx, gamma_, initial_w = np.array([])):\n",
    "    # init parameters\n",
    "    max_iter = 10000\n",
    "    threshold = 1e-8\n",
    "    gamma = gamma_\n",
    "    losses = []\n",
    "    \n",
    "#     seed = 2\n",
    "    k_sets = 5\n",
    "#     k_indices = build_k_indices(y, k_sets, seed)\n",
    "#     train=[]\n",
    "#     test=[]\n",
    "#     for i in range(k_sets):\n",
    "#         tr, te = get_kth_set(y_all, tx_all, k_indices, i)\n",
    "#         train.append(tr)\n",
    "#         test.append(te)\n",
    "    \n",
    "    w = initial_w\n",
    "    if initial_w.size == 0:\n",
    "        w = np.zeros((tx.shape[1], 1))\n",
    "\n",
    "    lowest_loss = float('Inf')\n",
    "    best_w = -1\n",
    "    \n",
    "#     succ_ratios_test = []\n",
    "#     succ_ratios_train = []\n",
    "    \n",
    "    # start the logistic regression\n",
    "    for iter in range(max_iter):\n",
    "        k_curr = iter % k_sets\n",
    "        from_ = k_curr*50000\n",
    "        to_ = (k_curr+1)*50000\n",
    "        \n",
    "        # get loss and update w.\n",
    "        loss, w = learning_by_gradient_descent(y[from_:to_], tx[from_:to_], w, gamma)\n",
    "        \n",
    "        #gamma /= 1.002\n",
    "#         succ_ratio = 1 - compute_loss(y_correct, tx, w, costfunc=CostFunction.SUCCESS_RATIO)\n",
    "        if loss < lowest_loss: # loss < lowest_loss\n",
    "            lowest_loss = loss # loss\n",
    "            best_w = w\n",
    "            \n",
    "        # log info\n",
    "        if iter % 100 == 0:\n",
    "            succ_ratio_test = compute_loss(y, tx, w, costfunc=CostFunction.SUCCESS_RATIO)\n",
    "#             succ_ratios_test.append(succ_ratio_test)\n",
    "#             plt.scatter([iter], [succ_ratio], color= \"red\")\n",
    "#             succ_ratio_train = compute_loss(y, tx, w, costfunc=CostFunction.SUCCESS_RATIO)\n",
    "#             succ_ratios_train.append(succ_ratio_train)\n",
    "#             plt.scatter([iter], [succ_ratio_test], color=\"blue\")\n",
    "            print(\"Current iteration={i}, loss={l}, prediction={pred}\".format(i=iter, l=loss, pred=succ_ratio_test))\n",
    "            \n",
    "        # converge criterion\n",
    "        losses.append(loss)\n",
    "        if len(losses) > 1 and np.abs(losses[-1] - losses[-2]) < threshold:\n",
    "            break\n",
    "            \n",
    "    succ_ratio_test = compute_loss(y, tx, w, costfunc=CostFunction.SUCCESS_RATIO)\n",
    "#     succ_ratios_test.append(succ_ratio_test)\n",
    "# #             plt.scatter([iter], [succ_ratio], color= \"red\")\n",
    "#     succ_ratio_train = compute_loss(y, tx, w, costfunc=CostFunction.SUCCESS_RATIO)\n",
    "#     succ_ratios_train.append(succ_ratio_train)\n",
    "    print(\"Current iteration={i}, loss={l}, prediction={pred}\".format(i=iter, l=loss, pred=succ_ratio_test))\n",
    "    \n",
    "    # visualization\n",
    "    # visualization(y, x[:, 1:], mean_x, std_x, w, \"classification_by_logistic_regression_gradient_descent\")\n",
    "    #print(\"loss={l}\".format(l=calculate_loss(y, tx, w)))\n",
    "    \n",
    "#     plt.legend([\"train\", \"test\"])\n",
    "#     plt.title([\"if train >> test => overfitting!\"])     \n",
    "#     plt.show()\n",
    "    return best_w #, succ_ratio_test, succ_ratio_train"
   ]
  },
  {
   "cell_type": "code",
   "execution_count": null,
   "metadata": {
    "collapsed": true
   },
   "outputs": [],
   "source": [
    "# w = logistic_regression_penalized_gradient_descent_demo(y_sub, tx_sub, gamma)# w)\n",
    "w = log_reg_batch(y_all, tx_all, gamma)#, w)"
   ]
  },
  {
   "cell_type": "markdown",
   "metadata": {},
   "source": [
    "### Store the current found weigths"
   ]
  },
  {
   "cell_type": "code",
   "execution_count": null,
   "metadata": {
    "collapsed": true
   },
   "outputs": [],
   "source": [
    "file_path = \"weigths\"\n",
    "json.dump(w.tolist(), codecs.open(file_path, 'w', encoding='utf-8'), separators=(',', ':'), sort_keys=True, indent=4)"
   ]
  },
  {
   "cell_type": "markdown",
   "metadata": {},
   "source": [
    "### Penalized logistic regression"
   ]
  },
  {
   "cell_type": "code",
   "execution_count": null,
   "metadata": {
    "collapsed": true
   },
   "outputs": [],
   "source": [
    "def penalized_logistic_regression(y, tx, w, lambda_):\n",
    "    \"\"\"return the loss and gradient.\"\"\"\n",
    "    num_samples = y.shape[0]\n",
    "    #loss = calculate_loss(y, tx, w) + lambda_ * np.squeeze(w.T.dot(w))\n",
    "    loss = -1\n",
    "    gradient = calculate_gradient(y, tx, w) + 2 * lambda_ * w\n",
    "    return loss, gradient"
   ]
  },
  {
   "cell_type": "code",
   "execution_count": null,
   "metadata": {
    "collapsed": true
   },
   "outputs": [],
   "source": [
    "def learning_by_penalized_gradient(y, tx, w, gamma, lambda_):\n",
    "    \"\"\"\n",
    "    Do one step of gradient descent, using the penalized logistic regression.\n",
    "    Return the loss and updated w.\n",
    "    \"\"\"\n",
    "    loss, gradient = penalized_logistic_regression(y, tx, w, lambda_)\n",
    "    w -= gamma * gradient\n",
    "    return loss, w"
   ]
  },
  {
   "cell_type": "code",
   "execution_count": null,
   "metadata": {
    "collapsed": true
   },
   "outputs": [],
   "source": [
    "def log_reg_pen_batch(y, tx, gamma_, initial_w = np.array([])):\n",
    "    # init parameters\n",
    "    max_iter = 1000\n",
    "    lambda_ = 1\n",
    "    threshold = 1e-18\n",
    "    \n",
    "    gamma = gamma_\n",
    "    \n",
    "#     seed = 2\n",
    "#     k_sets = 5\n",
    "#     k_indices = build_k_indices_(y, k_sets)\n",
    "#     train=[]\n",
    "#     test=[]\n",
    "#     for i in range(k_sets):\n",
    "#         tr, te = get_kth_set(y_all, tx_all, k_indices, i)\n",
    "#         train.append(tr)\n",
    "#         test.append(te)\n",
    "    \n",
    "    losses = []\n",
    "    w = initial_w\n",
    "    if initial_w.size == 0:\n",
    "        w = np.zeros((tx.shape[1], 1))\n",
    "\n",
    "    lowest_loss = float('Inf')\n",
    "    best_w = -1\n",
    "    # start the logistic regression\n",
    "    for iter in range(max_iter):\n",
    "        # at each iteration take the next set\n",
    "        shuffle_indices = np.random.permutation(np.arange(y.shape[0]))\n",
    "        y_train = y[shuffle_indices[:50000]]\n",
    "        tx_train = tx[shuffle_indices[:50000]]\n",
    "\n",
    "        # get loss and update w.\n",
    "        loss, w = learning_by_penalized_gradient(y_train, tx_train, w, gamma, lambda_) # use test set which is smaller\n",
    "        \n",
    "        if loss < lowest_loss:\n",
    "            lowest_loss = loss\n",
    "            best_w = w\n",
    "            \n",
    "        # log info\n",
    "        if iter % 100 == 0:\n",
    "            succ_ratio_test = compute_loss(y_all, tx_all, w, costfunc=CostFunction.SUCCESS_RATIO)\n",
    "            print(\"Current iteration={i}, loss={l}, prediction={pred}\".format(i=iter, l=loss, pred=succ_ratio_test))\n",
    "        # converge criterion\n",
    "        losses.append(loss)\n",
    "        if len(losses) > 1 and np.abs(losses[-1] - losses[-2]) < threshold:\n",
    "            break\n",
    "\n",
    "    succ_ratio_test = compute_loss(y_all, tx_all, w, costfunc=CostFunction.SUCCESS_RATIO)\n",
    "    print(\"Current iteration={i}, loss={l}, prediction={pred}\".format(i=iter, l=loss, pred=succ_ratio_test))\n",
    "    \n",
    "    return best_w"
   ]
  },
  {
   "cell_type": "code",
   "execution_count": null,
   "metadata": {
    "collapsed": true
   },
   "outputs": [],
   "source": [
    "def logistic_regression_penalized_gradient_descent_demo(y, tx, gamma_, initial_w = np.array([])):\n",
    "    # init parameters\n",
    "    max_iter = 1000\n",
    "    lambda_ = 1\n",
    "    threshold = 1e-18\n",
    "    \n",
    "    gamma = gamma_\n",
    "    succ_ratio_test = -1\n",
    "    losses = []\n",
    "    w = initial_w\n",
    "    if initial_w.size == 0:\n",
    "        w = np.zeros((tx.shape[1], 1))\n",
    "\n",
    "    lowest_loss = float('Inf')\n",
    "    best_w = w\n",
    "    # start the logistic regression\n",
    "    for iter in range(max_iter):\n",
    "        # get loss and update w.\n",
    "        loss, w = learning_by_penalized_gradient(y, tx, w, gamma, lambda_)\n",
    "        \n",
    "        loss = 1-compute_loss(y_all, tx_all, w, costfunc=CostFunction.SUCCESS_RATIO)\n",
    "        if loss < lowest_loss:\n",
    "            print(1-loss, \"!!\")\n",
    "            lowest_loss = loss\n",
    "            best_w = w\n",
    "            \n",
    "        # log info\n",
    "        if iter % 100 == 0:\n",
    "            print(\"Current iteration={i}, loss={l}, prediction={pred}\".format(i=iter, l=1-loss, pred=succ_ratio_test))\n",
    "        # converge criterion\n",
    "        losses.append(loss)\n",
    "        if len(losses) > 1 and np.abs(losses[-1] - losses[-2]) < threshold:\n",
    "            break\n",
    "\n",
    "    loss = 1-compute_loss(y_all, tx_all, w, costfunc=CostFunction.SUCCESS_RATIO)\n",
    "    print(\"Current iteration={i}, loss={l}, prediction={pred}\".format(i=iter, l=1-loss, pred=succ_ratio_test))\n",
    "    \n",
    "    return best_w"
   ]
  },
  {
   "cell_type": "code",
   "execution_count": null,
   "metadata": {
    "collapsed": true
   },
   "outputs": [],
   "source": [
    "#w = logistic_regression_penalized_gradient_descent_demo(y_sub, tx_sub, gamma, w)\n",
    "w = logistic_regression_penalized_gradient_descent_demo(y_all[50000:100000], tx_all[50000:100000, :], gamma, w)\n",
    "# w = log_reg_pen_batch(y_all, tx_all, gamma)# w)"
   ]
  },
  {
   "cell_type": "code",
   "execution_count": null,
   "metadata": {
    "collapsed": true
   },
   "outputs": [],
   "source": [
    "w = w_curr_best.copy()"
   ]
  },
  {
   "cell_type": "code",
   "execution_count": null,
   "metadata": {
    "collapsed": true
   },
   "outputs": [],
   "source": [
    "w_curr_best = w.copy()"
   ]
  },
  {
   "cell_type": "code",
   "execution_count": null,
   "metadata": {
    "collapsed": true
   },
   "outputs": [],
   "source": [
    "compute_loss(y_all, tx_all, w, costfunc=CostFunction.SUCCESS_RATIO)"
   ]
  },
  {
   "cell_type": "markdown",
   "metadata": {},
   "source": [
    "## 4. Create submit file"
   ]
  },
  {
   "cell_type": "code",
   "execution_count": null,
   "metadata": {
    "collapsed": true
   },
   "outputs": [],
   "source": [
    "# load test dataset\n",
    "data_path = \"../dataset/test.csv\"\n",
    "y_te_loaded, x_te_loaded, ids_te = load_csv_data(data_path, sub_sample=False)\n",
    "y_te_loaded.shape, x_te_loaded.shape"
   ]
  },
  {
   "cell_type": "code",
   "execution_count": null,
   "metadata": {
    "collapsed": true
   },
   "outputs": [],
   "source": [
    "# clean in the same way of the trained set\n",
    "x_te, kept_cols = clean_x(x_te_loaded, corr, subs_func=np.nanmean, bool_col=True)\n",
    "x_te.shape"
   ]
  },
  {
   "cell_type": "code",
   "execution_count": null,
   "metadata": {
    "collapsed": true
   },
   "outputs": [],
   "source": [
    "# # remove also the columns with \"equal\" distribution\n",
    "# to_be_removed = np.where(np.isin(kept_cols, [\"PRI_tau_phi\", \"PRI_lep_phi\", \"PRI_met_phi\"])) # PRI_jet_num\n",
    "# x_te = np.delete(x_te, to_be_removed, axis=1)\n",
    "# x_te.shape"
   ]
  },
  {
   "cell_type": "code",
   "execution_count": null,
   "metadata": {
    "collapsed": true
   },
   "outputs": [],
   "source": [
    "# create the poly\n",
    "# degree = 8\n",
    "tx_te = build_poly(x_te, degree)\n",
    "\n",
    "# predict\n",
    "y_te_pred = predict_labels(w, tx_te)\n",
    "y_te_pred.shape, (y_te_pred==-1).sum(), (y_te_pred==1).sum()\n",
    "# ((568238, 1), 391856, 176382)"
   ]
  },
  {
   "cell_type": "code",
   "execution_count": null,
   "metadata": {
    "collapsed": true
   },
   "outputs": [],
   "source": [
    "# store the predictions\n",
    "create_csv_submission(ids_te, y_te_pred, \"logistic_regression_pen_18_columns_degree8_bool_col3_mean_PRI_jet_all_pt\")"
   ]
  }
 ],
 "metadata": {
  "anaconda-cloud": {},
  "kernelspec": {
   "display_name": "Python 3",
   "language": "python",
   "name": "python3"
  },
  "language_info": {
   "codemirror_mode": {
    "name": "ipython",
    "version": 3
   },
   "file_extension": ".py",
   "mimetype": "text/x-python",
   "name": "python",
   "nbconvert_exporter": "python",
   "pygments_lexer": "ipython3",
   "version": "3.6.1"
  }
 },
 "nbformat": 4,
 "nbformat_minor": 1
}
