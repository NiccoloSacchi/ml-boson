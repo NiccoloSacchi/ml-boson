{
 "cells": [
  {
   "cell_type": "code",
   "execution_count": null,
   "metadata": {},
   "outputs": [],
   "source": [
    "# Useful starting lines\n",
    "%matplotlib inline\n",
    "\n",
    "import numpy as np\n",
    "import matplotlib.pyplot as plt\n",
    "from plots import visualization\n",
    "from implementations import *\n",
    "from proj1_helpers import *\n",
    "from helpers import equalize_predictions\n",
    "\n",
    "%load_ext autoreload\n",
    "%autoreload 2"
   ]
  },
  {
   "cell_type": "code",
   "execution_count": null,
   "metadata": {},
   "outputs": [],
   "source": [
    "from helpers_ex5 import sample_data, load_data \n",
    "# load data.\n",
    "height, weight, gender = load_data()\n",
    "\n",
    "# build sampled x and y.\n",
    "seed = 1\n",
    "y = np.expand_dims(gender, axis=1)\n",
    "X = np.c_[height.reshape(-1), weight.reshape(-1)]\n",
    "y, X = sample_data(y, X, seed, size_samples=500)\n",
    "x, mean_x, std_x = standardize(X)\n",
    "y.shape, x.shape"
   ]
  },
  {
   "cell_type": "code",
   "execution_count": null,
   "metadata": {},
   "outputs": [],
   "source": [
    "y_sub = y\n",
    "x_sub = build_poly(x, 1)\n",
    "y_sub.shape, x_sub.shape"
   ]
  },
  {
   "cell_type": "markdown",
   "metadata": {},
   "source": [
    "## 1. Load boson data "
   ]
  },
  {
   "cell_type": "code",
   "execution_count": null,
   "metadata": {},
   "outputs": [],
   "source": [
    "# just load the training dataset\n",
    "data_path = \"../dataset/train.csv\"\n",
    "y_loaded, x_loaded, ids_te = load_csv_data(data_path, sub_sample=False)\n",
    "y_loaded = y_loaded.reshape((-1, 1))\n",
    "y_loaded.shape, x_loaded.shape"
   ]
  },
  {
   "cell_type": "code",
   "execution_count": null,
   "metadata": {},
   "outputs": [],
   "source": [
    "y_loaded.shape"
   ]
  },
  {
   "cell_type": "markdown",
   "metadata": {},
   "source": [
    "## 2. Clean data"
   ]
  },
  {
   "cell_type": "code",
   "execution_count": null,
   "metadata": {},
   "outputs": [],
   "source": [
    "# decide the maximum correlation between the columns\n",
    "corr = 0.7\n",
    "# clean the input features\n",
    "x_all, keptCols = clean_x(x_loaded, corr, np.nanmean)\n",
    "y_all = y_loaded.copy()\n",
    "y_all[y_all== -1] = 0\n",
    "\n",
    "# extract a subsample for the training\n",
    "subsample = 50000\n",
    "indices = np.random.RandomState(seed = 2).permutation(y_all.shape[0]) # get always the same random array\n",
    "x_sub, y_sub = x_all[indices[:subsample]], y_all[indices[:subsample]]\n",
    "\n",
    "x_sub.shape, y_sub.shape, x_all.shape, y_all.shape, keptCols"
   ]
  },
  {
   "cell_type": "code",
   "execution_count": null,
   "metadata": {},
   "outputs": [],
   "source": [
    "# remove also the columns with \"equal\" distribution\n",
    "to_be_removed = np.where(np.isin(keptCols, [\"PRI_tau_phi\", \"PRI_lep_phi\", \"PRI_met_phi\"])) # PRI_jet_num\n",
    "\n",
    "x_sub = np.delete(x_sub, to_be_removed, axis=1)\n",
    "x_all = np.delete(x_all, to_be_removed, axis=1)\n",
    "keptCols = np.delete(keptCols, to_be_removed)\n",
    "\n",
    "x_sub.shape, y_sub.shape, x_all.shape, y_all.shape, keptCols"
   ]
  },
  {
   "cell_type": "code",
   "execution_count": null,
   "metadata": {},
   "outputs": [],
   "source": [
    "x_sub.sum()"
   ]
  },
  {
   "cell_type": "markdown",
   "metadata": {},
   "source": [
    "## 3. Train the model"
   ]
  },
  {
   "cell_type": "markdown",
   "metadata": {},
   "source": [
    "### Logistic Regression"
   ]
  },
  {
   "cell_type": "code",
   "execution_count": null,
   "metadata": {},
   "outputs": [],
   "source": [
    "def sigmoid(t):\n",
    "    \"\"\"apply sigmoid function on t.\"\"\"\n",
    "    return 1.0 / (1 + np.exp(-t))"
   ]
  },
  {
   "cell_type": "code",
   "execution_count": null,
   "metadata": {},
   "outputs": [],
   "source": [
    "def calculate_loss(y, tx, w):\n",
    "    \"\"\"compute the cost by negative log likelihood.\"\"\"\n",
    "    pred = sigmoid(tx @ w)\n",
    "    loss = y.T @ (np.log(pred)) + (1 - y).T @ (np.log(1 - pred))\n",
    "#     print((1 - y).T @ (np.log(1 - pred)))\n",
    "    return np.squeeze(- loss) "
   ]
  },
  {
   "cell_type": "code",
   "execution_count": null,
   "metadata": {},
   "outputs": [],
   "source": [
    "def calculate_gradient(y, tx, w):\n",
    "    \"\"\"compute the gradient of loss.\"\"\"\n",
    "    pred = sigmoid(tx @ w)\n",
    "    \n",
    "    grad = tx.T @ (pred - y)\n",
    "    return grad"
   ]
  },
  {
   "cell_type": "code",
   "execution_count": null,
   "metadata": {},
   "outputs": [],
   "source": [
    "def learning_by_gradient_descent(y, tx, w, gamma):\n",
    "    \"\"\"\n",
    "    Do one step of gradient descen using logistic regression.\n",
    "    Return the loss and the updated w.\n",
    "    \"\"\"\n",
    "    loss = calculate_loss(y, tx, w) \n",
    "    grad = calculate_gradient(y, tx, w)\n",
    "    w -= gamma * grad\n",
    "    return loss, w"
   ]
  },
  {
   "cell_type": "code",
   "execution_count": null,
   "metadata": {},
   "outputs": [],
   "source": [
    "def logistic_regression_gradient_descent_demo(y, tx, gamma_, initial_w = np.array([])):\n",
    "    # init parameters\n",
    "    max_iter = 20000\n",
    "    threshold = 1e-8\n",
    "    gamma = gamma_\n",
    "    losses = []\n",
    "    \n",
    "    w = initial_w\n",
    "    if initial_w.size == 0:\n",
    "        w = np.zeros((tx.shape[1], 1))\n",
    "\n",
    "    lowest_loss = float('Inf')\n",
    "    best_w = -1\n",
    "    \n",
    "#     succ_ratios_test = []\n",
    "#     succ_ratios_train = []\n",
    "    \n",
    "    # start the logistic regression\n",
    "    for iter in range(max_iter):\n",
    "        # get loss and update w.\n",
    "        loss, w = learning_by_gradient_descent(y, tx, w, gamma)\n",
    "        \n",
    "        #gamma /= 1.002\n",
    "#         succ_ratio = 1 - compute_loss(y_correct, tx, w, costfunc=CostFunction.SUCCESS_RATIO)\n",
    "        if loss < lowest_loss: # loss < lowest_loss\n",
    "            lowest_loss = loss # loss\n",
    "            best_w = w\n",
    "            \n",
    "        # log info\n",
    "        if iter % 100 == 0:\n",
    "            succ_ratio_test = compute_loss(y_all, tx_all, w, costfunc=CostFunction.SUCCESS_RATIO)\n",
    "#             succ_ratios_test.append(succ_ratio_test)\n",
    "#             plt.scatter([iter], [succ_ratio], color= \"red\")\n",
    "#             succ_ratio_train = compute_loss(y, tx, w, costfunc=CostFunction.SUCCESS_RATIO)\n",
    "#             succ_ratios_train.append(succ_ratio_train)\n",
    "#             plt.scatter([iter], [succ_ratio_test], color=\"blue\")\n",
    "            print(\"Current iteration={i}, loss={l}, prediction={pred}\".format(i=iter, l=loss, pred=succ_ratio_test))\n",
    "            \n",
    "        # converge criterion\n",
    "        losses.append(loss)\n",
    "        if len(losses) > 1 and np.abs(losses[-1] - losses[-2]) < threshold:\n",
    "            break\n",
    "            \n",
    "    succ_ratio_test = compute_loss(y_all, tx_all, w, costfunc=CostFunction.SUCCESS_RATIO)\n",
    "#     succ_ratios_test.append(succ_ratio_test)\n",
    "# #             plt.scatter([iter], [succ_ratio], color= \"red\")\n",
    "#     succ_ratio_train = compute_loss(y, tx, w, costfunc=CostFunction.SUCCESS_RATIO)\n",
    "#     succ_ratios_train.append(succ_ratio_train)\n",
    "    print(\"Current iteration={i}, loss={l}, prediction={pred}\".format(i=iter, l=loss, pred=succ_ratio_test))\n",
    "    \n",
    "    # visualization\n",
    "    # visualization(y, x[:, 1:], mean_x, std_x, w, \"classification_by_logistic_regression_gradient_descent\")\n",
    "    #print(\"loss={l}\".format(l=calculate_loss(y, tx, w)))\n",
    "    \n",
    "#     plt.legend([\"train\", \"test\"])\n",
    "#     plt.title([\"if train >> test => overfitting!\"])     \n",
    "#     plt.show()\n",
    "    return best_w #, succ_ratio_test, succ_ratio_train"
   ]
  },
  {
   "cell_type": "code",
   "execution_count": null,
   "metadata": {},
   "outputs": [],
   "source": [
    "# choose degree\n",
    "degree = 11\n",
    "tx_sub = build_poly(x_sub, degree)\n",
    "tx_all = build_poly(x_all, degree)\n",
    "tx_sub.shape, y_sub.shape"
   ]
  },
  {
   "cell_type": "code",
   "execution_count": null,
   "metadata": {},
   "outputs": [],
   "source": [
    "ncolumns = x_sub.shape[1]\n",
    "\n",
    "# # 5000 data, 17 columns\n",
    "# gamma = np.concatenate([\n",
    "#      # gamma for constant, 1st and 2nd degrees\n",
    "#     np.ones(2*ncolumns+1)*1e-4*0.5, \n",
    "#     # gamma for 3rd degree \n",
    "#     np.ones(ncolumns)*1e-6,\n",
    "#     # gamma for 4th degree\n",
    "#     np.ones(ncolumns)*1e-7,\n",
    "#     # gamma for 5th degree\n",
    "#     np.ones(ncolumns)*1e-9*0.5,\n",
    "#     # gamma for 6th degree\n",
    "#     np.ones(ncolumns)*1e-11*0.5,\n",
    "#     # gamma for 7th degree \n",
    "#     np.ones(ncolumns)*1e-13,\n",
    "# #     # gamma for 8th degree \n",
    "# #     np.ones(ncolumns)*1e-15,\n",
    "# #     # gamma for 9th degree \n",
    "# #     np.ones(ncolumns)*1e-18,\n",
    "# #     # gamma for 10th degree \n",
    "# #     np.ones(ncolumns)*1e-20,\n",
    "# ])\\\n",
    "# .reshape((-1, 1))\n",
    "\n",
    "# 50000 data, 14 columns\n",
    "gamma = np.concatenate([\n",
    "     # gamma for constant and 1st degree \n",
    "    np.ones(ncolumns+1)*1e-5,\n",
    "    # gammma 2nd degree\n",
    "    np.ones(ncolumns)*1e-6, \n",
    "    # gamma for 3rd degree \n",
    "    np.ones(ncolumns)*1e-7,\n",
    "    # gamma for 4th degree\n",
    "    np.ones(ncolumns)*1e-10,\n",
    "    # gamma for 5th degree\n",
    "    np.ones(ncolumns)*1e-12,\n",
    "    # gamma for 6th degree\n",
    "    np.ones(ncolumns)*1e-15,\n",
    "    # gamma for 7th degree \n",
    "    np.ones(ncolumns)*1e-17,\n",
    "    # gamma for 8th degree \n",
    "    np.ones(ncolumns)*1e-20,\n",
    "    # gamma for 9th degree \n",
    "    np.ones(ncolumns)*1e-24,\n",
    "    # gamma for 10th degree \n",
    "    np.ones(ncolumns)*1e-24,\n",
    "    # gamma for 11th degree \n",
    "    np.ones(ncolumns)*1e-28,\n",
    "])\\\n",
    ".reshape((-1, 1))\n",
    "# w, s_te, s_tr \n",
    "w = logistic_regression_gradient_descent_demo(y_sub, tx_sub, gamma, w)"
   ]
  },
  {
   "cell_type": "code",
   "execution_count": null,
   "metadata": {},
   "outputs": [],
   "source": [
    "# # 1000 iterations\n",
    "# 0.79384  # 4th degree\n",
    "# 0.79446  # 5th degree\n",
    "# 0.794488 # 6th degree\n",
    "# 0.7947 # 7th degree\n",
    "# 0.79476 # 8th degree\n",
    "# 0.794928 # 9th degree\n",
    "# 0.794852  # 10th degree\n",
    "# 0.794836 # 11 th degree"
   ]
  },
  {
   "cell_type": "code",
   "execution_count": null,
   "metadata": {},
   "outputs": [],
   "source": [
    "# bruteforce\n",
    "y_correct = y_.copy()\n",
    "y_correct[y_correct== 0] = -1\n",
    "\n",
    "best_ratio = 0\n",
    "best_w = -1\n",
    "gammas = np.logspace(-20, -15, 10)\n",
    "bests = []\n",
    "for degree in range(4, 18):\n",
    "    tx_ = build_poly(x_, degree)\n",
    "    for gamma in gammas:\n",
    "        w = logistic_regression_gradient_descent_demo(y_, tx_, gamma)\n",
    "        suc_ratio = compute_loss(y_correct, tx_, w, costfunc=CostFunction.SUCCESS_RATIO)\n",
    "        if suc_ratio > 0.75:\n",
    "            print(\"degree:\", degree, \", gamma:\", gamma, \", weigths:\", w, \", succ_ratio:\", suc_ratio)\n",
    "            bests.append({\"degree\":degree, \"gamma\": gamma, \"weigths\": w, \"succ_ratio\": suc_ratio})"
   ]
  },
  {
   "cell_type": "code",
   "execution_count": null,
   "metadata": {},
   "outputs": [],
   "source": [
    "# for index, i in enumerate(bests):\n",
    "#     if i[\"succ_ratio\"] > 0.78:\n",
    "#         print(index)\n",
    "# bests[4]"
   ]
  },
  {
   "cell_type": "code",
   "execution_count": null,
   "metadata": {},
   "outputs": [],
   "source": [
    "compute_loss(y_all, tx_all, w, costfunc=CostFunction.SUCCESS_RATIO)"
   ]
  },
  {
   "cell_type": "markdown",
   "metadata": {},
   "source": [
    "### Store the current found weigths"
   ]
  },
  {
   "cell_type": "code",
   "execution_count": null,
   "metadata": {},
   "outputs": [],
   "source": [
    "file_path = \"best_weights_14columns_degree11_no999_no0\"\n",
    "json.dump(w.tolist(), codecs.open(file_path, 'w', encoding='utf-8'), separators=(',', ':'), sort_keys=True, indent=4)"
   ]
  },
  {
   "cell_type": "markdown",
   "metadata": {},
   "source": [
    "### Penalized logistic regression"
   ]
  },
  {
   "cell_type": "code",
   "execution_count": null,
   "metadata": {},
   "outputs": [],
   "source": [
    "def penalized_logistic_regression(y, tx, w, lambda_):\n",
    "    \"\"\"return the loss and gradient.\"\"\"\n",
    "    num_samples = y.shape[0]\n",
    "    loss = calculate_loss(y, tx, w) + lambda_ * np.squeeze(w.T.dot(w))\n",
    "    gradient = calculate_gradient(y, tx, w) + 2 * lambda_ * w\n",
    "    return loss, gradient"
   ]
  },
  {
   "cell_type": "code",
   "execution_count": null,
   "metadata": {},
   "outputs": [],
   "source": [
    "def learning_by_penalized_gradient(y, tx, w, gamma, lambda_):\n",
    "    \"\"\"\n",
    "    Do one step of gradient descent, using the penalized logistic regression.\n",
    "    Return the loss and updated w.\n",
    "    \"\"\"\n",
    "    loss, gradient = penalized_logistic_regression(y, tx, w, lambda_)\n",
    "    w -= gamma * gradient\n",
    "    return loss, w"
   ]
  },
  {
   "cell_type": "code",
   "execution_count": null,
   "metadata": {},
   "outputs": [],
   "source": [
    "def logistic_regression_penalized_gradient_descent_demo(y, tx):\n",
    "    # init parameters\n",
    "    max_iter = 1000\n",
    "    lambda_ = 0.1\n",
    "    threshold = 1e-18\n",
    "    \n",
    "    gamma = 1e-7\n",
    "    \n",
    "    losses = []\n",
    "    \n",
    "    w = np.zeros((tx.shape[1], 1))\n",
    "\n",
    "    lowest_loss = float('Inf')\n",
    "    best_w = -1\n",
    "    # start the logistic regression\n",
    "    for iter in range(max_iter):\n",
    "        # get loss and update w.\n",
    "        loss, w = learning_by_penalized_gradient(y, tx, w, gamma, lambda_)\n",
    "        # update lambda\n",
    "        # gamma /= 1.02\n",
    "        \n",
    "        if loss < lowest_loss:\n",
    "            lowest_loss = loss\n",
    "            best_w = w\n",
    "            \n",
    "        # log info\n",
    "        if iter % 100 == 0:\n",
    "            print(\"Current iteration={i}, loss={l}, prediction={pred}\".format(i=iter, l=loss, pred=compute_loss(y, tx, w, costfunc=CostFunction.SUCCESS_RATIO)))\n",
    "        # converge criterion\n",
    "        losses.append(loss)\n",
    "        if len(losses) > 1 and np.abs(losses[-1] - losses[-2]) < threshold:\n",
    "            break\n",
    "    # visualization\n",
    "    #visualization(y, x, mean_x, std_x, w, \"classification_by_logistic_regression_penalized_gradient_descent\")\n",
    "    print(\"loss={l}\".format(l=calculate_loss(y, tx, w)))\n",
    "    \n",
    "    return best_w\n",
    "    \n",
    "w = logistic_regression_penalized_gradient_descent_demo(y_, tx_)"
   ]
  },
  {
   "cell_type": "code",
   "execution_count": null,
   "metadata": {},
   "outputs": [],
   "source": [
    "y_sub_ = y_.copy()\n",
    "y_sub_[y_sub_==0] = -1\n",
    "compute_loss(y_sub_, tx_, w, costfunc=CostFunction.SUCCESS_RATIO)"
   ]
  },
  {
   "cell_type": "code",
   "execution_count": null,
   "metadata": {},
   "outputs": [],
   "source": [
    "y_.shape, tx_.shape"
   ]
  },
  {
   "cell_type": "markdown",
   "metadata": {},
   "source": [
    "## 4. Create submit file"
   ]
  },
  {
   "cell_type": "code",
   "execution_count": null,
   "metadata": {},
   "outputs": [],
   "source": [
    "# load test dataset\n",
    "data_path = \"../dataset/test.csv\"\n",
    "y_te_loaded, x_te_loaded, ids_te = load_csv_data(data_path, sub_sample=False)\n",
    "y_te_loaded.shape, x_te_loaded.shape"
   ]
  },
  {
   "cell_type": "code",
   "execution_count": null,
   "metadata": {},
   "outputs": [],
   "source": [
    "# clean in the same way of the trained set\n",
    "x_te, kept_cols = clean_x(x_te_loaded, corr)\n",
    "x_te.shape"
   ]
  },
  {
   "cell_type": "code",
   "execution_count": null,
   "metadata": {},
   "outputs": [],
   "source": [
    "# remove also the columns with \"equal\" distribution\n",
    "to_be_removed = np.where(np.isin(kept_cols, [\"PRI_tau_phi\", \"PRI_lep_phi\", \"PRI_met_phi\"])) # PRI_jet_num\n",
    "x_te = np.delete(x_te, to_be_removed, axis=1)\n",
    "x_te.shape"
   ]
  },
  {
   "cell_type": "code",
   "execution_count": null,
   "metadata": {},
   "outputs": [],
   "source": [
    "# create the poly\n",
    "degree = 11\n",
    "tx_te = build_poly(x_te, degree)\n",
    "\n",
    "# predict\n",
    "y_te_pred = predict_labels(w, tx_te)\n",
    "y_te_pred.shape, (y_te_pred==-1).sum(), (y_te_pred==1).sum()"
   ]
  },
  {
   "cell_type": "code",
   "execution_count": null,
   "metadata": {},
   "outputs": [],
   "source": [
    "# store the predictions\n",
    "create_csv_submission(ids_te, y_te_pred, \"logistic_regression_14_columns_degree11_no999_no0\")"
   ]
  }
 ],
 "metadata": {
  "anaconda-cloud": {},
  "kernelspec": {
   "display_name": "Python [conda root]",
   "language": "python",
   "name": "conda-root-py"
  },
  "language_info": {
   "codemirror_mode": {
    "name": "ipython",
    "version": 3
   },
   "file_extension": ".py",
   "mimetype": "text/x-python",
   "name": "python",
   "nbconvert_exporter": "python",
   "pygments_lexer": "ipython3",
   "version": "3.6.2"
  }
 },
 "nbformat": 4,
 "nbformat_minor": 1
}
