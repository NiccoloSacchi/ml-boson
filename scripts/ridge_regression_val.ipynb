{
 "cells": [
  {
   "cell_type": "code",
   "execution_count": 1,
   "metadata": {
    "collapsed": true
   },
   "outputs": [],
   "source": [
    "%matplotlib inline\n",
    "import numpy as np\n",
    "import matplotlib.pyplot as plt\n",
    "import matplotlib as mpl\n",
    "from implementations import * \n",
    "from proj1_helpers import *\n",
    "%load_ext autoreload\n",
    "%autoreload 2"
   ]
  },
  {
   "cell_type": "code",
   "execution_count": 2,
   "metadata": {},
   "outputs": [
    {
     "ename": "OSError",
     "evalue": "train_100.csv not found.",
     "output_type": "error",
     "traceback": [
      "\u001b[1;31m---------------------------------------------------------------------------\u001b[0m",
      "\u001b[1;31mOSError\u001b[0m                                   Traceback (most recent call last)",
      "\u001b[1;32m<ipython-input-2-2111ddba2ac0>\u001b[0m in \u001b[0;36m<module>\u001b[1;34m()\u001b[0m\n\u001b[0;32m      2\u001b[0m \u001b[1;32mfrom\u001b[0m \u001b[0mhelpers\u001b[0m \u001b[1;32mimport\u001b[0m \u001b[1;33m*\u001b[0m\u001b[1;33m\u001b[0m\u001b[0m\n\u001b[0;32m      3\u001b[0m \u001b[1;33m\u001b[0m\u001b[0m\n\u001b[1;32m----> 4\u001b[1;33m \u001b[0mids_tr\u001b[0m\u001b[1;33m,\u001b[0m\u001b[0mpredictions_tr\u001b[0m\u001b[1;33m,\u001b[0m\u001b[0mdata_tr\u001b[0m\u001b[1;33m,\u001b[0m \u001b[0mids_te\u001b[0m\u001b[1;33m,\u001b[0m\u001b[0mdata_te\u001b[0m \u001b[1;33m=\u001b[0m \u001b[0mload_boson_data\u001b[0m\u001b[1;33m(\u001b[0m\u001b[1;33m)\u001b[0m\u001b[1;33m\u001b[0m\u001b[0m\n\u001b[0m\u001b[0;32m      5\u001b[0m \u001b[1;33m\u001b[0m\u001b[0m\n\u001b[0;32m      6\u001b[0m \u001b[0my\u001b[0m \u001b[1;33m=\u001b[0m \u001b[0mpredictions_tr\u001b[0m\u001b[1;33m\u001b[0m\u001b[0m\n",
      "\u001b[1;32mC:\\Users\\Val\\Desktop\\ml-boson\\scripts\\helpers.py\u001b[0m in \u001b[0;36mload_boson_data\u001b[1;34m(sub_sample)\u001b[0m\n\u001b[0;32m     77\u001b[0m \u001b[1;33m\u001b[0m\u001b[0m\n\u001b[0;32m     78\u001b[0m     ids_tr = np.genfromtxt(\n\u001b[1;32m---> 79\u001b[1;33m         path_train_dataset, delimiter=\",\", skip_header=1,usecols=0)\n\u001b[0m\u001b[0;32m     80\u001b[0m \u001b[1;33m\u001b[0m\u001b[0m\n\u001b[0;32m     81\u001b[0m     predictions_tr = np.genfromtxt(\n",
      "\u001b[1;32mC:\\Users\\Val\\Anaconda3\\lib\\site-packages\\numpy\\lib\\npyio.py\u001b[0m in \u001b[0;36mgenfromtxt\u001b[1;34m(fname, dtype, comments, delimiter, skip_header, skip_footer, converters, missing_values, filling_values, usecols, names, excludelist, deletechars, replace_space, autostrip, case_sensitive, defaultfmt, unpack, usemask, loose, invalid_raise, max_rows)\u001b[0m\n\u001b[0;32m   1510\u001b[0m                 \u001b[0mfhd\u001b[0m \u001b[1;33m=\u001b[0m \u001b[0miter\u001b[0m\u001b[1;33m(\u001b[0m\u001b[0mnp\u001b[0m\u001b[1;33m.\u001b[0m\u001b[0mlib\u001b[0m\u001b[1;33m.\u001b[0m\u001b[0m_datasource\u001b[0m\u001b[1;33m.\u001b[0m\u001b[0mopen\u001b[0m\u001b[1;33m(\u001b[0m\u001b[0mfname\u001b[0m\u001b[1;33m,\u001b[0m \u001b[1;34m'rbU'\u001b[0m\u001b[1;33m)\u001b[0m\u001b[1;33m)\u001b[0m\u001b[1;33m\u001b[0m\u001b[0m\n\u001b[0;32m   1511\u001b[0m             \u001b[1;32melse\u001b[0m\u001b[1;33m:\u001b[0m\u001b[1;33m\u001b[0m\u001b[0m\n\u001b[1;32m-> 1512\u001b[1;33m                 \u001b[0mfhd\u001b[0m \u001b[1;33m=\u001b[0m \u001b[0miter\u001b[0m\u001b[1;33m(\u001b[0m\u001b[0mnp\u001b[0m\u001b[1;33m.\u001b[0m\u001b[0mlib\u001b[0m\u001b[1;33m.\u001b[0m\u001b[0m_datasource\u001b[0m\u001b[1;33m.\u001b[0m\u001b[0mopen\u001b[0m\u001b[1;33m(\u001b[0m\u001b[0mfname\u001b[0m\u001b[1;33m,\u001b[0m \u001b[1;34m'rb'\u001b[0m\u001b[1;33m)\u001b[0m\u001b[1;33m)\u001b[0m\u001b[1;33m\u001b[0m\u001b[0m\n\u001b[0m\u001b[0;32m   1513\u001b[0m             \u001b[0mown_fhd\u001b[0m \u001b[1;33m=\u001b[0m \u001b[1;32mTrue\u001b[0m\u001b[1;33m\u001b[0m\u001b[0m\n\u001b[0;32m   1514\u001b[0m         \u001b[1;32melse\u001b[0m\u001b[1;33m:\u001b[0m\u001b[1;33m\u001b[0m\u001b[0m\n",
      "\u001b[1;32mC:\\Users\\Val\\Anaconda3\\lib\\site-packages\\numpy\\lib\\_datasource.py\u001b[0m in \u001b[0;36mopen\u001b[1;34m(path, mode, destpath)\u001b[0m\n\u001b[0;32m    149\u001b[0m \u001b[1;33m\u001b[0m\u001b[0m\n\u001b[0;32m    150\u001b[0m     \u001b[0mds\u001b[0m \u001b[1;33m=\u001b[0m \u001b[0mDataSource\u001b[0m\u001b[1;33m(\u001b[0m\u001b[0mdestpath\u001b[0m\u001b[1;33m)\u001b[0m\u001b[1;33m\u001b[0m\u001b[0m\n\u001b[1;32m--> 151\u001b[1;33m     \u001b[1;32mreturn\u001b[0m \u001b[0mds\u001b[0m\u001b[1;33m.\u001b[0m\u001b[0mopen\u001b[0m\u001b[1;33m(\u001b[0m\u001b[0mpath\u001b[0m\u001b[1;33m,\u001b[0m \u001b[0mmode\u001b[0m\u001b[1;33m)\u001b[0m\u001b[1;33m\u001b[0m\u001b[0m\n\u001b[0m\u001b[0;32m    152\u001b[0m \u001b[1;33m\u001b[0m\u001b[0m\n\u001b[0;32m    153\u001b[0m \u001b[1;33m\u001b[0m\u001b[0m\n",
      "\u001b[1;32mC:\\Users\\Val\\Anaconda3\\lib\\site-packages\\numpy\\lib\\_datasource.py\u001b[0m in \u001b[0;36mopen\u001b[1;34m(self, path, mode)\u001b[0m\n\u001b[0;32m    499\u001b[0m             \u001b[1;32mreturn\u001b[0m \u001b[0m_file_openers\u001b[0m\u001b[1;33m[\u001b[0m\u001b[0mext\u001b[0m\u001b[1;33m]\u001b[0m\u001b[1;33m(\u001b[0m\u001b[0mfound\u001b[0m\u001b[1;33m,\u001b[0m \u001b[0mmode\u001b[0m\u001b[1;33m=\u001b[0m\u001b[0mmode\u001b[0m\u001b[1;33m)\u001b[0m\u001b[1;33m\u001b[0m\u001b[0m\n\u001b[0;32m    500\u001b[0m         \u001b[1;32melse\u001b[0m\u001b[1;33m:\u001b[0m\u001b[1;33m\u001b[0m\u001b[0m\n\u001b[1;32m--> 501\u001b[1;33m             \u001b[1;32mraise\u001b[0m \u001b[0mIOError\u001b[0m\u001b[1;33m(\u001b[0m\u001b[1;34m\"%s not found.\"\u001b[0m \u001b[1;33m%\u001b[0m \u001b[0mpath\u001b[0m\u001b[1;33m)\u001b[0m\u001b[1;33m\u001b[0m\u001b[0m\n\u001b[0m\u001b[0;32m    502\u001b[0m \u001b[1;33m\u001b[0m\u001b[0m\n\u001b[0;32m    503\u001b[0m \u001b[1;33m\u001b[0m\u001b[0m\n",
      "\u001b[1;31mOSError\u001b[0m: train_100.csv not found."
     ]
    }
   ],
   "source": [
    "# import some data to test the functions\n",
    "from helpers import *\n",
    "\n",
    "ids_tr,predictions_tr,data_tr, ids_te,data_te = load_boson_data()\n",
    "\n",
    "y = predictions_tr\n",
    "\n",
    "x, mean_x, std_x = standardize(data_tr)\n",
    "\n",
    "y,tx = build_model_data(x,y)\n",
    "\n",
    "y.shape, x.shape, tx.shape, data_tr.shape"
   ]
  },
  {
   "cell_type": "code",
   "execution_count": null,
   "metadata": {
    "collapsed": true
   },
   "outputs": [],
   "source": [
    "# gradient descent\n",
    "initial_w = np.zeros(tx.shape[1])\n",
    "max_iters = 20\n",
    "gamma = 0.1\n",
    "loss, w = gradient_descent(y, tx, initial_w, max_iters, gamma, print_output=False, plot_losses=True)\n",
    "loss,w"
   ]
  },
  {
   "cell_type": "code",
   "execution_count": null,
   "metadata": {
    "collapsed": true
   },
   "outputs": [],
   "source": [
    "# stochastic gradient descent\n",
    "# gradient descent\n",
    "initial_w = np.array([0, 0])\n",
    "max_iters = 20\n",
    "gamma = 0.5\n",
    "loss, w = gradient_descent(y, tx, initial_w, max_iters, gamma, batch_size=1, print_output=False, plot_losses=True)\n",
    "loss,w"
   ]
  },
  {
   "cell_type": "code",
   "execution_count": null,
   "metadata": {
    "collapsed": true
   },
   "outputs": [],
   "source": [
    "# analityc solution\n",
    "least_squares(y, tx)"
   ]
  },
  {
   "cell_type": "code",
   "execution_count": null,
   "metadata": {
    "collapsed": true
   },
   "outputs": [],
   "source": [
    "# ridge regression to choose smaller weights (the simpler the model the better)\n",
    "lambda_ = 0.02 # how to properly choose lambda?\n",
    "ridge_regression(y, tx, lambda_)"
   ]
  },
  {
   "cell_type": "code",
   "execution_count": null,
   "metadata": {
    "collapsed": true
   },
   "outputs": [],
   "source": [
    "# logistic regression (it is gradient descent with a different loss function)\n",
    "from helpers import sample_data, load_data\n",
    "from plots import visualization\n",
    "\n",
    "# load data.\n",
    "height, weight, gender = load_data()\n",
    "\n",
    "# build sampled x and y.\n",
    "seed = 1\n",
    "y = np.expand_dims(gender, axis=1)\n",
    "X = np.c_[height.reshape(-1), weight.reshape(-1)]\n",
    "y, X = sample_data(y, X, seed, size_samples=200)\n",
    "x, mean_x, std_x = standardize(X)\n",
    "\n",
    "tx = build_poly(x, 1)\n",
    "initial_w = np.ones(tx.shape[1])\n",
    "max_iters = 50\n",
    "gamma = 0.2\n",
    "minloss, w = gradient_descent(y, tx, initial_w, max_iters, gamma, batch_size=-1, print_output=False, plot_losses=True, costfunc=CostFunction.PROB)\n",
    "# w = np.array(w).reshape(-1, 1)\n",
    "visualization(y, x, mean_x, std_x, w, \"classification_by_least_square\")\n",
    "minloss, w"
   ]
  },
  {
   "cell_type": "code",
   "execution_count": null,
   "metadata": {
    "collapsed": true
   },
   "outputs": [],
   "source": [
    "tes_std, _, _ = standardize(data_te)\n",
    "tx_std =  build_poly(tes_std, 1)\n",
    "\n",
    "print(tx_std.shape)\n",
    "predict_labels(w, tx_std)"
   ]
  },
  {
   "cell_type": "markdown",
   "metadata": {},
   "source": [
    "## 0. Imports"
   ]
  },
  {
   "cell_type": "code",
   "execution_count": null,
   "metadata": {
    "collapsed": true
   },
   "outputs": [],
   "source": [
    "%matplotlib inline\n",
    "import numpy as np\n",
    "import matplotlib.pyplot as plt\n",
    "import matplotlib as mpl\n",
    "from implementations import * \n",
    "from proj1_helpers import *\n",
    "%load_ext autoreload\n",
    "%autoreload 2"
   ]
  },
  {
   "cell_type": "markdown",
   "metadata": {},
   "source": [
    "## 1. Load data"
   ]
  },
  {
   "cell_type": "code",
   "execution_count": null,
   "metadata": {
    "collapsed": true,
    "scrolled": true
   },
   "outputs": [],
   "source": [
    "# just load the training dataset\n",
    "data_path = \"../dataset/train.csv\"\n",
    "y_loaded, x_loaded, ids_te = load_csv_data(data_path, sub_sample=False)\n",
    "y_loaded.shape, x_loaded.shape"
   ]
  },
  {
   "cell_type": "code",
   "execution_count": null,
   "metadata": {
    "collapsed": true
   },
   "outputs": [],
   "source": [
    "y1 = np.where(y_loaded == 1)\n",
    "y0 = np.where(y_loaded == -1)\n",
    "np.sum(x_loaded[y1, -1] == 0), np.sum(x_loaded[y0, -1] == 0)"
   ]
  },
  {
   "cell_type": "markdown",
   "metadata": {},
   "source": [
    "## 2. Clean data"
   ]
  },
  {
   "cell_type": "code",
   "execution_count": null,
   "metadata": {
    "collapsed": true
   },
   "outputs": [],
   "source": [
    "y_all = y_loaded.copy()\n",
    "x_all = clean_x2(x_loaded)\n",
    "x_all.shape, y_all.shape"
   ]
  },
  {
   "cell_type": "code",
   "execution_count": null,
   "metadata": {
    "collapsed": true
   },
   "outputs": [],
   "source": [
    "# decide the maximum correlation between the columns\n",
    "corr = 0.8\n",
    "# clean the input features\n",
    "x_all, keptCols = clean_x(x_loaded, corr, subs_func=np.nanstd, bool_col=True)\n",
    "y_all = y_loaded\n",
    "\n",
    "# extract a subsample for the training\n",
    "subsample = 50000\n",
    "indices = np.random.permutation(y_all.shape[0])\n",
    "x_sub, y_sub = x_all[:subsample], y_all[:subsample]\n",
    "\n",
    "x_sub.shape, y_sub.shape, x_all.shape, y_all.shape"
   ]
  },
  {
   "cell_type": "code",
   "execution_count": null,
   "metadata": {
    "collapsed": true
   },
   "outputs": [],
   "source": [
    "def norm(x, y):\n",
    "    y_1 = np.where(y == 1)[0]\n",
    "    y_0 = np.where(y == -1)[0]\n",
    "\n",
    "    if len(y_1) > len(y_0):\n",
    "        y_1 = y_1[:len(y_0)]\n",
    "        return np.concatenate([x[y_0, :], x[y_1, :]], axis=0), np.append(y[y_0], y[y_1])\n",
    "    else:\n",
    "        y_0 = y_0[:len(y_1)]\n",
    "        return np.concatenate([x[y_0, :], x[y_1, :]], axis=0), np.append(y[y_0], y[y_1])\n",
    "    \n",
    "# possibily equalize the number of 1s and -1s (just for the training!!)\n",
    "x_all_, y_all_ = norm(x_all, y_all)\n",
    "\n",
    "x_all_.shape, y_all_.shape"
   ]
  },
  {
   "cell_type": "markdown",
   "metadata": {},
   "source": [
    "### clean_x3"
   ]
  },
  {
   "cell_type": "code",
   "execution_count": null,
   "metadata": {
    "collapsed": true
   },
   "outputs": [],
   "source": [
    "x_loaded.shape"
   ]
  },
  {
   "cell_type": "code",
   "execution_count": null,
   "metadata": {
    "collapsed": true
   },
   "outputs": [],
   "source": [
    "y_all = y_loaded.copy()\n",
    "x_all, bool_cols = clean_x3(x_loaded)\n",
    "x_all.shape, y_all.shape, bool_cols.shape"
   ]
  },
  {
   "cell_type": "markdown",
   "metadata": {},
   "source": [
    "### definitive clean"
   ]
  },
  {
   "cell_type": "code",
   "execution_count": null,
   "metadata": {
    "collapsed": true
   },
   "outputs": [],
   "source": [
    "x_loaded.shape, y_loaded.shape"
   ]
  },
  {
   "cell_type": "code",
   "execution_count": null,
   "metadata": {
    "collapsed": true
   },
   "outputs": [],
   "source": [
    "x_all, y_all = clean_input_data(x_loaded, y_loaded, corr=1)\n",
    "x_all[0].shape, x_all[1].shape, x_all[2].shape, x_all[3].shape"
   ]
  },
  {
   "cell_type": "code",
   "execution_count": null,
   "metadata": {
    "collapsed": true
   },
   "outputs": [],
   "source": [
    "y_all[0].shape, y_all[1].shape, y_all[2].shape, y_all[3].shape"
   ]
  },
  {
   "cell_type": "code",
   "execution_count": null,
   "metadata": {
    "collapsed": true
   },
   "outputs": [],
   "source": [
    "# check itis 250000\n",
    "x_all[0].shape[0] + x_all[1].shape[0] +  x_all[2].shape[0] + x_all[3].shape[0]"
   ]
  },
  {
   "cell_type": "code",
   "execution_count": null,
   "metadata": {
    "collapsed": true
   },
   "outputs": [],
   "source": [
    "for i in range(4):\n",
    "    print(np.sum(np.isnan(x_all[i])))"
   ]
  },
  {
   "cell_type": "markdown",
   "metadata": {},
   "source": [
    "## 3. train and test models:"
   ]
  },
  {
   "cell_type": "markdown",
   "metadata": {},
   "source": [
    "### Ridge regression with cross validation"
   ]
  },
  {
   "cell_type": "code",
   "execution_count": null,
   "metadata": {
    "collapsed": true
   },
   "outputs": [],
   "source": [
    "# num_sets: number of sets in which the dataset will be splitted to run the cross validation\n",
    "# degree_list: list of degree to be tried\n",
    "# lambdas: list of lambdas to be tried \n",
    "def cross_validation_ridge_regression(x, y, num_K_sets, degree_list, lambdas):\n",
    "    seed = 2\n",
    "    \n",
    "    # split indices in k sets\n",
    "    k_indices = build_k_indices(y, num_K_sets, seed)\n",
    "    \n",
    "    ratio_tr = [] # matrix success ratio obtained with the training sets\n",
    "    ratio_te = [] # matrix success ratio obtained with the test sets\n",
    "\n",
    "    # define lists to store the loss of training data and test data\n",
    "    for nfigure, degree in enumerate(degree_list): # one figure per degree\n",
    "        tx = build_poly(x, degree) \n",
    "        \n",
    "        # one row (figure) per degree\n",
    "        ratio_tr.append([])\n",
    "        ratio_te.append([])\n",
    "        \n",
    "        for npoint, lambda_ in enumerate(lambdas):\n",
    "            # for each lambda we compute the expected ratio of success (this will be the a point in the figure)\n",
    "            ratio_tr[nfigure].append(0)\n",
    "            ratio_te[nfigure].append(0)\n",
    "            \n",
    "            for k_curr in range(num_K_sets):\n",
    "                train, test = get_kth_set(y, tx, k_indices, k_curr)\n",
    "                \n",
    "                # train the model, just line should change depending on the chosen training \n",
    "                _, w = ridge_regression(train.y, train.tx, lambda_)\n",
    "                \n",
    "#                 # gradient descent\n",
    "#                 initial_w = np.zeros(tx.shape[1])\n",
    "#                 max_iters = 50\n",
    "#                 gamma = lambda_\n",
    "#                 _, w = gradient_descent(train.y, train.tx, initial_w, max_iters, gamma, batch_size=-1, print_output=False, plot_losses=False, costfunc=CostFunction.MSE)\n",
    "                \n",
    "                # compute how good is the model\n",
    "                ratio_tr[nfigure][npoint] += compute_loss(train.y, train.tx, w, costfunc=CostFunction.SUCCESS_RATIO)\n",
    "                ratio_te[nfigure][npoint] += compute_loss(test.y, test.tx, w, costfunc=CostFunction.SUCCESS_RATIO)\n",
    "            \n",
    "            # average the ratio obtained with the cross validation\n",
    "            ratio_tr[nfigure][npoint] /= num_K_sets\n",
    "            ratio_te[nfigure][npoint] /= num_K_sets\n",
    "            \n",
    "    ratio_tr = np.array(ratio_tr)\n",
    "    ratio_te = np.array(ratio_te)\n",
    "    \n",
    "#     print(ratio_tr.shape) # #degree x #lambdas\n",
    "#     print(ratio_te.shape)\n",
    "#     print(degrees.shape)\n",
    "#     print(lambdas.shape)\n",
    "    \n",
    "    return ratio_tr, ratio_te"
   ]
  },
  {
   "cell_type": "code",
   "execution_count": null,
   "metadata": {
    "collapsed": true
   },
   "outputs": [],
   "source": [
    "x_sub.shape, y_sub.shape, x_all.shape, y_all.shape"
   ]
  },
  {
   "cell_type": "code",
   "execution_count": null,
   "metadata": {
    "collapsed": true
   },
   "outputs": [],
   "source": [
    "# the lambda of the ridge regression does not affect mush the model\n",
    "nlambdas = 5\n",
    "lambdas = np.linspace(0, 1000, nlambdas)\n",
    "\n",
    "num_K_sets = 2\n",
    "degree_list = [5, 7, 9, 13, 15, 17]\n",
    "\n",
    "ratio_tr, ratio_te = cross_validation_ridge_regression(x_sub, y_sub, num_K_sets, degree_list, lambdas)"
   ]
  },
  {
   "cell_type": "code",
   "execution_count": null,
   "metadata": {
    "collapsed": true
   },
   "outputs": [],
   "source": [
    "# there is A LOT of data => there is no overfitting => the training error is close to the test error => it does\n",
    "# not makes sense to do the cross validation (just use the whole set to train the data and compute the \n",
    "# SUCCESS_RATIO on the training data)\n",
    "cross_validation_visualization(ratio_tr, ratio_te, degree_list, lambdas, \"lambda (ridge_regression)\")\n",
    "\n",
    "ratio_tr.shape, ratio_te.shape"
   ]
  },
  {
   "cell_type": "markdown",
   "metadata": {},
   "source": [
    "### Ridge regression without cross validation"
   ]
  },
  {
   "cell_type": "code",
   "execution_count": null,
   "metadata": {
    "collapsed": true
   },
   "outputs": [],
   "source": [
    "# num_sets: number of sets in which the dataset will be splitted to run the cross validation\n",
    "# degree_list: list of degree to be tried\n",
    "# lambdas: list of lambdas to be tried \n",
    "def ridge_regression_tuning(x, y, degree_list, lambdas):    \n",
    "    \n",
    "    ratios_tr = [] # matrix success ratio obtained with the training sets\n",
    "    ratios_te = []\n",
    "\n",
    "    # define lists to store the loss of training data and test data\n",
    "    for nfigure, degree in enumerate(degree_list): # one figure per degree\n",
    "        tx = build_poly(x, degree) \n",
    "        tx = np.hstack((bool_cols[:tx.shape[0], :], tx))\n",
    "        \n",
    "        tx_all = build_poly(x_all, degree)\n",
    "        tx_all = np.hstack((bool_cols, tx_all))\n",
    "        \n",
    "        \n",
    "        # one row (figure) per degree\n",
    "        ratios_tr.append([])\n",
    "        ratios_te.append([])\n",
    "        \n",
    "        for npoint, lambda_ in enumerate(lambdas):\n",
    "            # for each lambda we compute the expected ratio of success (this will be the a point in the figure)\n",
    "            ratios_tr[nfigure].append(0)\n",
    "            ratios_te[nfigure].append(0)\n",
    "            \n",
    "            # train the model, just line should change depending on the chosen training \n",
    "            _, w = ridge_regression(y, tx, lambda_)\n",
    "\n",
    "            ratios_tr[nfigure][npoint] = compute_loss(y, tx, w, costfunc=CostFunction.SUCCESS_RATIO)\n",
    "            ratios_te[nfigure][npoint] = compute_loss(y_all, tx_all, w, costfunc=CostFunction.SUCCESS_RATIO)\n",
    "    \n",
    "    return np.array(ratios_tr), np.array(ratios_te)"
   ]
  },
  {
   "cell_type": "code",
   "execution_count": null,
   "metadata": {
    "collapsed": true
   },
   "outputs": [],
   "source": [
    "x_all.shape, y_all.shape, bool_cols.shape"
   ]
  },
  {
   "cell_type": "code",
   "execution_count": null,
   "metadata": {
    "collapsed": true
   },
   "outputs": [],
   "source": [
    "# the lambda of the ridge regression does not affect much the model\n",
    "nlambdas = 5\n",
    "lambdas = np.linspace(0, 0.1, nlambdas)\n",
    "degree_list = [5, 7, 9, 11, 13, 15]\n",
    "\n",
    "ratios_tr, ratios_te = ridge_regression_tuning(x_all[0], y_all[0], degree_list, lambdas)\n",
    "\n",
    "# _, w = ridge_regression(y, tx, lambda_)\n",
    "\n",
    "# plot\n",
    "x_axis = lambdas\n",
    "figure_name = \"\"\n",
    "ratios_visualization([ratios_tr, ratios_te], degree_list, x_axis, x_label=\"lambas\", log_axis_x=False,\n",
    "                    save_figure_with_name=figure_name)"
   ]
  },
  {
   "cell_type": "code",
   "execution_count": null,
   "metadata": {
    "collapsed": true
   },
   "outputs": [],
   "source": [
    "np.where([ratios_te > 0.81])"
   ]
  },
  {
   "cell_type": "code",
   "execution_count": null,
   "metadata": {
    "collapsed": true
   },
   "outputs": [],
   "source": [
    "tx_all_.shape, txy_all.shape"
   ]
  },
  {
   "cell_type": "code",
   "execution_count": null,
   "metadata": {
    "collapsed": true
   },
   "outputs": [],
   "source": [
    "# chose the best parameters and compute the weigths\n",
    "degree = 4\n",
    "\n",
    "lambda_ = 0\n",
    "tx_all = build_poly(x_all, degree) \n",
    "tx_all = np.hstack((bool_cols, tx_all))\n",
    "\n",
    "_, w = ridge_regression(y_all, tx_all, lambda_)\n",
    "compute_loss(y_all, tx_all, w, costfunc=CostFunction.SUCCESS_RATIO)\n",
    "\n",
    "# tx_sub = build_poly(x_sub, degree) \n",
    "# _, w = ridge_regression(y_sub, tx_sub, lambda_)\n",
    "# compute_loss(y_all, tx_all, w, costfunc=CostFunction.SUCCESS_RATIO)"
   ]
  },
  {
   "cell_type": "code",
   "execution_count": null,
   "metadata": {
    "collapsed": true
   },
   "outputs": [],
   "source": [
    "x_test = x_all[1]\n",
    "y_test = y_all[1]\n",
    "degree = 7\n",
    "\n",
    "lambda_ = 0\n",
    "tx_test = build_poly(x_test, degree) \n",
    "#tx_test = np.hstack((bool_cols, tx_test))\n",
    "\n",
    "_, w = ridge_regression(y_test, tx_test, lambda_)\n",
    "compute_loss(y_test, tx_test, w, costfunc=CostFunction.SUCCESS_RATIO)"
   ]
  },
  {
   "cell_type": "markdown",
   "metadata": {},
   "source": [
    "### Gradient descent try"
   ]
  },
  {
   "cell_type": "code",
   "execution_count": null,
   "metadata": {
    "collapsed": true
   },
   "outputs": [],
   "source": [
    "degree = 4\n",
    "tx = build_poly(x, degree) "
   ]
  },
  {
   "cell_type": "markdown",
   "metadata": {},
   "source": [
    "### Logistic regression"
   ]
  },
  {
   "cell_type": "code",
   "execution_count": null,
   "metadata": {
    "collapsed": true
   },
   "outputs": [],
   "source": [
    "initial_w = np.zeros(tx.shape[1])-1\n",
    "max_iters = 5 # try a small one first to check it is converging \n",
    "gamma = 0.000000000002 # very small (for higher diverges)\n",
    "\n",
    "_, w = gradient_descent(y, tx, initial_w, max_iters, gamma, batch_size=-1, \n",
    "                        print_output_with_weights=[0, 1, 2], plot_losses=True, costfunc=CostFunction.MSE)\n",
    "\n",
    "print(compute_loss(y, tx, w, costfunc=CostFunction.SUCCESS_RATIO))"
   ]
  },
  {
   "cell_type": "markdown",
   "metadata": {},
   "source": [
    "## Create submit file"
   ]
  },
  {
   "cell_type": "code",
   "execution_count": null,
   "metadata": {
    "collapsed": true
   },
   "outputs": [],
   "source": [
    "# compute w\n",
    "degree = 13\n",
    "lambda_ = 0\n",
    "tx_all = build_poly(x_all, degree)\n",
    "_, w = ridge_regression(y_all, tx_all, lambda_)\n",
    "compute_loss(y_all, tx_all, w, costfunc=CostFunction.SUCCESS_RATIO)"
   ]
  },
  {
   "cell_type": "code",
   "execution_count": null,
   "metadata": {
    "collapsed": true
   },
   "outputs": [],
   "source": [
    "# load test dataset\n",
    "data_path = \"../dataset/test.csv\"\n",
    "y_te_loaded, x_te_loaded, ids_te = load_csv_data(data_path, sub_sample=False)\n",
    "y_te_loaded.shape, x_te_loaded.shape"
   ]
  },
  {
   "cell_type": "markdown",
   "metadata": {},
   "source": [
    "##### clean_x2"
   ]
  },
  {
   "cell_type": "code",
   "execution_count": null,
   "metadata": {
    "collapsed": true
   },
   "outputs": [],
   "source": [
    "# clean in the same way of the trained set\n",
    "x_te = clean_x(x_te_loaded)\n",
    "x_te.shape"
   ]
  },
  {
   "cell_type": "code",
   "execution_count": null,
   "metadata": {
    "collapsed": true
   },
   "outputs": [],
   "source": [
    "# create the poly\n",
    "tx_te = build_poly(x_te, degree)"
   ]
  },
  {
   "cell_type": "markdown",
   "metadata": {},
   "source": [
    "##### clean_x3"
   ]
  },
  {
   "cell_type": "code",
   "execution_count": null,
   "metadata": {
    "collapsed": true
   },
   "outputs": [],
   "source": [
    "x_te, bool_cols_te = clean_x3(x_te_loaded)\n",
    "x_te.shape, bool_cols_te.shape"
   ]
  },
  {
   "cell_type": "code",
   "execution_count": null,
   "metadata": {
    "collapsed": true
   },
   "outputs": [],
   "source": [
    "# create the poly\n",
    "tx_te = build_poly(x_te, degree) \n",
    "tx_te = np.hstack((bool_cols_te, tx_te))"
   ]
  },
  {
   "cell_type": "markdown",
   "metadata": {},
   "source": [
    "##### definitive clean"
   ]
  },
  {
   "cell_type": "code",
   "execution_count": null,
   "metadata": {
    "collapsed": true
   },
   "outputs": [],
   "source": []
  },
  {
   "cell_type": "markdown",
   "metadata": {},
   "source": [
    "#### predict and create file"
   ]
  },
  {
   "cell_type": "code",
   "execution_count": null,
   "metadata": {
    "collapsed": true
   },
   "outputs": [],
   "source": [
    "# predict\n",
    "y_te_pred = predict_labels(w, tx_te)\n",
    "y_te_pred.shape, (y_te_pred==-1).sum(), (y_te_pred==1).sum()"
   ]
  },
  {
   "cell_type": "code",
   "execution_count": null,
   "metadata": {
    "collapsed": true
   },
   "outputs": [],
   "source": [
    "# num_correct = np.sum(y_te_pred==y_te_loaded)\n",
    "# num_correct/len(y_te_pred)"
   ]
  },
  {
   "cell_type": "code",
   "execution_count": null,
   "metadata": {
    "collapsed": true
   },
   "outputs": [],
   "source": [
    "# store the predictions\n",
    "create_csv_submission(ids_te, y_te_pred, \"ridge_regression_clean_x3_degree4\")"
   ]
  }
 ],
 "metadata": {
  "kernelspec": {
   "display_name": "Python 3",
   "language": "python",
   "name": "python3"
  },
  "language_info": {
   "codemirror_mode": {
    "name": "ipython",
    "version": 3
   },
   "file_extension": ".py",
   "mimetype": "text/x-python",
   "name": "python",
   "nbconvert_exporter": "python",
   "pygments_lexer": "ipython3",
   "version": "3.6.1"
  }
 },
 "nbformat": 4,
 "nbformat_minor": 2
}
