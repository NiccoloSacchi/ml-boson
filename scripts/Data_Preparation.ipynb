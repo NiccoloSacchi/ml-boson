{
 "cells": [
  {
   "cell_type": "code",
   "execution_count": null,
   "metadata": {},
   "outputs": [],
   "source": [
    "%matplotlib inline\n",
    "import numpy as np\n",
    "import matplotlib.pyplot as plt\n",
    "import matplotlib as mpl\n",
    "%load_ext autoreload\n",
    "%autoreload 2"
   ]
  },
  {
   "cell_type": "markdown",
   "metadata": {},
   "source": [
    "# Data_tr removing all samples with -999"
   ]
  },
  {
   "cell_type": "code",
   "execution_count": null,
   "metadata": {},
   "outputs": [],
   "source": [
    "# import some data to test the functions\n",
    "from helpers import *\n",
    "\n",
    "ids_tr,predictions_tr,data_tr, ids_te,data_te = load_boson_data()\n",
    "\n",
    "invalid_indexes= np.unique(np.where(data_tr == -999)[0])  \n",
    "invalid_indexes   #\"indexes\" of the rows where -999 is present"
   ]
  },
  {
   "cell_type": "code",
   "execution_count": null,
   "metadata": {},
   "outputs": [],
   "source": [
    "clean_data_tr = np.delete(data_tr,np.unique(np.where(data_tr == -999)[0]),0)\n",
    "\n",
    "clean_data_tr.shape"
   ]
  },
  {
   "cell_type": "markdown",
   "metadata": {},
   "source": [
    "# Data_tr replacing -999 with 0"
   ]
  },
  {
   "cell_type": "code",
   "execution_count": null,
   "metadata": {},
   "outputs": [],
   "source": [
    "with_zero_data_tr = np.where(data_tr == -999, 0, data_tr)\n",
    "\n",
    "with_zero_data_tr.shape"
   ]
  },
  {
   "cell_type": "markdown",
   "metadata": {},
   "source": [
    "# Data_tr replacing -999 with the mean/median/mfv"
   ]
  },
  {
   "cell_type": "code",
   "execution_count": null,
   "metadata": {},
   "outputs": [],
   "source": [
    "# to do"
   ]
  },
  {
   "cell_type": "markdown",
   "metadata": {},
   "source": [
    "# Correlation between features"
   ]
  },
  {
   "cell_type": "code",
   "execution_count": null,
   "metadata": {},
   "outputs": [],
   "source": [
    "# some analysys with the help of pandas and seaborn\n",
    "import pandas as pd\n",
    "import seaborn as sbn\n",
    "from proj1_helpers import *\n",
    "from implementations import *\n",
    "\n",
    "ndata = 250000\n",
    "data_path = \"../dataset/train.csv\"\n",
    "_, data_loaded, _ = load_csv_data(data_path, ndata)"
   ]
  },
  {
   "cell_type": "code",
   "execution_count": null,
   "metadata": {},
   "outputs": [],
   "source": [
    "# visualize distribution of features and pairwise relationship using seaborn pairplot\n",
    "sbn.pairplot(data)"
   ]
  },
  {
   "cell_type": "code",
   "execution_count": null,
   "metadata": {},
   "outputs": [],
   "source": [
    "data.shape"
   ]
  },
  {
   "cell_type": "code",
   "execution_count": null,
   "metadata": {},
   "outputs": [],
   "source": [
    "# compute and print the pairwise correlation between the columns in data frame\n",
    "\n",
    "correlations = data.corr()\n",
    "correlations"
   ]
  },
  {
   "cell_type": "markdown",
   "metadata": {},
   "source": [
    "Features that have a strong correlation with other fatures:\n",
    "* DER_tp_h\n",
    "* DER_deltaeta_jet_jet\n",
    "* DER_mass_jet_jet\n",
    "* DER_prodeta_jet_jet\n",
    "* DER_sum_pt\n",
    "* DER_met_phi_centrality\n",
    "* DER_lep_eta_centrality\n",
    "* PRI_met_sumet\n",
    "* PRI_jet_num\n",
    "* PRI_jet_leading_pt\n",
    "* PRI_jet_leading_eta\n",
    "* PRI_jet_leading_phi\n",
    "* PRI_jet_subleading_pt\n",
    "* PRI_jet_subleading_eta\n",
    "* PRI_jet_subleading_phi\n",
    "* PRI_jet_all_pt"
   ]
  },
  {
   "cell_type": "markdown",
   "metadata": {},
   "source": [
    "# Compute correlation matrix"
   ]
  },
  {
   "cell_type": "code",
   "execution_count": null,
   "metadata": {},
   "outputs": [],
   "source": [
    "from proj1_helpers import *\n",
    "from implementations import *\n",
    "import codecs, json \n",
    "\n",
    "# LOAD DATA\n",
    "ndata = 250000\n",
    "data_path = \"../dataset/train.csv\"\n",
    "_, data_loaded, _ = load_csv_data(data_path, ndata)"
   ]
  },
  {
   "cell_type": "code",
   "execution_count": null,
   "metadata": {},
   "outputs": [],
   "source": [
    "# CLEAN DATA: YOU MAY WANT TO CHAGE THIS STEP\n",
    "# clean_data= data[data != -999].dropna( axis=0, how='any')\n",
    "data = fill_with_nan_list(data_loaded, nan_values=[0, -999])\n",
    "data = sustitute_nans(data, substitutions=np.nanmean(data, axis=0))\n",
    "#data, _ = drop_nan_rows(data, data)\n",
    "data.shape"
   ]
  },
  {
   "cell_type": "code",
   "execution_count": null,
   "metadata": {},
   "outputs": [],
   "source": [
    "# COMPUTE AND STORE CORRELATION MATRIX\n",
    "corr_matrix = np.abs(np.corrcoef(data.T)) \n",
    "file_path = \"corr_matrix.json\"\n",
    "json.dump(corr_matrix.tolist(), codecs.open(file_path, 'w', encoding='utf-8'), separators=(',', ':'), sort_keys=True, indent=4)"
   ]
  },
  {
   "cell_type": "code",
   "execution_count": null,
   "metadata": {},
   "outputs": [],
   "source": [
    "# example: LOAD CORRELATION MATRIX\n",
    "file_path = \"corr_matrix.json\"\n",
    "obj_text = codecs.open(file_path, 'r', encoding='utf-8').read()\n",
    "b_new = json.loads(obj_text)\n",
    "corr_matrix_loaded = np.array(b_new)"
   ]
  },
  {
   "cell_type": "code",
   "execution_count": null,
   "metadata": {},
   "outputs": [],
   "source": [
    "# exaple: GET CORRELATED COLUMNS\n",
    "corr_matrix = np.abs(corr_matrix) > 0.5  \n",
    "# remove i from the list (i is surely correlated to himself)\n",
    "for i in range(30):\n",
    "    corr_matrix[i][i] = False\n",
    "    \n",
    "correlated_to = {}\n",
    "for i in range(30):\n",
    "    c = np.where(corr_matrix[i])[0]\n",
    "    if len(c) > 0: # if it is not correlated to any other column then ignore it\n",
    "        correlated_to[i] = c\n",
    "correlated_to"
   ]
  }
 ],
 "metadata": {
  "kernelspec": {
   "display_name": "Python [default]",
   "language": "python",
   "name": "python3"
  },
  "language_info": {
   "codemirror_mode": {
    "name": "ipython",
    "version": 3
   },
   "file_extension": ".py",
   "mimetype": "text/x-python",
   "name": "python",
   "nbconvert_exporter": "python",
   "pygments_lexer": "ipython3",
   "version": "3.6.2"
  }
 },
 "nbformat": 4,
 "nbformat_minor": 2
}
