{
 "cells": [
  {
   "cell_type": "code",
   "execution_count": null,
   "metadata": {
    "collapsed": true
   },
   "outputs": [],
   "source": [
    "%matplotlib inline\n",
    "import numpy as np\n",
    "import matplotlib.pyplot as plt\n",
    "import matplotlib as mpl\n",
    "%load_ext autoreload\n",
    "%autoreload 2"
   ]
  },
  {
   "cell_type": "markdown",
   "metadata": {},
   "source": [
    "# Data_tr removing all samples with -999"
   ]
  },
  {
   "cell_type": "code",
   "execution_count": null,
   "metadata": {
    "collapsed": true
   },
   "outputs": [],
   "source": [
    "# import some data to test the functions\n",
    "from helpers import *\n",
    "\n",
    "ids_tr,predictions_tr,data_tr, ids_te,data_te = load_boson_data()\n",
    "\n",
    "invalid_indexes= np.unique(np.where(data_tr == -999)[0])  \n",
    "invalid_indexes   #\"indexes\" of the rows where -999 is present"
   ]
  },
  {
   "cell_type": "code",
   "execution_count": null,
   "metadata": {
    "collapsed": true
   },
   "outputs": [],
   "source": [
    "clean_data_tr = np.delete(data_tr,np.unique(np.where(data_tr == -999)[0]),0)\n",
    "\n",
    "clean_data_tr.shape"
   ]
  },
  {
   "cell_type": "markdown",
   "metadata": {},
   "source": [
    "# Data_tr replacing -999 with 0"
   ]
  },
  {
   "cell_type": "code",
   "execution_count": null,
   "metadata": {
    "collapsed": true
   },
   "outputs": [],
   "source": [
    "with_zero_data_tr = np.where(data_tr == -999, 0, data_tr)\n",
    "\n",
    "with_zero_data_tr.shape"
   ]
  },
  {
   "cell_type": "markdown",
   "metadata": {},
   "source": [
    "# Data_tr replacing -999 with the mean/median/mfv"
   ]
  },
  {
   "cell_type": "code",
   "execution_count": null,
   "metadata": {
    "collapsed": true
   },
   "outputs": [],
   "source": [
    "# to do"
   ]
  },
  {
   "cell_type": "markdown",
   "metadata": {},
   "source": [
    "# Correlation between features"
   ]
  },
  {
   "cell_type": "code",
   "execution_count": null,
   "metadata": {
    "collapsed": true
   },
   "outputs": [],
   "source": [
    "# some analysys with the help of pandas and seaborn\n",
    "import pandas as pd\n",
    "import seaborn as sbn\n",
    "\n",
    "df = pd.read_csv('train_100.csv')\n",
    "data = df.drop(['Id','Prediction'],axis=1)\n",
    "data.head()"
   ]
  },
  {
   "cell_type": "code",
   "execution_count": null,
   "metadata": {
    "collapsed": true
   },
   "outputs": [],
   "source": [
    "# visualize distribution of features and pairwise relationship using seaborn pairplot\n",
    "sbn.pairplot(data)"
   ]
  },
  {
   "cell_type": "code",
   "execution_count": null,
   "metadata": {
    "collapsed": true
   },
   "outputs": [],
   "source": [
    "data.shape"
   ]
  },
  {
   "cell_type": "code",
   "execution_count": null,
   "metadata": {
    "collapsed": true
   },
   "outputs": [],
   "source": [
    "# compute and print the pairwise correlation between the columns in data frame\n",
    "\n",
    "correlations = data.corr()\n",
    "correlations"
   ]
  },
  {
   "cell_type": "markdown",
   "metadata": {},
   "source": [
    "Features that have a strong correlation with other fatures:\n",
    "* DER_tp_h\n",
    "* DER_deltaeta_jet_jet\n",
    "* DER_mass_jet_jet\n",
    "* DER_prodeta_jet_jet\n",
    "* DER_sum_pt\n",
    "* DER_met_phi_centrality\n",
    "* DER_lep_eta_centrality\n",
    "* PRI_met_sumet\n",
    "* PRI_jet_num\n",
    "* PRI_jet_leading_pt\n",
    "* PRI_jet_leading_eta\n",
    "* PRI_jet_leading_phi\n",
    "* PRI_jet_subleading_pt\n",
    "* PRI_jet_subleading_eta\n",
    "* PRI_jet_subleading_phi\n",
    "* PRI_jet_all_pt"
   ]
  },
  {
   "cell_type": "markdown",
   "metadata": {},
   "source": [
    "# Correlation between features for the cleaned data\n",
    "\n",
    "Just wondered if -999 values could cause some correlation between features"
   ]
  },
  {
   "cell_type": "code",
   "execution_count": null,
   "metadata": {
    "collapsed": true
   },
   "outputs": [],
   "source": [
    "clean_data= data[data != -999].dropna( axis=0, how='any')\n",
    "clean_data.shape"
   ]
  },
  {
   "cell_type": "code",
   "execution_count": null,
   "metadata": {
    "collapsed": true
   },
   "outputs": [],
   "source": [
    "correlations = clean_data.corr()\n",
    "correlations"
   ]
  },
  {
   "cell_type": "markdown",
   "metadata": {},
   "source": [
    "Seems yes, but maybe 30 samples only are not enough to properly evaluate the correlation.\n",
    "Featues which are correlated now are:\n",
    "* DER_deltaeta_jet_jet\n",
    "* DER_mass_jet_jet\n",
    "* DER_prodeta_jet_jet\n",
    "* DER_deltar_tau_lep\n",
    "* DER_sum_pt\n",
    "* PRI_met_sumet\t\n",
    "* PRI_jet_leading_pt\n",
    "* PRI_jet_leading_eta\n",
    "* PRI_jet_all_pt"
   ]
  },
  {
   "cell_type": "code",
   "execution_count": null,
   "metadata": {
    "collapsed": true
   },
   "outputs": [],
   "source": []
  }
 ],
 "metadata": {
  "kernelspec": {
   "display_name": "Python 3",
   "language": "python",
   "name": "python3"
  },
  "language_info": {
   "codemirror_mode": {
    "name": "ipython",
    "version": 3
   },
   "file_extension": ".py",
   "mimetype": "text/x-python",
   "name": "python",
   "nbconvert_exporter": "python",
   "pygments_lexer": "ipython3",
   "version": "3.6.1"
  }
 },
 "nbformat": 4,
 "nbformat_minor": 2
}
