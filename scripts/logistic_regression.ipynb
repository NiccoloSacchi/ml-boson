{
 "cells": [
  {
   "cell_type": "code",
   "execution_count": null,
   "metadata": {},
   "outputs": [],
   "source": [
    "# Useful starting lines\n",
    "%matplotlib inline\n",
    "\n",
    "import numpy as np\n",
    "import matplotlib.pyplot as plt\n",
    "from plots import visualization\n",
    "from implementations import *\n",
    "from implementations import compute_loss\n",
    "from proj1_helpers import *\n",
    "from helpers import equalize_predictions\n",
    "\n",
    "%load_ext autoreload\n",
    "%autoreload 2"
   ]
  },
  {
   "cell_type": "code",
   "execution_count": null,
   "metadata": {},
   "outputs": [],
   "source": [
    "from helpers_ex5 import sample_data, load_data \n",
    "# load data.\n",
    "height, weight, gender = load_data()\n",
    "\n",
    "# build sampled x and y.\n",
    "seed = 1\n",
    "y = np.expand_dims(gender, axis=1)\n",
    "X = np.c_[height.reshape(-1), weight.reshape(-1)]\n",
    "y, X = sample_data(y, X, seed, size_samples=500)\n",
    "x, mean_x, std_x = standardize(X)\n",
    "y.shape, x.shape"
   ]
  },
  {
   "cell_type": "code",
   "execution_count": null,
   "metadata": {},
   "outputs": [],
   "source": [
    "y_sub = y\n",
    "x_sub = build_poly(x, 1)\n",
    "y_sub.shape, x_sub.shape"
   ]
  },
  {
   "cell_type": "markdown",
   "metadata": {},
   "source": [
    "## load and clean boson data "
   ]
  },
  {
   "cell_type": "code",
   "execution_count": null,
   "metadata": {},
   "outputs": [],
   "source": [
    "def clean(x_, y_):\n",
    "    #y_,x_ = equalize_predictions(y_,x_)\n",
    "\n",
    "    x_, ndropped = drop_corr_columns(x_, 0.7)\n",
    "    print(ndropped, \"columns have been dropped\")\n",
    "    x_ = fill_with_nan_list(x_, nan_values=[0, -999])\n",
    "    # x_, y_ = drop_nan_rows(x_, y_)\n",
    "    x_, mean_x, std_x = standardize(x_)\n",
    "    x_ = sustitute_nans(x_, substitutions=np.nanmean(x_, axis=0)) \n",
    "\n",
    "    # chose the degree\n",
    "#     degree = 7\n",
    "#     tx_ = build_poly(x_, degree)\n",
    "    tx_ = x_\n",
    "    return tx_, y_\n"
   ]
  },
  {
   "cell_type": "code",
   "execution_count": null,
   "metadata": {},
   "outputs": [],
   "source": [
    "# load the boson data set\n",
    "data_path = \"../dataset/train.csv\"\n",
    "ndata = 250000\n",
    "y_loaded, x_loaded, col_labels = load_partial_csv_data(data_path, ndata)#sub_sample=False)\n",
    "y_loaded = y_loaded.reshape((-1, 1))\n",
    "y_loaded[y_loaded==-1] = 0\n",
    "y_loaded.shape, x_loaded.shape"
   ]
  },
  {
   "cell_type": "code",
   "execution_count": null,
   "metadata": {},
   "outputs": [],
   "source": [
    "subsample = 20000\n",
    "indices = np.random.permutation(y_loaded.shape[0])\n",
    "xsub_, ysub_ = x_loaded[:subsample], y_loaded[:subsample]\n",
    "x_, y_ = clean(xsub_, ysub_)\n",
    "y_[y_== -1] = 0\n",
    "\n",
    "x200_, y200_ = clean(x_loaded, y_loaded)\n",
    "\n",
    "x_.shape, y_.shape, x200_.shape, y200_.shape"
   ]
  },
  {
   "cell_type": "code",
   "execution_count": null,
   "metadata": {},
   "outputs": [],
   "source": [
    "# # take a subset\n",
    "# n = 5000\n",
    "# x_sub = tx_[:n, :]\n",
    "# y_sub = y_boson[:n]\n",
    "# y_sub[y_sub==-1] = 0\n",
    "\n",
    "y_.shape, tx_.shape"
   ]
  },
  {
   "cell_type": "markdown",
   "metadata": {},
   "source": [
    "## Logistic Regression"
   ]
  },
  {
   "cell_type": "markdown",
   "metadata": {},
   "source": [
    "Compute your cost by negative log likelihood."
   ]
  },
  {
   "cell_type": "code",
   "execution_count": null,
   "metadata": {},
   "outputs": [],
   "source": [
    "def sigmoid(t):\n",
    "    \"\"\"apply sigmoid function on t.\"\"\"\n",
    "    return 1.0 / (1 + np.exp(-t))"
   ]
  },
  {
   "cell_type": "code",
   "execution_count": null,
   "metadata": {},
   "outputs": [],
   "source": [
    "def calculate_loss(y, tx, w):\n",
    "    \"\"\"compute the cost by negative log likelihood.\"\"\"\n",
    "    pred = sigmoid(tx @ w)\n",
    "    loss = y.T @ (np.log(pred)) + (1 - y).T @ (np.log(1 - pred))\n",
    "#     print((1 - y).T @ (np.log(1 - pred)))\n",
    "    return np.squeeze(- loss) "
   ]
  },
  {
   "cell_type": "code",
   "execution_count": null,
   "metadata": {},
   "outputs": [],
   "source": [
    "def calculate_gradient(y, tx, w):\n",
    "    \"\"\"compute the gradient of loss.\"\"\"\n",
    "    pred = sigmoid(tx @ w)\n",
    "    \n",
    "    grad = tx.T @ (pred - y)\n",
    "    return grad"
   ]
  },
  {
   "cell_type": "markdown",
   "metadata": {},
   "source": [
    "### Using Gradient Descent\n",
    "Implement your function to calculate the gradient for logistic regression."
   ]
  },
  {
   "cell_type": "code",
   "execution_count": null,
   "metadata": {},
   "outputs": [],
   "source": [
    "def learning_by_gradient_descent(y, tx, w, gamma):\n",
    "    \"\"\"\n",
    "    Do one step of gradient descen using logistic regression.\n",
    "    Return the loss and the updated w.\n",
    "    \"\"\"\n",
    "    loss = calculate_loss(y, tx, w) \n",
    "    grad = calculate_gradient(y, tx, w)\n",
    "    w -= gamma * grad\n",
    "    return loss, w"
   ]
  },
  {
   "cell_type": "markdown",
   "metadata": {},
   "source": [
    "Demo!"
   ]
  },
  {
   "cell_type": "code",
   "execution_count": null,
   "metadata": {},
   "outputs": [],
   "source": [
    "def logistic_regression_gradient_descent_demo(y, tx, gamma_):\n",
    "    # init parameters\n",
    "    max_iter = 1500\n",
    "    threshold = 1e-8\n",
    "    gamma = gamma_\n",
    "    losses = []\n",
    "\n",
    "    # this is the y used to computer the success ratio (it has -1, and 1 instead of 0 and 1)\n",
    "    y_correct = y_.copy()\n",
    "    y_correct[y_correct== 0] = -1\n",
    "    \n",
    "    w = np.zeros((tx.shape[1], 1))\n",
    "\n",
    "    lowest_loss = float('Inf')\n",
    "    best_w = -1\n",
    "    \n",
    "    # start the logistic regression\n",
    "    for iter in range(max_iter):\n",
    "        # get loss and update w.\n",
    "        loss, w = learning_by_gradient_descent(y, tx, w, gamma)\n",
    "        \n",
    "        #gamma /= 1.002\n",
    "#         succ_ratio = 1 - compute_loss(y_correct, tx, w, costfunc=CostFunction.SUCCESS_RATIO)\n",
    "        if loss < lowest_loss: # loss < lowest_loss\n",
    "            lowest_loss = loss # loss\n",
    "            best_w = w\n",
    "            \n",
    "        # log info\n",
    "        if iter % 250 == 0:\n",
    "            succ_ratio = compute_loss(y_correct, tx, w, costfunc=CostFunction.SUCCESS_RATIO)\n",
    "            print(\"Current iteration={i}, loss={l}, prediction={pred}\".format(i=iter, l=loss, pred=succ_ratio))\n",
    "            if succ_ratio < 0.15:\n",
    "                return w\n",
    "            \n",
    "        # converge criterion\n",
    "        losses.append(loss)\n",
    "        if len(losses) > 1 and np.abs(losses[-1] - losses[-2]) < threshold:\n",
    "            break\n",
    "    # visualization\n",
    "    # visualization(y, x[:, 1:], mean_x, std_x, w, \"classification_by_logistic_regression_gradient_descent\")\n",
    "    #print(\"loss={l}\".format(l=calculate_loss(y, tx, w)))\n",
    "    \n",
    "    return best_w"
   ]
  },
  {
   "cell_type": "code",
   "execution_count": null,
   "metadata": {},
   "outputs": [],
   "source": [
    "# choose degree\n",
    "degree = 2\n",
    "tx_ = build_poly(x_, degree)\n",
    "tx_.shape, y_.shape"
   ]
  },
  {
   "cell_type": "code",
   "execution_count": null,
   "metadata": {},
   "outputs": [],
   "source": [
    "ncolumns = x_.shape[1]\n",
    "\n",
    "# # 5000 data\n",
    "# gamma = np.concatenate([\n",
    "#      # gamma for constant, 1st and 2nd degrees\n",
    "#     np.ones(2*ncolumns+1)*1e-4, \n",
    "#     # gamma for 3rd degree \n",
    "#     np.ones(ncolumns)*1e-5,\n",
    "#     # gamma for 4th degree\n",
    "#     np.ones(ncolumns)*1e-7,\n",
    "#     # gamma for 5th degree\n",
    "#     np.ones(ncolumns)*1e-10,\n",
    "# #     # gamma for 6th degree\n",
    "# #     np.ones(ncolumns)*1e-11*0.6,\n",
    "# #     # gamma for 7th degree \n",
    "# #     np.ones(ncolumns)*1e-14*0.3,\n",
    "# #     # gamma for 8th degree \n",
    "# #     np.ones(ncolumns)*1e-15,\n",
    "# #     # gamma for 9th degree \n",
    "# #     np.ones(ncolumns)*1e-18,\n",
    "# #     # gamma for 10th degree \n",
    "# #     np.ones(ncolumns)*1e-20,\n",
    "# ])\\\n",
    "# .reshape((-1, 1))\n",
    "\n",
    "w = logistic_regression_gradient_descent_demo(y_, tx_, gamma)"
   ]
  },
  {
   "cell_type": "code",
   "execution_count": null,
   "metadata": {},
   "outputs": [],
   "source": [
    "# bruteforce\n",
    "y_correct = y_.copy()\n",
    "y_correct[y_correct== 0] = -1\n",
    "\n",
    "best_ratio = 0\n",
    "best_w = -1\n",
    "gammas = np.logspace(-20, -15, 10)\n",
    "bests = []\n",
    "for degree in range(4, 18):\n",
    "    tx_ = build_poly(x_, degree)\n",
    "    for gamma in gammas:\n",
    "        w = logistic_regression_gradient_descent_demo(y_, tx_, gamma)\n",
    "        suc_ratio = compute_loss(y_correct, tx_, w, costfunc=CostFunction.SUCCESS_RATIO)\n",
    "        if suc_ratio > 0.75:\n",
    "            print(\"degree:\", degree, \", gamma:\", gamma, \", weigths:\", w, \", succ_ratio:\", suc_ratio)\n",
    "            bests.append({\"degree\":degree, \"gamma\": gamma, \"weigths\": w, \"succ_ratio\": suc_ratio})"
   ]
  },
  {
   "cell_type": "code",
   "execution_count": null,
   "metadata": {},
   "outputs": [],
   "source": [
    "# for index, i in enumerate(bests):\n",
    "#     if i[\"succ_ratio\"] > 0.78:\n",
    "#         print(index)\n",
    "# bests[4]"
   ]
  },
  {
   "cell_type": "code",
   "execution_count": null,
   "metadata": {},
   "outputs": [],
   "source": [
    "# y_s_ = y200_.copy()\n",
    "# y_s_[y_s_== 0] = -1\n",
    "tx200_ = build_poly(x200_, degree)\n",
    "\n",
    "compute_loss(y200_, tx200_, w, costfunc=CostFunction.SUCCESS_RATIO)"
   ]
  },
  {
   "cell_type": "code",
   "execution_count": null,
   "metadata": {},
   "outputs": [],
   "source": [
    "ncolumns = x_.shape[1]\n",
    "len_ = len(w)\n",
    "wei = np.array([w[i:i+ncolumns] for i in range(1, len_, ncolumns)])\n",
    "(wei<0.001)\n",
    "w, wei"
   ]
  },
  {
   "cell_type": "markdown",
   "metadata": {},
   "source": [
    "### Using penalized logistic regression\n",
    "Fill in the function below."
   ]
  },
  {
   "cell_type": "code",
   "execution_count": null,
   "metadata": {},
   "outputs": [],
   "source": [
    "def penalized_logistic_regression(y, tx, w, lambda_):\n",
    "    \"\"\"return the loss and gradient.\"\"\"\n",
    "    num_samples = y.shape[0]\n",
    "    loss = calculate_loss(y, tx, w) + lambda_ * np.squeeze(w.T.dot(w))\n",
    "    gradient = calculate_gradient(y, tx, w) + 2 * lambda_ * w\n",
    "    return loss, gradient"
   ]
  },
  {
   "cell_type": "code",
   "execution_count": null,
   "metadata": {},
   "outputs": [],
   "source": [
    "def learning_by_penalized_gradient(y, tx, w, gamma, lambda_):\n",
    "    \"\"\"\n",
    "    Do one step of gradient descent, using the penalized logistic regression.\n",
    "    Return the loss and updated w.\n",
    "    \"\"\"\n",
    "    loss, gradient = penalized_logistic_regression(y, tx, w, lambda_)\n",
    "    w -= gamma * gradient\n",
    "    return loss, w"
   ]
  },
  {
   "cell_type": "code",
   "execution_count": null,
   "metadata": {},
   "outputs": [],
   "source": [
    "def logistic_regression_penalized_gradient_descent_demo(y, tx):\n",
    "    # init parameters\n",
    "    max_iter = 1000\n",
    "    lambda_ = 0.1\n",
    "    threshold = 1e-18\n",
    "    \n",
    "    gamma = 1e-7\n",
    "    \n",
    "    losses = []\n",
    "    \n",
    "    w = np.zeros((tx.shape[1], 1))\n",
    "\n",
    "    lowest_loss = float('Inf')\n",
    "    best_w = -1\n",
    "    # start the logistic regression\n",
    "    for iter in range(max_iter):\n",
    "        # get loss and update w.\n",
    "        loss, w = learning_by_penalized_gradient(y, tx, w, gamma, lambda_)\n",
    "        # update lambda\n",
    "        # gamma /= 1.02\n",
    "        \n",
    "        if loss < lowest_loss:\n",
    "            lowest_loss = loss\n",
    "            best_w = w\n",
    "            \n",
    "        # log info\n",
    "        if iter % 100 == 0:\n",
    "            print(\"Current iteration={i}, loss={l}, prediction={pred}\".format(i=iter, l=loss, pred=compute_loss(y, tx, w, costfunc=CostFunction.SUCCESS_RATIO)))\n",
    "        # converge criterion\n",
    "        losses.append(loss)\n",
    "        if len(losses) > 1 and np.abs(losses[-1] - losses[-2]) < threshold:\n",
    "            break\n",
    "    # visualization\n",
    "    #visualization(y, x, mean_x, std_x, w, \"classification_by_logistic_regression_penalized_gradient_descent\")\n",
    "    print(\"loss={l}\".format(l=calculate_loss(y, tx, w)))\n",
    "    \n",
    "    return best_w\n",
    "    \n",
    "w = logistic_regression_penalized_gradient_descent_demo(y_, tx_)"
   ]
  },
  {
   "cell_type": "code",
   "execution_count": null,
   "metadata": {},
   "outputs": [],
   "source": [
    "y_sub_ = y_.copy()\n",
    "y_sub_[y_sub_==0] = -1\n",
    "compute_loss(y_sub_, tx_, w, costfunc=CostFunction.SUCCESS_RATIO)"
   ]
  },
  {
   "cell_type": "code",
   "execution_count": null,
   "metadata": {},
   "outputs": [],
   "source": [
    "y_.shape, tx_.shape"
   ]
  },
  {
   "cell_type": "markdown",
   "metadata": {},
   "source": [
    "## Create submit file"
   ]
  },
  {
   "cell_type": "code",
   "execution_count": null,
   "metadata": {},
   "outputs": [],
   "source": [
    "data_path = \"../dataset/test.csv\"\n",
    "yb, input_data, ids = load_csv_data(data_path, sub_sample=False)\n",
    "test_tx,_ = clean(input_data, yb)\n",
    "create_csv_submission(ids, predict_labels(w, test_tx), \"trial\")"
   ]
  },
  {
   "cell_type": "code",
   "execution_count": null,
   "metadata": {},
   "outputs": [],
   "source": [
    "w.shape, test_tx.shape"
   ]
  }
 ],
 "metadata": {
  "anaconda-cloud": {},
  "kernelspec": {
   "display_name": "Python [conda root]",
   "language": "python",
   "name": "conda-root-py"
  },
  "language_info": {
   "codemirror_mode": {
    "name": "ipython",
    "version": 3
   },
   "file_extension": ".py",
   "mimetype": "text/x-python",
   "name": "python",
   "nbconvert_exporter": "python",
   "pygments_lexer": "ipython3",
   "version": "3.6.2"
  }
 },
 "nbformat": 4,
 "nbformat_minor": 1
}
