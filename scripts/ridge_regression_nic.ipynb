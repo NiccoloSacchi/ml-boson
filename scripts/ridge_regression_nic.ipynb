{
 "cells": [
  {
   "cell_type": "code",
   "execution_count": null,
   "metadata": {},
   "outputs": [],
   "source": [
    "%matplotlib inline\n",
    "import numpy as np\n",
    "import matplotlib.pyplot as plt\n",
    "import matplotlib as mpl\n",
    "from implementations import * \n",
    "from proj1_helpers import *\n",
    "%load_ext autoreload\n",
    "%autoreload 2"
   ]
  },
  {
   "cell_type": "code",
   "execution_count": null,
   "metadata": {},
   "outputs": [],
   "source": [
    "# import some data to test the functions\n",
    "from helpers import *\n",
    "\n",
    "ids_tr,predictions_tr,data_tr, ids_te,data_te = load_boson_data()\n",
    "\n",
    "y = predictions_tr\n",
    "\n",
    "x, mean_x, std_x = standardize(data_tr)\n",
    "\n",
    "y,tx = build_model_data(x,y)\n",
    "\n",
    "y.shape, x.shape, tx.shape, data_tr.shape"
   ]
  },
  {
   "cell_type": "code",
   "execution_count": null,
   "metadata": {},
   "outputs": [],
   "source": [
    "# gradient descent\n",
    "initial_w = np.zeros(tx.shape[1])\n",
    "max_iters = 20\n",
    "gamma = 0.1\n",
    "loss, w = gradient_descent(y, tx, initial_w, max_iters, gamma, print_output=False, plot_losses=True)\n",
    "loss,w"
   ]
  },
  {
   "cell_type": "code",
   "execution_count": null,
   "metadata": {},
   "outputs": [],
   "source": [
    "# stochastic gradient descent\n",
    "# gradient descent\n",
    "initial_w = np.array([0, 0])\n",
    "max_iters = 20\n",
    "gamma = 0.5\n",
    "loss, w = gradient_descent(y, tx, initial_w, max_iters, gamma, batch_size=1, print_output=False, plot_losses=True)\n",
    "loss,w"
   ]
  },
  {
   "cell_type": "code",
   "execution_count": null,
   "metadata": {},
   "outputs": [],
   "source": [
    "# analityc solution\n",
    "least_squares(y, tx)"
   ]
  },
  {
   "cell_type": "code",
   "execution_count": null,
   "metadata": {},
   "outputs": [],
   "source": [
    "# ridge regression to choose smaller weights (the simpler the model the better)\n",
    "lambda_ = 0.02 # how to properly choose lambda?\n",
    "ridge_regression(y, tx, lambda_)"
   ]
  },
  {
   "cell_type": "code",
   "execution_count": null,
   "metadata": {},
   "outputs": [],
   "source": [
    "# logistic regression (it is gradient descent with a different loss function)\n",
    "from helpers import sample_data, load_data\n",
    "from plots import visualization\n",
    "\n",
    "# load data.\n",
    "height, weight, gender = load_data()\n",
    "\n",
    "# build sampled x and y.\n",
    "seed = 1\n",
    "y = np.expand_dims(gender, axis=1)\n",
    "X = np.c_[height.reshape(-1), weight.reshape(-1)]\n",
    "y, X = sample_data(y, X, seed, size_samples=200)\n",
    "x, mean_x, std_x = standardize(X)\n",
    "\n",
    "tx = build_poly(x, 1)\n",
    "initial_w = np.ones(tx.shape[1])\n",
    "max_iters = 50\n",
    "gamma = 0.2\n",
    "minloss, w = gradient_descent(y, tx, initial_w, max_iters, gamma, batch_size=-1, print_output=False, plot_losses=True, costfunc=CostFunction.PROB)\n",
    "# w = np.array(w).reshape(-1, 1)\n",
    "visualization(y, x, mean_x, std_x, w, \"classification_by_least_square\")\n",
    "minloss, w"
   ]
  },
  {
   "cell_type": "code",
   "execution_count": null,
   "metadata": {},
   "outputs": [],
   "source": [
    "tes_std, _, _ = standardize(data_te)\n",
    "tx_std =  build_poly(tes_std, 1)\n",
    "\n",
    "print(tx_std.shape)\n",
    "predict_labels(w, tx_std)"
   ]
  },
  {
   "cell_type": "markdown",
   "metadata": {},
   "source": [
    "## 0. Imports"
   ]
  },
  {
   "cell_type": "code",
   "execution_count": null,
   "metadata": {},
   "outputs": [],
   "source": [
    "%matplotlib inline\n",
    "import numpy as np\n",
    "import matplotlib.pyplot as plt\n",
    "import matplotlib as mpl\n",
    "from implementations import * \n",
    "from proj1_helpers import *\n",
    "%load_ext autoreload\n",
    "%autoreload 2"
   ]
  },
  {
   "cell_type": "markdown",
   "metadata": {},
   "source": [
    "## 1. Load data"
   ]
  },
  {
   "cell_type": "code",
   "execution_count": null,
   "metadata": {
    "scrolled": true
   },
   "outputs": [],
   "source": [
    "# just load the training dataset\n",
    "data_path = \"../dataset/train.csv\"\n",
    "y_loaded, x_loaded, ids_te = load_csv_data(data_path, sub_sample=False)\n",
    "y_loaded.shape, x_loaded.shape"
   ]
  },
  {
   "cell_type": "code",
   "execution_count": null,
   "metadata": {},
   "outputs": [],
   "source": [
    "y1 = np.where(y_loaded == 1)\n",
    "y0 = np.where(y_loaded == -1)\n",
    "np.sum(x_loaded[y1, -1] == 0), np.sum(x_loaded[y0, -1] == 0)"
   ]
  },
  {
   "cell_type": "markdown",
   "metadata": {},
   "source": [
    "## 2. Clean data"
   ]
  },
  {
   "cell_type": "code",
   "execution_count": null,
   "metadata": {},
   "outputs": [],
   "source": [
    "y_all = y_loaded.copy()\n",
    "x_all = clean_x2(x_loaded)\n",
    "x_all.shape, y_all.shape"
   ]
  },
  {
   "cell_type": "code",
   "execution_count": null,
   "metadata": {},
   "outputs": [],
   "source": [
    "# decide the maximum correlation between the columns\n",
    "corr = 0.8\n",
    "# clean the input features\n",
    "x_all, keptCols = clean_x(x_loaded, corr, subs_func=np.nanstd, bool_col=True)\n",
    "y_all = y_loaded\n",
    "\n",
    "# extract a subsample for the training\n",
    "subsample = 50000\n",
    "indices = np.random.permutation(y_all.shape[0])\n",
    "x_sub, y_sub = x_all[:subsample], y_all[:subsample]\n",
    "\n",
    "x_sub.shape, y_sub.shape, x_all.shape, y_all.shape"
   ]
  },
  {
   "cell_type": "code",
   "execution_count": null,
   "metadata": {},
   "outputs": [],
   "source": [
    "def norm(x, y):\n",
    "    y_1 = np.where(y == 1)[0]\n",
    "    y_0 = np.where(y == -1)[0]\n",
    "\n",
    "    if len(y_1) > len(y_0):\n",
    "        y_1 = y_1[:len(y_0)]\n",
    "        return np.concatenate([x[y_0, :], x[y_1, :]], axis=0), np.append(y[y_0], y[y_1])\n",
    "    else:\n",
    "        y_0 = y_0[:len(y_1)]\n",
    "        return np.concatenate([x[y_0, :], x[y_1, :]], axis=0), np.append(y[y_0], y[y_1])\n",
    "    \n",
    "# possibily equalize the number of 1s and -1s (just for the training!!)\n",
    "x_all_, y_all_ = norm(x_all, y_all)\n",
    "\n",
    "x_all_.shape, y_all_.shape"
   ]
  },
  {
   "cell_type": "markdown",
   "metadata": {},
   "source": [
    "### clean_x3"
   ]
  },
  {
   "cell_type": "code",
   "execution_count": null,
   "metadata": {},
   "outputs": [],
   "source": [
    "y_all = y_loaded.copy()\n",
    "x_all, bool_cols = clean_x3(x_loaded)"
   ]
  },
  {
   "cell_type": "markdown",
   "metadata": {},
   "source": [
    "## 3. train and test models:"
   ]
  },
  {
   "cell_type": "markdown",
   "metadata": {},
   "source": [
    "### Ridge regression with cross validation"
   ]
  },
  {
   "cell_type": "code",
   "execution_count": null,
   "metadata": {},
   "outputs": [],
   "source": [
    "# just show how the function ratios_visualization works\n",
    "\n",
    "model1 = np.array([\n",
    "    [0.65, 0.9], # relative to degrees[0]\n",
    "    [0.7, 0.8],  # relative to degrees[1]\n",
    "    [0.7, 0.7]]) # relative to degrees[2]\n",
    "model2 =  np.array([\n",
    "    [0.7, 0.6],  # relative to degrees[0]\n",
    "    [0.9, 1],    # relative to degrees[1]\n",
    "    [0.8, 0.8]]) # relative to degrees[2]\n",
    "degree_list = np.array([2, 4, 7])\n",
    "lambdas = np.array([0.1, 0.5]) # x asis\n",
    " \n",
    "ratios_visualization([model1, model2, model1-0.1], degree_list, lambdas, x_label=\"x label\", log_axis_x=False, \n",
    "                     save_figure_with_name=\"test_figure\")"
   ]
  },
  {
   "cell_type": "code",
   "execution_count": null,
   "metadata": {},
   "outputs": [],
   "source": [
    "# num_sets: number of sets in which the dataset will be splitted to run the cross validation\n",
    "# degree_list: list of degree to be tried\n",
    "# lambdas: list of lambdas to be tried \n",
    "def cross_validation_ridge_regression(x, y, num_K_sets, degree_list, lambdas):\n",
    "    seed = 2\n",
    "    \n",
    "    # split indices in k sets\n",
    "    k_indices = build_k_indices(y, num_K_sets, seed)\n",
    "    \n",
    "    ratio_tr = [] # matrix success ratio obtained with the training sets\n",
    "    ratio_te = [] # matrix success ratio obtained with the test sets\n",
    "\n",
    "    # define lists to store the loss of training data and test data\n",
    "    for nfigure, degree in enumerate(degree_list): # one figure per degree\n",
    "        tx = build_poly(x, degree) \n",
    "        \n",
    "        # one row (figure) per degree\n",
    "        ratio_tr.append([])\n",
    "        ratio_te.append([])\n",
    "        \n",
    "        for npoint, lambda_ in enumerate(lambdas):\n",
    "            # for each lambda we compute the expected ratio of success (this will be the a point in the figure)\n",
    "            ratio_tr[nfigure].append(0)\n",
    "            ratio_te[nfigure].append(0)\n",
    "            \n",
    "            for k_curr in range(num_K_sets):\n",
    "                train, test = get_kth_set(y, tx, k_indices, k_curr)\n",
    "                \n",
    "                # train the model, just line should change depending on the chosen training \n",
    "                _, w = ridge_regression(train.y, train.tx, lambda_)\n",
    "                \n",
    "#                 # gradient descent\n",
    "#                 initial_w = np.zeros(tx.shape[1])\n",
    "#                 max_iters = 50\n",
    "#                 gamma = lambda_\n",
    "#                 _, w = gradient_descent(train.y, train.tx, initial_w, max_iters, gamma, batch_size=-1, print_output=False, plot_losses=False, costfunc=CostFunction.MSE)\n",
    "                \n",
    "                # compute how good is the model\n",
    "                ratio_tr[nfigure][npoint] += compute_loss(train.y, train.tx, w, costfunc=CostFunction.SUCCESS_RATIO)\n",
    "                ratio_te[nfigure][npoint] += compute_loss(test.y, test.tx, w, costfunc=CostFunction.SUCCESS_RATIO)\n",
    "            \n",
    "            # average the ratio obtained with the cross validation\n",
    "            ratio_tr[nfigure][npoint] /= num_K_sets\n",
    "            ratio_te[nfigure][npoint] /= num_K_sets\n",
    "            \n",
    "    ratio_tr = np.array(ratio_tr)\n",
    "    ratio_te = np.array(ratio_te)\n",
    "    \n",
    "#     print(ratio_tr.shape) # #degree x #lambdas\n",
    "#     print(ratio_te.shape)\n",
    "#     print(degrees.shape)\n",
    "#     print(lambdas.shape)\n",
    "    \n",
    "    return ratio_tr, ratio_te"
   ]
  },
  {
   "cell_type": "code",
   "execution_count": null,
   "metadata": {},
   "outputs": [],
   "source": [
    "x_sub.shape, y_sub.shape, x_all.shape, y_all.shape"
   ]
  },
  {
   "cell_type": "code",
   "execution_count": null,
   "metadata": {},
   "outputs": [],
   "source": [
    "# the lambda of the ridge regression does not affect mush the model\n",
    "nlambdas = 5\n",
    "lambdas = np.linspace(0, 1000, nlambdas)\n",
    "\n",
    "num_K_sets = 2\n",
    "degree_list = [5, 7, 9, 13, 15, 17]\n",
    "\n",
    "ratio_tr, ratio_te = cross_validation_ridge_regression(x_sub, y_sub, num_K_sets, degree_list, lambdas)"
   ]
  },
  {
   "cell_type": "code",
   "execution_count": null,
   "metadata": {},
   "outputs": [],
   "source": [
    "# there is A LOT of data => there is no overfitting => the training error is close to the test error => it does\n",
    "# not makes sense to do the cross validation (just use the whole set to train the data and compute the \n",
    "# SUCCESS_RATIO on the training data)\n",
    "cross_validation_visualization(ratio_tr, ratio_te, degree_list, lambdas, \"lambda (ridge_regression)\")\n",
    "\n",
    "ratio_tr.shape, ratio_te.shape"
   ]
  },
  {
   "cell_type": "markdown",
   "metadata": {},
   "source": [
    "### Ridge regression without cross validation"
   ]
  },
  {
   "cell_type": "code",
   "execution_count": null,
   "metadata": {},
   "outputs": [],
   "source": [
    "# num_sets: number of sets in which the dataset will be splitted to run the cross validation\n",
    "# degree_list: list of degree to be tried\n",
    "# lambdas: list of lambdas to be tried \n",
    "def ridge_regression_tuning(x, y, degree_list, lambdas):    \n",
    "    \n",
    "    ratios_tr = [] # matrix success ratio obtained with the training sets\n",
    "    ratios_te = []\n",
    "\n",
    "    # define lists to store the loss of training data and test data\n",
    "    for nfigure, degree in enumerate(degree_list): # one figure per degree\n",
    "        tx = build_poly(x, degree) \n",
    "        tx = np.hstack((bool_cols[:tx.shape[0], :], tx))\n",
    "        \n",
    "        tx_all = build_poly(x_all, degree)\n",
    "        tx_all = np.hstack((bool_cols, tx_all))\n",
    "        \n",
    "        \n",
    "        # one row (figure) per degree\n",
    "        ratios_tr.append([])\n",
    "        ratios_te.append([])\n",
    "        \n",
    "        for npoint, lambda_ in enumerate(lambdas):\n",
    "            # for each lambda we compute the expected ratio of success (this will be the a point in the figure)\n",
    "            ratios_tr[nfigure].append(0)\n",
    "            ratios_te[nfigure].append(0)\n",
    "            \n",
    "            # train the model, just line should change depending on the chosen training \n",
    "            _, w = ridge_regression(y, tx, lambda_)\n",
    "\n",
    "            ratios_tr[nfigure][npoint] = compute_loss(y, tx, w, costfunc=CostFunction.SUCCESS_RATIO)\n",
    "            ratios_te[nfigure][npoint] = compute_loss(y_all, tx_all, w, costfunc=CostFunction.SUCCESS_RATIO)\n",
    "    \n",
    "    return np.array(ratios_tr), np.array(ratios_te)"
   ]
  },
  {
   "cell_type": "code",
   "execution_count": null,
   "metadata": {},
   "outputs": [],
   "source": [
    "x_all.shape, y_all.shape, bool_cols.shape"
   ]
  },
  {
   "cell_type": "code",
   "execution_count": null,
   "metadata": {},
   "outputs": [],
   "source": [
    "# the lambda of the ridge regression does not affect much the model\n",
    "nlambdas = 5\n",
    "lambdas = np.linspace(0, 0.1, nlambdas)\n",
    "degree_list = [5, 7, 9, 11, 13, 15]\n",
    "\n",
    "ratios_tr, ratios_te = ridge_regression_tuning(x_all[:50000], y_all[:50000], degree_list, lambdas)\n",
    "\n",
    "# _, w = ridge_regression(y, tx, lambda_)\n",
    "\n",
    "# plot\n",
    "x_axis = lambdas\n",
    "figure_name = \"\"\n",
    "ratios_visualization([ratios_tr, ratios_te], degree_list, x_axis, x_label=\"lambas\", log_axis_x=False,\n",
    "                    save_figure_with_name=figure_name)"
   ]
  },
  {
   "cell_type": "code",
   "execution_count": null,
   "metadata": {},
   "outputs": [],
   "source": [
    "np.where([ratios_te > 0.81])"
   ]
  },
  {
   "cell_type": "code",
   "execution_count": null,
   "metadata": {},
   "outputs": [],
   "source": [
    "tx_all_.shape, txy_all.shape"
   ]
  },
  {
   "cell_type": "code",
   "execution_count": null,
   "metadata": {},
   "outputs": [],
   "source": [
    "# chose the best parameters and compute the weigths\n",
    "degree = 18\n",
    "lambda_ = 0\n",
    "tx_all = build_poly(x_all, degree) \n",
    "tx_all = np.hstack((bool_cols, tx_all))\n",
    "\n",
    "_, w = ridge_regression(y_all, tx_all, lambda_)\n",
    "compute_loss(y_all, tx_all, w, costfunc=CostFunction.SUCCESS_RATIO)\n",
    "\n",
    "# tx_sub = build_poly(x_sub, degree) \n",
    "# _, w = ridge_regression(y_sub, tx_sub, lambda_)\n",
    "# compute_loss(y_all, tx_all, w, costfunc=CostFunction.SUCCESS_RATIO)"
   ]
  },
  {
   "cell_type": "markdown",
   "metadata": {},
   "source": [
    "### Gradient descent try"
   ]
  },
  {
   "cell_type": "code",
   "execution_count": null,
   "metadata": {},
   "outputs": [],
   "source": [
    "degree = 4\n",
    "tx = build_poly(x, degree) "
   ]
  },
  {
   "cell_type": "markdown",
   "metadata": {},
   "source": [
    "### Logistic regression"
   ]
  },
  {
   "cell_type": "code",
   "execution_count": null,
   "metadata": {},
   "outputs": [],
   "source": [
    "initial_w = np.zeros(tx.shape[1])-1\n",
    "max_iters = 5 # try a small one first to check it is converging \n",
    "gamma = 0.000000000002 # very small (for higher diverges)\n",
    "\n",
    "_, w = gradient_descent(y, tx, initial_w, max_iters, gamma, batch_size=-1, \n",
    "                        print_output_with_weights=[0, 1, 2], plot_losses=True, costfunc=CostFunction.MSE)\n",
    "\n",
    "print(compute_loss(y, tx, w, costfunc=CostFunction.SUCCESS_RATIO))"
   ]
  },
  {
   "cell_type": "markdown",
   "metadata": {},
   "source": [
    "## Create submit file"
   ]
  },
  {
   "cell_type": "code",
   "execution_count": null,
   "metadata": {},
   "outputs": [],
   "source": [
    "# compute w\n",
    "degree = 13\n",
    "lambda_ = 0\n",
    "tx_all = build_poly(x_all, degree)\n",
    "_, w = ridge_regression(y_all, tx_all, lambda_)\n",
    "compute_loss(y_all, tx_all, w, costfunc=CostFunction.SUCCESS_RATIO)"
   ]
  },
  {
   "cell_type": "code",
   "execution_count": null,
   "metadata": {},
   "outputs": [],
   "source": [
    "# load test dataset\n",
    "data_path = \"../dataset/test.csv\"\n",
    "y_te_loaded, x_te_loaded, ids_te = load_csv_data(data_path, sub_sample=False)\n",
    "y_te_loaded.shape, x_te_loaded.shape"
   ]
  },
  {
   "cell_type": "code",
   "execution_count": null,
   "metadata": {},
   "outputs": [],
   "source": [
    "# clean in the same way of the trained set\n",
    "x_te = clean_x2(x_te_loaded)\n",
    "x_te.shape"
   ]
  },
  {
   "cell_type": "code",
   "execution_count": null,
   "metadata": {},
   "outputs": [],
   "source": [
    "# create the poly\n",
    "degree = 13\n",
    "tx_te = build_poly(x_te, degree)\n",
    "\n",
    "# predict\n",
    "y_te_pred = predict_labels(w, tx_te)\n",
    "y_te_pred.shape, (y_te_pred==-1).sum(), (y_te_pred==1).sum()"
   ]
  },
  {
   "cell_type": "code",
   "execution_count": null,
   "metadata": {},
   "outputs": [],
   "source": [
    "# num_correct = np.sum(y_te_pred==y_te_loaded)\n",
    "# num_correct/len(y_te_pred)"
   ]
  },
  {
   "cell_type": "code",
   "execution_count": null,
   "metadata": {},
   "outputs": [],
   "source": [
    "# store the predictions\n",
    "create_csv_submission(ids_te, y_te_pred, \"ridge_regression_44_columns_keepall_add14columns\")"
   ]
  }
 ],
 "metadata": {
  "kernelspec": {
   "display_name": "Python [conda root]",
   "language": "python",
   "name": "conda-root-py"
  },
  "language_info": {
   "codemirror_mode": {
    "name": "ipython",
    "version": 3
   },
   "file_extension": ".py",
   "mimetype": "text/x-python",
   "name": "python",
   "nbconvert_exporter": "python",
   "pygments_lexer": "ipython3",
   "version": "3.6.2"
  }
 },
 "nbformat": 4,
 "nbformat_minor": 2
}
