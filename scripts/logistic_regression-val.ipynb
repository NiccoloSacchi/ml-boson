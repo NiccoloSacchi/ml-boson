{
 "cells": [
  {
   "cell_type": "markdown",
   "metadata": {},
   "source": [
    "## load and clean boson data "
   ]
  },
  {
   "cell_type": "code",
   "execution_count": null,
   "metadata": {},
   "outputs": [],
   "source": [
    "from proj1_helpers import *\n",
    "from helpers import *\n",
    "\n",
    "# load the boson data set\n",
    "data_path = \"../dataset/train.csv\"\n",
    "y_boson, x_boson, col_labels = load_csv_data(data_path, sub_sample=False)\n",
    "y_boson = y_boson.reshape((-1, 1))\n",
    "\n",
    "y_boson.shape, x_boson.shape"
   ]
  },
  {
   "cell_type": "code",
   "execution_count": null,
   "metadata": {
    "collapsed": true
   },
   "outputs": [],
   "source": [
    "y_boson,x_boson = equalize_predictions(y_boson,x_boson)\n",
    "\n",
    "x_ = fill_with_nan_list(x_boson, nan_values=[0, -999])\n",
    "x_, mean_x, std_x = standardize(x_)\n",
    "x_ = sustitute_nans(x_, substitutions=np.nanmean(x_, axis=0)) \n",
    "x_.shape"
   ]
  },
  {
   "cell_type": "code",
   "execution_count": null,
   "metadata": {
    "collapsed": true
   },
   "outputs": [],
   "source": [
    "# chose the degree\n",
    "degree = 4\n",
    "tx_ = build_poly(x_, degree)\n",
    "tx_.shape"
   ]
  },
  {
   "cell_type": "code",
   "execution_count": null,
   "metadata": {
    "collapsed": true
   },
   "outputs": [],
   "source": [
    "# take a subset\n",
    "n = 5000\n",
    "x_sub = tx_[:n, :]\n",
    "y_sub = y_boson[:n]\n",
    "y_sub[y_sub==-1] = 0\n",
    "\n",
    "y_sub.shape, x_sub.shape"
   ]
  },
  {
   "cell_type": "markdown",
   "metadata": {},
   "source": [
    "## Logistic Regression"
   ]
  },
  {
   "cell_type": "markdown",
   "metadata": {},
   "source": [
    "Compute your cost by negative log likelihood."
   ]
  },
  {
   "cell_type": "code",
   "execution_count": null,
   "metadata": {
    "collapsed": true
   },
   "outputs": [],
   "source": [
    "def sigmoid(t):\n",
    "    \"\"\"apply sigmoid function on t.\"\"\"\n",
    "    return 1.0 / (1 + np.exp(-t))"
   ]
  },
  {
   "cell_type": "code",
   "execution_count": null,
   "metadata": {
    "collapsed": true
   },
   "outputs": [],
   "source": [
    "def calculate_loss(y, tx, w):\n",
    "    \"\"\"compute the cost by negative log likelihood.\"\"\"\n",
    "    pred = sigmoid(tx @ w)\n",
    "    loss = y.T @ (np.log(pred)) + (1 - y).T @ (np.log(1 - pred))\n",
    "    return np.squeeze(- loss) "
   ]
  },
  {
   "cell_type": "code",
   "execution_count": null,
   "metadata": {
    "collapsed": true
   },
   "outputs": [],
   "source": [
    "def calculate_gradient(y, tx, w):\n",
    "    \"\"\"compute the gradient of loss.\"\"\"\n",
    "    pred = sigmoid(tx @ w)\n",
    "    \n",
    "    grad = tx.T @ (pred - y)\n",
    "    return grad"
   ]
  },
  {
   "cell_type": "markdown",
   "metadata": {},
   "source": [
    "### Using Gradient Descent\n",
    "Implement your function to calculate the gradient for logistic regression."
   ]
  },
  {
   "cell_type": "code",
   "execution_count": null,
   "metadata": {
    "collapsed": true
   },
   "outputs": [],
   "source": [
    "def learning_by_gradient_descent(y, tx, w, gamma):\n",
    "    \"\"\"\n",
    "    Do one step of gradient descen using logistic regression.\n",
    "    Return the loss and the updated w.\n",
    "    \"\"\"\n",
    "    loss = calculate_loss(y, tx, w)\n",
    "    grad = calculate_gradient(y, tx, w)\n",
    "    w -= gamma * grad\n",
    "    return loss, w"
   ]
  },
  {
   "cell_type": "markdown",
   "metadata": {},
   "source": [
    "Demo!"
   ]
  },
  {
   "cell_type": "code",
   "execution_count": null,
   "metadata": {
    "collapsed": true
   },
   "outputs": [],
   "source": [
    "def logistic_regression_gradient_descent_demo(y, x):\n",
    "    # init parameters\n",
    "    max_iter = 5000\n",
    "    threshold = 1e-8\n",
    "    gamma = 1e-2\n",
    "    losses = []\n",
    "\n",
    "    # build tx\n",
    "#     tx = np.c_[np.ones((y.shape[0], 1)), x]\n",
    "    tx = x\n",
    "    w = np.zeros((x.shape[1], 1))\n",
    "\n",
    "    lowest_loss = float('Inf')\n",
    "    best_w = -1\n",
    "    \n",
    "    # start the logistic regression\n",
    "    for iter in range(max_iter):\n",
    "        # get loss and update w.\n",
    "        loss, w = learning_by_gradient_descent(y, tx, w, gamma)\n",
    "        \n",
    "        #gamma /= 1.5\n",
    "        \n",
    "        if loss < lowest_loss:\n",
    "            lowest_loss = loss\n",
    "            best_w = w\n",
    "            \n",
    "        # log info\n",
    "        if iter % 100 == 0:\n",
    "            print(\"Current iteration={i}, loss={l}\".format(i=iter, l=loss))\n",
    "        # converge criterion\n",
    "        losses.append(loss)\n",
    "#         if len(losses) > 1 and np.abs(losses[-1] - losses[-2]) < threshold:\n",
    "#             break\n",
    "    # visualization\n",
    "    visualization(y, x[:, 1:], mean_x, std_x, w, \"classification_by_logistic_regression_gradient_descent\")\n",
    "    print(\"loss={l}\".format(l=calculate_loss(y, tx, w)))\n",
    "    \n",
    "    return best_w\n",
    "\n",
    "w = logistic_regression_gradient_descent_demo(y_sub, x_sub)"
   ]
  },
  {
   "cell_type": "code",
   "execution_count": null,
   "metadata": {
    "collapsed": true
   },
   "outputs": [],
   "source": [
    "y_sub_ = y_sub.copy()\n",
    "y_sub_[y_sub_== 0] = -1\n",
    "compute_loss(y_sub_, x_sub, w, costfunc=CostFunction.SUCCESS_RATIO)"
   ]
  },
  {
   "cell_type": "markdown",
   "metadata": {},
   "source": [
    "### Using penalized logistic regression\n",
    "Fill in the function below."
   ]
  },
  {
   "cell_type": "code",
   "execution_count": null,
   "metadata": {
    "collapsed": true
   },
   "outputs": [],
   "source": [
    "def penalized_logistic_regression(y, tx, w, lambda_):\n",
    "    \"\"\"return the loss and gradient.\"\"\"\n",
    "    num_samples = y.shape[0]\n",
    "    loss = calculate_loss(y, tx, w) + lambda_ * np.squeeze(w.T.dot(w))\n",
    "    gradient = calculate_gradient(y, tx, w) + 2 * lambda_ * w\n",
    "    return loss, gradient"
   ]
  },
  {
   "cell_type": "code",
   "execution_count": null,
   "metadata": {
    "collapsed": true
   },
   "outputs": [],
   "source": [
    "def learning_by_penalized_gradient(y, tx, w, gamma, lambda_):\n",
    "    \"\"\"\n",
    "    Do one step of gradient descent, using the penalized logistic regression.\n",
    "    Return the loss and updated w.\n",
    "    \"\"\"\n",
    "    loss, gradient = penalized_logistic_regression(y, tx, w, lambda_)\n",
    "    w -= gamma * gradient\n",
    "    return loss, w"
   ]
  },
  {
   "cell_type": "code",
   "execution_count": null,
   "metadata": {
    "collapsed": true
   },
   "outputs": [],
   "source": [
    "def logistic_regression_penalized_gradient_descent_demo(y, x):\n",
    "    # init parameters\n",
    "    max_iter = 500\n",
    "    gamma = 1e-13\n",
    "    lambda_ = 0.1\n",
    "    threshold = 1e-6\n",
    "    losses = []\n",
    "\n",
    "    # build tx\n",
    "#     tx = np.c_[np.ones((y.shape[0], 1)), x]\n",
    "    tx = x\n",
    "    w = np.zeros((tx.shape[1], 1))\n",
    "\n",
    "    lowest_loss = float('Inf')\n",
    "    best_w = -1\n",
    "    # start the logistic regression\n",
    "    for iter in range(max_iter):\n",
    "        # get loss and update w.\n",
    "        loss, w = learning_by_penalized_gradient(y, tx, w, gamma, lambda_)\n",
    "        # update lambda\n",
    "        gamma /= 1.2\n",
    "        \n",
    "        if loss < lowest_loss:\n",
    "            lowest_loss = loss\n",
    "            best_w = w\n",
    "            \n",
    "        # log info\n",
    "        if iter % 100 == 0:\n",
    "            print(\"Current iteration={i}, loss={l}\".format(i=iter, l=loss))\n",
    "        # converge criterion\n",
    "        losses.append(loss)\n",
    "        if len(losses) > 1 and np.abs(losses[-1] - losses[-2]) < threshold:\n",
    "            break\n",
    "    # visualization\n",
    "    #visualization(y, x, mean_x, std_x, w, \"classification_by_logistic_regression_penalized_gradient_descent\")\n",
    "    print(\"loss={l}\".format(l=calculate_loss(y, tx, w)))\n",
    "    \n",
    "    return best_w\n",
    "    \n",
    "w = logistic_regression_penalized_gradient_descent_demo(y_sub, x_sub)"
   ]
  },
  {
   "cell_type": "code",
   "execution_count": null,
   "metadata": {
    "collapsed": true
   },
   "outputs": [],
   "source": [
    "y_sub_ = y_sub.copy()\n",
    "y_sub_[y_sub_==0] = -1\n",
    "compute_loss(y_sub_, x_sub, w, costfunc=CostFunction.SUCCESS_RATIO)"
   ]
  },
  {
   "cell_type": "code",
   "execution_count": null,
   "metadata": {
    "collapsed": true
   },
   "outputs": [],
   "source": [
    "lam = 1e-8"
   ]
  },
  {
   "cell_type": "code",
   "execution_count": null,
   "metadata": {
    "collapsed": true
   },
   "outputs": [],
   "source": [
    "lam = lam/(1+lam)"
   ]
  }
 ],
 "metadata": {
  "anaconda-cloud": {},
  "kernelspec": {
   "display_name": "Python 3",
   "language": "python",
   "name": "python3"
  },
  "language_info": {
   "codemirror_mode": {
    "name": "ipython",
    "version": 3
   },
   "file_extension": ".py",
   "mimetype": "text/x-python",
   "name": "python",
   "nbconvert_exporter": "python",
   "pygments_lexer": "ipython3",
   "version": "3.6.1"
  }
 },
 "nbformat": 4,
 "nbformat_minor": 1
}
