{
 "cells": [
  {
   "cell_type": "markdown",
   "metadata": {},
   "source": [
    "## 0. Imports"
   ]
  },
  {
   "cell_type": "code",
   "execution_count": 111,
   "metadata": {},
   "outputs": [
    {
     "name": "stdout",
     "output_type": "stream",
     "text": [
      "The autoreload extension is already loaded. To reload it, use:\n",
      "  %reload_ext autoreload\n"
     ]
    }
   ],
   "source": [
    "%matplotlib inline\n",
    "import numpy as np\n",
    "import matplotlib.pyplot as plt\n",
    "import matplotlib as mpl\n",
    "from implementations import * \n",
    "from proj1_helpers import *\n",
    "from helpers import *\n",
    "%load_ext autoreload\n",
    "%autoreload 2"
   ]
  },
  {
   "cell_type": "markdown",
   "metadata": {},
   "source": [
    "## 1. Load data"
   ]
  },
  {
   "cell_type": "code",
   "execution_count": 129,
   "metadata": {},
   "outputs": [
    {
     "data": {
      "text/plain": [
       "((171334,), (171334, 30))"
      ]
     },
     "execution_count": 129,
     "metadata": {},
     "output_type": "execute_result"
    }
   ],
   "source": [
    "# just load the train data set\n",
    "data_path = \"../dataset/train.csv\"\n",
    "y_raw, x_raw, col_labels = load_csv_data(data_path)\n",
    "y,x = equalize_predictions(y_raw,x_raw)\n",
    "\n",
    "y.shape, x.shape"
   ]
  },
  {
   "cell_type": "code",
   "execution_count": 367,
   "metadata": {},
   "outputs": [
    {
     "data": {
      "text/plain": [
       "(568238, 30)"
      ]
     },
     "execution_count": 367,
     "metadata": {},
     "output_type": "execute_result"
    }
   ],
   "source": [
    "_,data_u,ids_u = load_csv_data(\"../dataset/test.csv\")\n",
    "data_u.shape"
   ]
  },
  {
   "cell_type": "markdown",
   "metadata": {},
   "source": [
    "## 2. fill with nan values where there are invalid entries "
   ]
  },
  {
   "cell_type": "code",
   "execution_count": 252,
   "metadata": {},
   "outputs": [
    {
     "name": "stdout",
     "output_type": "stream",
     "text": [
      "[[   1    0 -999]\n",
      " [   7    2   -5]\n",
      " [  -7    0    5]\n",
      " [-999   -1    5]\n",
      " [  -7    2 -999]]\n",
      "\n",
      "[[  1.  nan  nan]\n",
      " [  7.   2.  -5.]\n",
      " [ -7.  nan   5.]\n",
      " [ nan  -1.   5.]\n",
      " [ -7.   2.  nan]]\n",
      "\n",
      "[[   1. -200. -300.]\n",
      " [   7.    2.   -5.]\n",
      " [  -7. -200.    5.]\n",
      " [-100.   -1.    5.]\n",
      " [  -7.    2. -300.]]\n"
     ]
    }
   ],
   "source": [
    "# example\n",
    "k = np.array([\n",
    "    [1,     0, -999],\n",
    "    [7,     2,   -5],\n",
    "    [-7,    0,    5],\n",
    "    [-999, -1,    5],\n",
    "    [-7,    2, -999]\n",
    "])\n",
    "\n",
    "print(k)\n",
    "print()\n",
    "\n",
    "# fill\n",
    "nan_values = [-999, 0]\n",
    "k = fill_with_nan_list(k, nan_values)\n",
    "print(k)\n",
    "print()\n",
    "\n",
    "# ->>>> NB: probably better to substitute after standardization at step 5 <<<<-\n",
    "\n",
    "# generate meaningful values with: \n",
    "# - np.nanmean(x, axis=0) (mean of each colum without considering nan values)\n",
    "# - np.nanmedian(x, axis=0) (mean of each colum without considering nan values)\n",
    "# - np.nanstd(x, axis=0) (mean of each colum without considering nan values)\n",
    "k = sustitute_nans(k, substitutions=[-100, -200, -300]) \n",
    "# e.g. x = sustitute_nans(x, substitutions=np.nanmean(x, axis=0)) \n",
    "print(k)"
   ]
  },
  {
   "cell_type": "code",
   "execution_count": 368,
   "metadata": {},
   "outputs": [
    {
     "data": {
      "text/plain": [
       "((171334, 30), (568238, 30))"
      ]
     },
     "execution_count": 368,
     "metadata": {},
     "output_type": "execute_result"
    }
   ],
   "source": [
    "from implementations import *\n",
    "x = fill_with_nan_list(x_raw, nan_values=[0, -999])\n",
    "#x = drop_corr_columns(x)\n",
    "\n",
    "data_u = fill_with_nan_list(data_u,nan_values=[0,-999])\n",
    "#data_u = drop_corr_columns(data_u)\n",
    "\n",
    "\n",
    "x.shape,data_u.shape"
   ]
  },
  {
   "cell_type": "markdown",
   "metadata": {},
   "source": [
    "## 3. standardize (it won't consider the np.nan entries)"
   ]
  },
  {
   "cell_type": "code",
   "execution_count": 369,
   "metadata": {},
   "outputs": [
    {
     "data": {
      "text/plain": [
       "((171334, 30), (568238, 30))"
      ]
     },
     "execution_count": 369,
     "metadata": {},
     "output_type": "execute_result"
    }
   ],
   "source": [
    "x, mean_x, std_x = standardize(x)\n",
    "data_u, mean_u,std_u = standardize(data_u)\n",
    "x.shape,data_u.shape"
   ]
  },
  {
   "cell_type": "markdown",
   "metadata": {},
   "source": [
    "## 4. either drop_nan_rows/column or substitute nan values with something meaningful"
   ]
  },
  {
   "cell_type": "code",
   "execution_count": 370,
   "metadata": {},
   "outputs": [
    {
     "data": {
      "text/plain": [
       "((171334, 30), (568238, 30))"
      ]
     },
     "execution_count": 370,
     "metadata": {},
     "output_type": "execute_result"
    }
   ],
   "source": [
    "# check drop_nan_rows/columns and sustitute_nans in implementations.py\n",
    "# np.nanmean(x, axis=0) should be an array of 0s (the column are standardized)\n",
    "x = sustitute_nans(x, substitutions=np.nanmean(x, axis=0)) \n",
    "data_u = sustitute_nans(data_u, substitutions=np.nanmean(x, axis=0)) \n",
    "\n",
    "x.shape,data_u.shape"
   ]
  },
  {
   "cell_type": "markdown",
   "metadata": {},
   "source": [
    "## 5. train and test models:"
   ]
  },
  {
   "cell_type": "markdown",
   "metadata": {},
   "source": [
    "### Ridge regression with cross validation"
   ]
  },
  {
   "cell_type": "code",
   "execution_count": 235,
   "metadata": {},
   "outputs": [
    {
     "data": {
      "text/plain": [
       "<matplotlib.figure.Figure at 0x28d79823160>"
      ]
     },
     "metadata": {},
     "output_type": "display_data"
    },
    {
     "data": {
      "image/png": "[encoded data removed]",
      "text/plain": [
       "<matplotlib.figure.Figure at 0x28d7c8b7438>"
      ]
     },
     "metadata": {},
     "output_type": "display_data"
    }
   ],
   "source": [
    "# just show how the function ratios_visualization works\n",
    "\n",
    "model1 = np.array([\n",
    "    [0.65, 0.9], # relative to degrees[0]\n",
    "    [0.7, 0.8],  # relative to degrees[1]\n",
    "    [0.7, 0.7]]) # relative to degrees[2]\n",
    "model2 =  np.array([\n",
    "    [0.7, 0.6],  # relative to degrees[0]\n",
    "    [0.9, 1],    # relative to degrees[1]\n",
    "    [0.8, 0.8]]) # relative to degrees[2]\n",
    "degree_list = np.array([2, 4, 7])\n",
    "lambdas = np.array([0.1, 0.5]) # x asis\n",
    " \n",
    "ratios_visualization([model1, model2, model1-0.1], degree_list, lambdas, x_label=\"x label\", log_axis_x=False, \n",
    "                     save_figure_with_name=\"test_figure\")"
   ]
  },
  {
   "cell_type": "code",
   "execution_count": 236,
   "metadata": {},
   "outputs": [],
   "source": [
    "# the lambda of the ridge regression does not affect much the model\n",
    "nlambdas = 3\n",
    "lambdas = np.linspace(0, 1000, nlambdas)\n",
    "\n",
    "num_K_sets = 5\n",
    "degree_list = [2, 3, 4]\n",
    "\n",
    "ratio_tr, ratio_te = cross_validation_ridge_regression(x, y, num_K_sets, degree_list, lambdas)"
   ]
  },
  {
   "cell_type": "code",
   "execution_count": 237,
   "metadata": {},
   "outputs": [
    {
     "data": {
      "text/plain": [
       "<matplotlib.figure.Figure at 0x28d03429ac8>"
      ]
     },
     "metadata": {},
     "output_type": "display_data"
    },
    {
     "data": {
      "image/png": "[encoded data removed]",
      "text/plain": [
       "<matplotlib.figure.Figure at 0x28d7c3fc8d0>"
      ]
     },
     "metadata": {},
     "output_type": "display_data"
    },
    {
     "name": "stdout",
     "output_type": "stream",
     "text": [
      "[    0.   500.  1000.]\n"
     ]
    },
    {
     "data": {
      "text/plain": [
       "((3, 3), (3, 3))"
      ]
     },
     "execution_count": 237,
     "metadata": {},
     "output_type": "execute_result"
    }
   ],
   "source": [
    "# there is A LOT of data => there is no overfitting => the training error is close to the test error => it does\n",
    "# not makes sense to do the cross validation (just use the whole set to train the data and compute the \n",
    "# SUCCESS_RATIO on the training data)\n",
    "cross_validation_visualization(ratio_tr, ratio_te, degree_list, lambdas, \"lambda (ridge_regression)\")\n",
    "\n",
    "print(lambdas)\n",
    "ratio_tr.shape, ratio_te.shape"
   ]
  },
  {
   "cell_type": "markdown",
   "metadata": {},
   "source": [
    "### Ridge regression without cross validation"
   ]
  },
  {
   "cell_type": "code",
   "execution_count": 238,
   "metadata": {
    "collapsed": true
   },
   "outputs": [],
   "source": [
    "# the lambda of the ridge regression does not affect mush the model\n",
    "nlambdas = 3\n",
    "lambdas = np.linspace(0, 1000, nlambdas)\n",
    "degree_list = [2, 3, 4]\n",
    "\n",
    "ratios = ridge_regression_tuning(x, y, degree_list, lambdas)"
   ]
  },
  {
   "cell_type": "code",
   "execution_count": 239,
   "metadata": {},
   "outputs": [
    {
     "data": {
      "text/plain": [
       "<matplotlib.figure.Figure at 0x28d7a065e48>"
      ]
     },
     "metadata": {},
     "output_type": "display_data"
    },
    {
     "data": {
      "image/png": "[encoded data removed]",
      "text/plain": [
       "<matplotlib.figure.Figure at 0x28d7470be48>"
      ]
     },
     "metadata": {},
     "output_type": "display_data"
    },
    {
     "name": "stdout",
     "output_type": "stream",
     "text": [
      "[    0.   500.  1000.]\n"
     ]
    }
   ],
   "source": [
    "x_axis = lambdas\n",
    "figure_name = \"ridge regression,nan_values=[0, -999],substitutions=nanmean(x, axis=0)\"\n",
    "ratios_visualization([ratios], degree_list, x_axis, x_label=\"lambas\", log_axis_x=False,\n",
    "                    save_figure_with_name=figure_name)\n",
    "\n",
    "print(lambdas)"
   ]
  },
  {
   "cell_type": "markdown",
   "metadata": {},
   "source": [
    "### Gradient descent try"
   ]
  },
  {
   "cell_type": "code",
   "execution_count": 240,
   "metadata": {},
   "outputs": [
    {
     "ename": "ValueError",
     "evalue": "shapes (1,241) and (171334,) not aligned: 241 (dim 1) != 171334 (dim 0)",
     "output_type": "error",
     "traceback": [
      "\u001b[1;31m---------------------------------------------------------------------------\u001b[0m",
      "\u001b[1;31mValueError\u001b[0m                                Traceback (most recent call last)",
      "\u001b[1;32m<ipython-input-240-f2a85b77a77a>\u001b[0m in \u001b[0;36m<module>\u001b[1;34m()\u001b[0m\n\u001b[0;32m      4\u001b[0m \u001b[0mmax_iters\u001b[0m \u001b[1;33m=\u001b[0m \u001b[1;36m20\u001b[0m\u001b[1;33m\u001b[0m\u001b[0m\n\u001b[0;32m      5\u001b[0m \u001b[0mgamma\u001b[0m \u001b[1;33m=\u001b[0m \u001b[1;36m0.5\u001b[0m\u001b[1;33m\u001b[0m\u001b[0m\n\u001b[1;32m----> 6\u001b[1;33m \u001b[0mloss\u001b[0m\u001b[1;33m,\u001b[0m \u001b[0mw\u001b[0m \u001b[1;33m=\u001b[0m \u001b[0mgradient_descent\u001b[0m\u001b[1;33m(\u001b[0m\u001b[0my\u001b[0m\u001b[1;33m,\u001b[0m \u001b[0mtx\u001b[0m\u001b[1;33m,\u001b[0m \u001b[0minitial_w\u001b[0m\u001b[1;33m,\u001b[0m \u001b[0mmax_iters\u001b[0m\u001b[1;33m,\u001b[0m \u001b[0mgamma\u001b[0m\u001b[1;33m,\u001b[0m \u001b[0mbatch_size\u001b[0m\u001b[1;33m=\u001b[0m\u001b[1;36m1\u001b[0m\u001b[1;33m)\u001b[0m\u001b[1;33m\u001b[0m\u001b[0m\n\u001b[0m\u001b[0;32m      7\u001b[0m \u001b[0mloss\u001b[0m\u001b[1;33m,\u001b[0m\u001b[0mw\u001b[0m\u001b[1;33m\u001b[0m\u001b[0m\n",
      "\u001b[1;32mC:\\Users\\Val\\Desktop\\ml-boson\\scripts\\implementations.py\u001b[0m in \u001b[0;36mgradient_descent\u001b[1;34m(y, tx, initial_w, max_iters, gamma, batch_size, print_output_with_weights, plot_losses, costfunc)\u001b[0m\n\u001b[0;32m    288\u001b[0m \u001b[1;33m\u001b[0m\u001b[0m\n\u001b[0;32m    289\u001b[0m             \u001b[1;31m# compute next w\u001b[0m\u001b[1;33m\u001b[0m\u001b[1;33m\u001b[0m\u001b[0m\n\u001b[1;32m--> 290\u001b[1;33m             \u001b[0mg\u001b[0m \u001b[1;33m=\u001b[0m \u001b[0mcompute_gradient\u001b[0m\u001b[1;33m(\u001b[0m\u001b[0my_batch\u001b[0m\u001b[1;33m,\u001b[0m \u001b[0mtx_batch\u001b[0m\u001b[1;33m,\u001b[0m \u001b[0mw\u001b[0m\u001b[1;33m,\u001b[0m \u001b[0mcostfunc\u001b[0m\u001b[1;33m)\u001b[0m \u001b[1;31m# relative to only the batch\u001b[0m\u001b[1;33m\u001b[0m\u001b[0m\n\u001b[0m\u001b[0;32m    291\u001b[0m             \u001b[0mw\u001b[0m \u001b[1;33m=\u001b[0m \u001b[0mw\u001b[0m \u001b[1;33m-\u001b[0m \u001b[0mgamma\u001b[0m\u001b[1;33m*\u001b[0m\u001b[0mg\u001b[0m\u001b[1;33m\u001b[0m\u001b[0m\n\u001b[0;32m    292\u001b[0m \u001b[1;33m\u001b[0m\u001b[0m\n",
      "\u001b[1;32mC:\\Users\\Val\\Desktop\\ml-boson\\scripts\\implementations.py\u001b[0m in \u001b[0;36mcompute_gradient\u001b[1;34m(y, tx, w, costfunc)\u001b[0m\n\u001b[0;32m    196\u001b[0m     N.B. To be used only with a differentiable cost function, e.g. with MSE, not with MAE. \"\"\"\n\u001b[0;32m    197\u001b[0m     \u001b[1;32mif\u001b[0m \u001b[0mcostfunc\u001b[0m \u001b[1;32mis\u001b[0m \u001b[0mCostFunction\u001b[0m\u001b[1;33m.\u001b[0m\u001b[0mMSE\u001b[0m\u001b[1;33m:\u001b[0m\u001b[1;33m\u001b[0m\u001b[0m\n\u001b[1;32m--> 198\u001b[1;33m         \u001b[1;32mreturn\u001b[0m \u001b[0mcompute_gradient_with_e\u001b[0m\u001b[1;33m(\u001b[0m\u001b[0mtx\u001b[0m\u001b[1;33m,\u001b[0m \u001b[0mcompute_error\u001b[0m\u001b[1;33m(\u001b[0m\u001b[0my\u001b[0m\u001b[1;33m,\u001b[0m \u001b[0mtx\u001b[0m\u001b[1;33m,\u001b[0m \u001b[0mw\u001b[0m\u001b[1;33m)\u001b[0m\u001b[1;33m)\u001b[0m\u001b[1;33m\u001b[0m\u001b[0m\n\u001b[0m\u001b[0;32m    199\u001b[0m     \u001b[1;32mif\u001b[0m \u001b[0mcostfunc\u001b[0m \u001b[1;32mis\u001b[0m \u001b[0mCostFunction\u001b[0m\u001b[1;33m.\u001b[0m\u001b[0mPROB\u001b[0m\u001b[1;33m:\u001b[0m\u001b[1;33m\u001b[0m\u001b[0m\n\u001b[0;32m    200\u001b[0m         \u001b[0mlogistic_func_\u001b[0m \u001b[1;33m=\u001b[0m \u001b[0mnp\u001b[0m\u001b[1;33m.\u001b[0m\u001b[0mvectorize\u001b[0m\u001b[1;33m(\u001b[0m\u001b[0mlogistic_func\u001b[0m\u001b[1;33m)\u001b[0m \u001b[1;31m# so to apply the function element-wise to tx@w\u001b[0m\u001b[1;33m\u001b[0m\u001b[0m\n",
      "\u001b[1;32mC:\\Users\\Val\\Desktop\\ml-boson\\scripts\\implementations.py\u001b[0m in \u001b[0;36mcompute_error\u001b[1;34m(y, tx, w)\u001b[0m\n\u001b[0;32m    121\u001b[0m     \u001b[1;34m\"\"\" Compute the error e=y-X.T*w \"\"\"\u001b[0m\u001b[1;33m\u001b[0m\u001b[0m\n\u001b[0;32m    122\u001b[0m     \u001b[1;31m# the error is independent from the used cost function\u001b[0m\u001b[1;33m\u001b[0m\u001b[1;33m\u001b[0m\u001b[0m\n\u001b[1;32m--> 123\u001b[1;33m     \u001b[1;32mreturn\u001b[0m \u001b[0my\u001b[0m \u001b[1;33m-\u001b[0m \u001b[0mtx\u001b[0m \u001b[1;33m@\u001b[0m \u001b[0mw\u001b[0m\u001b[1;33m\u001b[0m\u001b[0m\n\u001b[0m\u001b[0;32m    124\u001b[0m \u001b[1;33m\u001b[0m\u001b[0m\n\u001b[0;32m    125\u001b[0m \u001b[1;31m# logistic function used to map y to [0, 1]\u001b[0m\u001b[1;33m\u001b[0m\u001b[1;33m\u001b[0m\u001b[0m\n",
      "\u001b[1;31mValueError\u001b[0m: shapes (1,241) and (171334,) not aligned: 241 (dim 1) != 171334 (dim 0)"
     ]
    },
    {
     "data": {
      "image/png": "[encoded data removed]",
      "text/plain": [
       "<matplotlib.figure.Figure at 0x28d755032e8>"
      ]
     },
     "metadata": {},
     "output_type": "display_data"
    }
   ],
   "source": [
    "degree = 8\n",
    "tx = build_poly(x, degree) \n",
    "initial_w = np.zeros(len(y))\n",
    "max_iters = 20\n",
    "gamma = 0.5\n",
    "loss, w = gradient_descent(y, tx, initial_w, max_iters, gamma, batch_size=1)\n",
    "loss,w"
   ]
  },
  {
   "cell_type": "markdown",
   "metadata": {},
   "source": [
    "### Ridge Regression model selection"
   ]
  },
  {
   "cell_type": "code",
   "execution_count": 424,
   "metadata": {},
   "outputs": [
    {
     "data": {
      "text/plain": [
       "(0.287033849644939,\n",
       " 3.2263157894736827e-08,\n",
       " 12,\n",
       " array([ -1.33877760e+00,   5.32564898e-01,  -4.30994061e-01,\n",
       "         -3.79903246e-01,   2.45423731e-01,   3.97269609e-01,\n",
       "         -1.10568665e-01,  -1.03616179e-01,   2.83561072e-01,\n",
       "         -2.73612553e-03,  -2.74947895e+00,   2.73078889e-02,\n",
       "         -2.94698996e-02,   1.09029635e-01,   1.07535721e+00,\n",
       "          1.11816473e-02,  -8.17189611e-03,   5.62317047e-01,\n",
       "         -2.72146997e-02,   1.67455372e-02,  -8.06712978e-02,\n",
       "         -3.44872249e-03,  -5.25004880e-02,   2.51480118e+00,\n",
       "          2.37957527e-01,  -1.00940943e-02,   1.80000551e-02,\n",
       "          1.72538255e-01,  -8.96617567e-03,   6.01341502e-02,\n",
       "          2.36429019e+00,  -6.62025579e-01,  -2.04161161e-01,\n",
       "         -2.69503593e-01,   1.08648667e-01,   3.57529401e-02,\n",
       "          2.68243536e-01,  -1.25175609e-01,   1.00314367e-01,\n",
       "         -1.65524839e-02,  -3.46539526e-01,  -3.41837127e-03,\n",
       "          2.20490980e-01,   1.05756451e+00,  -1.74482535e-01,\n",
       "          2.81488385e-02,  -3.08153547e-02,   1.41602703e-02,\n",
       "          3.94769362e-03,   6.13548268e-02,   4.79428016e-02,\n",
       "          8.89196769e-02,  -1.05224635e-01,  -2.27208538e+00,\n",
       "         -8.72941687e-02,   1.60536782e-01,   8.67007828e-02,\n",
       "         -6.86633830e-02,   2.05791309e-01,  -2.60868324e-01,\n",
       "          2.14630328e-01,  -2.72242080e-01,   2.30296288e-01,\n",
       "          1.35205226e-03,  -1.12191711e-01,  -6.11784196e-01,\n",
       "         -7.18062851e-01,  -3.70232229e-02,   7.20729748e-02,\n",
       "          1.36564517e-02,   1.89255056e-02,   4.77072785e-02,\n",
       "         -2.74072573e-01,   3.78698367e-01,   5.60854713e-02,\n",
       "         -2.22807976e-02,   3.38753346e-02,   5.89928179e-02,\n",
       "          1.47934179e-01,  -9.93853791e-02,  -1.54615606e-02,\n",
       "          6.47110221e-03,   4.20396419e-02,   4.26497102e+00,\n",
       "          1.71086159e-02,   2.77330543e-02,  -2.21623201e-01,\n",
       "          3.80941647e-02,   5.08485512e-02,  -3.91330829e-01,\n",
       "         -1.88992219e-01,   2.96297085e-01,   2.50041295e-02,\n",
       "          1.02199139e-01,   5.78129165e-02,   5.44314229e-02,\n",
       "          3.86251266e-01,   5.47578063e-02,  -1.48089119e-01,\n",
       "         -2.12402683e-03,   1.84033406e-01,  -4.48360632e-02,\n",
       "          1.05190958e-01,  -4.03477112e+00,  -4.28527462e-03,\n",
       "         -1.53853993e-02,   1.26606523e-01,  -4.73437315e-02,\n",
       "         -1.46153364e-01,  -2.20200342e-01,   1.64263432e-03,\n",
       "         -2.91204397e-01,   2.52892786e-02,  -4.49968320e-03,\n",
       "         -1.88891112e-02,  -2.86126374e-02,  -2.26755956e-01,\n",
       "          7.87980133e-03,   5.81720168e-02,   7.30074543e-01,\n",
       "         -2.99221885e-03,  -2.41056241e-02,  -5.84560097e-02,\n",
       "         -4.22762777e-02,  -1.49032574e-02,   5.40958451e-01,\n",
       "          2.39976967e-01,   1.10222438e-02,  -9.18124016e-03,\n",
       "          1.05112741e-04,  -1.17533272e-01,   1.79865988e-02,\n",
       "          2.56916260e+00,  -2.11946637e+00,  -4.37393055e-03,\n",
       "          1.96003774e-02,  -1.06524440e-01,   1.60732606e-02,\n",
       "         -2.04043301e-01,   2.26934447e-01,   3.80210100e-05,\n",
       "         -8.11465888e-03,  -1.34857017e-02,   5.02708226e+00,\n",
       "          4.07250862e-02,  -4.42317930e-02,   4.99763718e-01,\n",
       "         -2.51418353e-02,  -7.23421744e-02,   6.88566019e-01,\n",
       "          7.61881418e-02,  -3.18559700e-02,   2.03976448e-02,\n",
       "          7.63921141e-03,   1.91004772e-03,  -1.31609175e-01,\n",
       "         -3.43295853e-01,  -1.23781262e-02,   5.10654544e-02,\n",
       "         -5.79701724e-07,   2.83891587e-02,  -4.05552844e-03,\n",
       "         -1.57876740e+00,   6.07723888e+00,   1.81908023e-03,\n",
       "         -2.91118887e-02,  -2.25033706e-01,  -3.11957327e-03,\n",
       "          1.69645525e-01,   3.12838998e-01,  -1.82397726e-05,\n",
       "          3.84628721e-01,  -4.15369531e-03,   1.28907556e+01,\n",
       "         -2.93072693e-02,   3.59081811e-02,   2.23778748e-01,\n",
       "          1.36685823e-02,  -8.19803824e-02,  -8.80332169e-01,\n",
       "         -4.31527396e-02,   1.20172381e-02,  -3.56288638e-03,\n",
       "         -7.13910834e-04,  -1.09621076e-04,  -2.32838671e-01,\n",
       "          1.61118851e-01,  -6.15948255e-04,  -7.28307642e-04,\n",
       "         -3.26416788e-08,  -1.28492742e-03,   5.66328329e-04,\n",
       "         -5.51229192e+00,   4.39567513e+00,  -3.44038533e-04,\n",
       "         -1.00078728e-02,   1.22541407e-01,   3.91673893e-04,\n",
       "          1.14762257e-01,  -2.04542527e-01,   1.02305095e-06,\n",
       "          3.72756797e-03,   4.51279473e-03,   2.58392413e+01,\n",
       "          1.04735773e-02,   2.46383382e-02,  -4.31265184e-01,\n",
       "         -3.71390895e-03,   4.12038718e-02,  -5.08127237e-01,\n",
       "          1.19785151e-02,  -2.01052865e-03,   3.61883144e-04,\n",
       "          3.18467669e-05,   2.00635554e-06,   9.59242624e-02,\n",
       "         -4.06383439e-02,   1.14982886e-03,  -8.00013862e-03,\n",
       "         -7.35752523e-10,  -7.86905604e-04,  -5.07109248e-05,\n",
       "          2.92141522e+00,  -3.75636577e+00,   3.78409002e-05,\n",
       "          1.71957534e-02,   1.70487643e-01,  -3.45501548e-05,\n",
       "         -9.16248083e-02,  -2.08095480e-01,  -1.14800185e-08,\n",
       "         -2.30307691e-01,  -1.43383148e-03,   5.67191967e+01,\n",
       "         -2.14269528e-03,  -1.99016514e-02,  -1.00444696e-01,\n",
       "          5.93701103e-04,   2.63751855e-02,   5.21218557e-01,\n",
       "         -1.96276600e-03,   1.88121315e-04,  -2.18673511e-05,\n",
       "         -1.44551124e-07,  -6.58215679e-08,   3.20501277e-02,\n",
       "          6.05072295e-03,  -9.03225218e-06,   8.39532160e-04,\n",
       "          7.34043599e-12,   1.86177214e-04,   2.90807020e-06,\n",
       "          4.74955642e+00,  -3.82703096e+00,  -2.55139219e-06,\n",
       "          2.74208565e-03,  -5.44973836e-02,   2.23416971e-06,\n",
       "         -2.82633099e-02,   7.83940043e-02,  -1.19275486e-10,\n",
       "          1.62462159e-04,   2.38092649e-04,   1.88040985e+02,\n",
       "          2.62573958e-04,  -5.32439296e-03,   1.57620417e-01,\n",
       "         -5.83990985e-05,  -1.02433868e-02,   1.66465249e-01,\n",
       "          1.98720879e-04,  -1.01694456e-05,   7.46070930e-07,\n",
       "         -4.60756210e-08,   6.72942789e-09,  -2.27400766e-02,\n",
       "         -5.32306232e-04,  -4.42472582e-05,   4.30962137e-04,\n",
       "         -7.57582786e-14,  -1.87698825e-05,  -1.02939326e-07,\n",
       "         -2.19586832e+00,   4.02761522e-01,   1.03819145e-07,\n",
       "         -3.05508259e-03,  -5.69841266e-02,  -1.02337906e-07,\n",
       "          2.26693023e-02,   6.53622939e-02,  -8.31598828e-12,\n",
       "          6.36028694e-02,  -2.23021298e-05,   1.54866129e+02,\n",
       "         -1.90198849e-05,   4.13063379e-03,   2.09875217e-02,\n",
       "          3.48111229e-06,  -2.45331673e-03,  -1.48829387e-01,\n",
       "         -1.22316015e-05,   2.97361389e-07,  -1.20812180e-08,\n",
       "          1.74028207e-09,  -4.95886761e-12,   3.31422534e-03,\n",
       "          2.56033804e-05,   8.07325964e-07,  -8.17465471e-05,\n",
       "          5.70605499e-16,   9.32345685e-07,   2.04091278e-09,\n",
       "         -1.43331264e+00,   1.18895155e+00,  -2.33682759e-09,\n",
       "         -2.91554433e-04,   8.17425049e-03,   2.89765179e-09,\n",
       "          2.53022397e-03,  -1.07419858e-02,   7.98320337e-14,\n",
       "         -2.46120096e-04,   1.11720008e-06,  -7.60487889e+01,\n",
       "          7.48316133e-07,   3.91947089e-04,  -2.04996806e-02,\n",
       "         -1.15427872e-07,   9.27033016e-04,  -1.99548837e-02,\n",
       "          4.19764503e-07,  -3.64692937e-09,   4.83765236e-11,\n",
       "         -1.99926201e-11,  -1.95423299e-12,  -3.85724347e-05,\n",
       "         -5.19214373e-07,   5.84229751e-07,   2.37082774e-06,\n",
       "          3.80788311e-19,  -1.86345626e-08,  -1.72677387e-11,\n",
       "          5.89867681e-01,   2.92913125e-01,   2.22900232e-11,\n",
       "          1.49954023e-04,   6.96847849e-03,  -3.69159762e-11,\n",
       "         -2.07962442e-03,  -7.82151962e-03,   2.42284211e-16,\n",
       "         -6.62782660e-03,  -2.33206813e-08,  -3.51030175e+01,\n",
       "         -1.22595332e-08,  -2.91367440e-04,  -1.68054354e-03,\n",
       "          1.63363728e-09,  -6.38196839e-05,   1.63754673e-02,\n",
       "         -6.15715980e-09]))"
      ]
     },
     "execution_count": 424,
     "metadata": {},
     "output_type": "execute_result"
    }
   ],
   "source": [
    "\n",
    "nb_degrees = 5\n",
    "degree_start = 11\n",
    "nb_lambdas = 20\n",
    "degrees = range(degree_start,degree_start+nb_degrees)\n",
    "degrees = range(10,15)\n",
    "lambdas = np.linspace(1e-07,1e-9,nb_lambdas)\n",
    "losses = np.array([nb_degrees,nb_lambdas])\n",
    "best_w = np.array([len(y)])\n",
    "best_loss = pow(10,100)\n",
    "best_degree = 0\n",
    "best_lambda = 0\n",
    "\n",
    "for degree in degrees:\n",
    "    tx = build_poly(x, degree) \n",
    "    for lambda_ in lambdas:\n",
    "        loss,w = ridge_regression(y,tx,lambda_)\n",
    "        if loss < best_loss:\n",
    "            best_loss = loss\n",
    "            best_w = w\n",
    "            best_degree = degree\n",
    "            best_lambda = lambda_\n",
    "            \n",
    "\n",
    "            \n",
    "            \n",
    "best_loss,best_lambda,best_degree\n",
    "        \n",
    "                                  "
   ]
  },
  {
   "cell_type": "markdown",
   "metadata": {},
   "source": [
    "### Gradient Descent model selection"
   ]
  },
  {
   "cell_type": "code",
   "execution_count": 441,
   "metadata": {},
   "outputs": [
    {
     "data": {
      "text/plain": [
       "(0.44317430332446467, 9.9999999999999993e-41)"
      ]
     },
     "execution_count": 441,
     "metadata": {},
     "output_type": "execute_result"
    },
    {
     "data": {
      "image/png": "[encoded data removed]",
      "text/plain": [
       "<matplotlib.figure.Figure at 0x28d16273710>"
      ]
     },
     "metadata": {},
     "output_type": "display_data"
    }
   ],
   "source": [
    "from implementations_sol import *\n",
    "\n",
    "tx = build_poly(x,1)\n",
    "max_iters = 20\n",
    "\n",
    "nb_gammas = 10\n",
    "nb_weights = 5\n",
    "gammas = np.linspace(1e0,1e-4,nb_gammas)\n",
    "weights = np.linspace(1e0,1e-2,nb_weights)\n",
    "\n",
    "best_w\n",
    "best_loss = 10**100\n",
    "best_gamma = 0\n",
    "best_weight = 0\n",
    "\n",
    "for i in range(10):\n",
    "    initial_w = np.random.rand(tx.shape[1])-np.ones(tx.shape[1])\n",
    "    \n",
    "    initial_w = initial_w*weight\n",
    "    loss,w = gradient_descent(y, tx, initial_w, max_iters, 0.01)\n",
    "    if loss<best_loss:\n",
    "        best_loss = loss\n",
    "        best_w = w\n",
    "        best_gamma = gamma\n",
    "        best_weight = weight\n",
    "\n",
    "        \n",
    "\n",
    "best_loss,best_gamma"
   ]
  },
  {
   "cell_type": "code",
   "execution_count": 448,
   "metadata": {},
   "outputs": [
    {
     "data": {
      "text/plain": [
       "(0.37098988178164399, 0.33333666666666667, 0.044445333333333337)"
      ]
     },
     "execution_count": 448,
     "metadata": {},
     "output_type": "execute_result"
    },
    {
     "data": {
      "image/png": "[encoded data removed]",
      "text/plain": [
       "<matplotlib.figure.Figure at 0x28d185a5ef0>"
      ]
     },
     "metadata": {},
     "output_type": "display_data"
    }
   ],
   "source": [
    "from implementations_sol import *\n",
    "\n",
    "tx = build_poly(x,1)\n",
    "max_iters = 20\n",
    "\n",
    "nb_gammas = 10\n",
    "nb_weights = 10\n",
    "gammas = np.linspace(0.5,1e-5,nb_gammas)\n",
    "weights = np.linspace(0.4,1e-6,nb_weights)\n",
    "\n",
    "best_w\n",
    "best_loss = 10**100\n",
    "best_gamma = 0\n",
    "best_weight = 0\n",
    "\n",
    "for weight in weights:\n",
    "    for gamma in gammas:\n",
    "        initial_w = np.random.rand(tx.shape[1])-np.ones(tx.shape[1])\n",
    "        initial_w = initial_w*weight\n",
    "        loss,w = gradient_descent(y, tx, initial_w, max_iters, gamma)\n",
    "        if loss>10:\n",
    "            print(weight)\n",
    "            print(gamma)\n",
    "            print(\"------\")\n",
    "        if loss<best_loss:\n",
    "            best_loss = loss\n",
    "            best_w = w\n",
    "            best_gamma = gamma\n",
    "            best_weight = weight\n",
    "\n",
    "        \n",
    "\n",
    "best_loss,best_gamma,best_weight"

   ]
  },
  {
   "cell_type": "code",
   "execution_count": 450,
   "metadata": {},
   "outputs": [
    {
     "data": {
      "text/plain": [
       "(0.36629128737930344,\n",
       " array([ -8.71204529e-16,   1.09318794e-02,  -2.70343552e-01,\n",
       "         -3.01334861e-01,   6.26936757e-03,   1.40818333e-01,\n",
       "          6.72075994e-02,   1.77686860e-02,   3.41447462e-01,\n",
       "         -1.48245249e-02,   1.29806482e-01,  -2.49804068e-01,\n",
       "          1.32642982e-01,   1.50796020e-01,   1.68713108e-01,\n",
       "          1.90810995e-04,  -9.12309401e-04,   3.33928731e-01,\n",
       "          1.11746285e-03,   4.18027753e-03,   9.84334665e-02,\n",
       "          1.09332568e-03,  -5.61985002e-02,   4.73318051e-02,\n",
       "         -6.94503037e-03,  -4.34293171e-04,  -1.10073277e-03,\n",
       "         -3.51863705e-02,   3.55987309e-03,  -3.60989090e-03,\n",
       "         -1.49393234e-01]),\n",
       " 0.33333666666666667,\n",
       " 0.77705459280456057)"
      ]
     },
     "execution_count": 450,
     "metadata": {},
     "output_type": "execute_result"
    },
    {
     "data": {
      "image/png": "[encoded data removed]",
      "text/plain": [
       "<matplotlib.figure.Figure at 0x28d171cf4a8>"
      ]
     },
     "metadata": {},
     "output_type": "display_data"
    }
   ],
   "source": [
    "final_loss,final_w = gradient_descent(y,tx,best_w,10000,best_gamma)\n",
    "\n",
    "final_loss,final_w, best_gamma,np.linalg.norm(final_w)"
   ]
  },
  {
   "cell_type": "markdown",
   "metadata": {},
   "source": [
    "### Exportation"
   ]
  },
  {
   "cell_type": "code",
   "execution_count": 257,
   "metadata": {},
   "outputs": [],
   "source": [
    "\n",
    "test_model_and_export(data_u,ids_u,best_w,best_degree)\n",
    "\n"
   ]
  },
  {
   "cell_type": "code",
   "execution_count": null,
   "metadata": {
    "collapsed": true
   },
   "outputs": [],
   "source": []
  }
 ],
 "metadata": {
  "kernelspec": {
   "display_name": "Python 2",
   "language": "python",
   "name": "python2"
  },
  "language_info": {
   "codemirror_mode": {
    "name": "ipython",
    "version": 2
   },
   "file_extension": ".py",
   "mimetype": "text/x-python",
   "name": "python",
   "nbconvert_exporter": "python",
   "pygments_lexer": "ipython2",
   "version": "2.7.12"
  }
 },
 "nbformat": 4,
 "nbformat_minor": 2
}
