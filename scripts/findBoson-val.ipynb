{
 "cells": [
  {
   "cell_type": "code",
   "execution_count": 8,
   "metadata": {},
   "outputs": [
    {
     "name": "stdout",
     "output_type": "stream",
     "text": [
      "The autoreload extension is already loaded. To reload it, use:\n",
      "  %reload_ext autoreload\n"
     ]
    }
   ],
   "source": [
    "%matplotlib inline\n",
    "import numpy as np\n",
    "import matplotlib.pyplot as plt\n",
    "import matplotlib as mpl\n",
    "from implementations import * \n",
    "from proj1_helpers import *\n",
    "%load_ext autoreload\n",
    "%autoreload 2"
   ]
  },
  {
   "cell_type": "code",
   "execution_count": 18,
   "metadata": {},
   "outputs": [
    {
     "name": "stdout",
     "output_type": "stream",
     "text": [
      "(99, 30)\n",
      "(72, 30)\n"
     ]
    },
    {
     "ename": "ValueError",
     "evalue": "too many values to unpack (expected 2)",
     "output_type": "error",
     "traceback": [
      "\u001b[1;31m---------------------------------------------------------------------------\u001b[0m",
      "\u001b[1;31mValueError\u001b[0m                                Traceback (most recent call last)",
      "\u001b[1;32m<ipython-input-18-14dd224954c8>\u001b[0m in \u001b[0;36m<module>\u001b[1;34m()\u001b[0m\n\u001b[0;32m     11\u001b[0m \u001b[0mprint\u001b[0m\u001b[1;33m(\u001b[0m\u001b[0mdata_tr\u001b[0m\u001b[1;33m.\u001b[0m\u001b[0mshape\u001b[0m\u001b[1;33m)\u001b[0m\u001b[1;33m\u001b[0m\u001b[0m\n\u001b[0;32m     12\u001b[0m \u001b[1;33m\u001b[0m\u001b[0m\n\u001b[1;32m---> 13\u001b[1;33m \u001b[0mpredictions_tr\u001b[0m\u001b[1;33m,\u001b[0m\u001b[0mdata_tr\u001b[0m \u001b[1;33m=\u001b[0m \u001b[0mequalize_predictions\u001b[0m\u001b[1;33m(\u001b[0m\u001b[0mpredictions_tr\u001b[0m\u001b[1;33m,\u001b[0m\u001b[0mdata_tr\u001b[0m\u001b[1;33m)\u001b[0m\u001b[1;33m\u001b[0m\u001b[0m\n\u001b[0m\u001b[0;32m     14\u001b[0m \u001b[1;33m\u001b[0m\u001b[0m\n\u001b[0;32m     15\u001b[0m \u001b[0mprint\u001b[0m\u001b[1;33m(\u001b[0m\u001b[0mdata_tr\u001b[0m\u001b[1;33m.\u001b[0m\u001b[0mshape\u001b[0m\u001b[1;33m)\u001b[0m\u001b[1;33m\u001b[0m\u001b[0m\n",
      "\u001b[1;31mValueError\u001b[0m: too many values to unpack (expected 2)"
     ]
    }
   ],
   "source": [
    "# import some data to test the functions\n",
    "from helpers import *\n",
    "\n",
    "ids_tr,predictions_tr,data_tr, ids_te,data_te = load_boson_data()\n",
    "\n",
    "count_s = 0\n",
    "count_b = 0\n",
    "    \n",
    "\n",
    "    \n",
    "print(data_tr.shape)\n",
    "\n",
    "predictions_tr,data_tr = equalize_predictions(predictions_tr,data_tr)\n",
    "\n",
    "print(data_tr.shape)\n",
    "\n",
    "            \n",
    "y = predictions_tr\n",
    "\n",
    "x, mean_x, std_x = standardize(data_tr)\n",
    "\n",
    "y,tx = build_model_data(x,y)\n",
    "\n",
    "y.shape, x.shape, tx.shape, data_tr.shape"
   ]
  },
  {
   "cell_type": "code",
   "execution_count": null,
   "metadata": {
    "collapsed": true
   },
   "outputs": [],
   "source": [
    "# gradient descent\n",
    "initial_w = np.zeros(tx.shape[1])\n",
    "max_iters = 20\n",
    "gamma = 0.1\n",
    "loss, w = gradient_descent(y, tx, initial_w, max_iters, gamma, print_output=False, plot_losses=True)\n",
    "loss,w"
   ]
  },
  {
   "cell_type": "code",
   "execution_count": null,
   "metadata": {
    "collapsed": true
   },
   "outputs": [],
   "source": [
    "# stochastic gradient descent\n",
    "# gradient descent\n",
    "initial_w = np.array([0, 0])\n",
    "max_iters = 20\n",
    "gamma = 0.5\n",
    "loss, w = gradient_descent(y, tx, initial_w, max_iters, gamma, batch_size=1, print_output=False, plot_losses=True)\n",
    "loss,w"
   ]
  },
  {
   "cell_type": "code",
   "execution_count": null,
   "metadata": {
    "collapsed": true
   },
   "outputs": [],
   "source": [
    "# analityc solution\n",
    "least_squares(y, tx)"
   ]
  },
  {
   "cell_type": "code",
   "execution_count": null,
   "metadata": {
    "collapsed": true
   },
   "outputs": [],
   "source": [
    "# ridge regression to choose smaller weights (the simpler the model the better)\n",
    "lambda_ = 0.02 # how to properly choose lambda?\n",
    "ridge_regression(y, tx, lambda_)"
   ]
  },
  {
   "cell_type": "code",
   "execution_count": null,
   "metadata": {
    "collapsed": true
   },
   "outputs": [],
   "source": [
    "# logistic regression (it is gradient descent with a different loss function)\n",
    "from helpers import sample_data, load_data\n",
    "from plots import visualization\n",
    "\n",
    "# load data.\n",
    "height, weight, gender = load_data()\n",
    "\n",
    "# build sampled x and y.\n",
    "seed = 1\n",
    "y = np.expand_dims(gender, axis=1)\n",
    "X = np.c_[height.reshape(-1), weight.reshape(-1)]\n",
    "y, X = sample_data(y, X, seed, size_samples=200)\n",
    "x, mean_x, std_x = standardize(X)\n",
    "\n",
    "tx = build_poly(x, 1)\n",
    "initial_w = np.ones(tx.shape[1])\n",
    "max_iters = 50\n",
    "gamma = 0.2\n",
    "minloss, w = gradient_descent(y, tx, initial_w, max_iters, gamma, batch_size=-1, print_output=False, plot_losses=True, costfunc=CostFunction.PROB)\n",
    "# w = np.array(w).reshape(-1, 1)\n",
    "visualization(y, x, mean_x, std_x, w, \"classification_by_least_square\")\n",
    "minloss, w"
   ]
  },
  {
   "cell_type": "code",
   "execution_count": null,
   "metadata": {
    "collapsed": true
   },
   "outputs": [],
   "source": [
    "tes_std, _, _ = standardize(data_te)\n",
    "tx_std =  build_poly(tes_std, 1)\n",
    "\n",
    "print(tx_std.shape)\n",
    "predict_labels(w, tx_std)"
   ]
  },
  {
   "cell_type": "markdown",
   "metadata": {},
   "source": [
    "## 0. Imports"
   ]
  },
  {
   "cell_type": "code",
   "execution_count": null,
   "metadata": {
    "collapsed": true
   },
   "outputs": [],
   "source": [
    "%matplotlib inline\n",
    "import numpy as np\n",
    "import matplotlib.pyplot as plt\n",
    "import matplotlib as mpl\n",
    "from implementations import * \n",
    "from proj1_helpers import *\n",
    "%load_ext autoreload\n",
    "%autoreload 2"
   ]
  },
  {
   "cell_type": "markdown",
   "metadata": {},
   "source": [
    "## 1. Load data"
   ]
  },
  {
   "cell_type": "code",
   "execution_count": null,
   "metadata": {
    "collapsed": true
   },
   "outputs": [],
   "source": [
    "# just load the train data set\n",
    "data_path = \"../dataset/train.csv\"\n",
    "y, x_raw, col_labels = load_csv_data(data_path, sub_sample=False)\n",
    "y.shape, x_raw.shape"
   ]
  },
  {
   "cell_type": "markdown",
   "metadata": {},
   "source": [
    "## 2. fill with nan values where there are invalid entries "
   ]
  },
  {
   "cell_type": "code",
   "execution_count": null,
   "metadata": {
    "collapsed": true
   },
   "outputs": [],
   "source": [
    "# example\n",
    "k = np.array([\n",
    "    [1,     0, -999],\n",
    "    [7,     2,   -5],\n",
    "    [-7,    0,    5],\n",
    "    [-999, -1,    5],\n",
    "    [-7,    2, -999]\n",
    "])\n",
    "\n",
    "print(k)\n",
    "print()\n",
    "\n",
    "# fill\n",
    "nan_values = [-999, 0]\n",
    "k = fill_with_nan_list(k, nan_values)\n",
    "print(k)\n",
    "print()\n",
    "\n",
    "# ->>>> NB: probably better to substitute after standardization at step 5 <<<<-\n",
    "\n",
    "# generate meaningful values with: \n",
    "# - np.nanmean(x, axis=0) (mean of each colum without considering nan values)\n",
    "# - np.nanmedian(x, axis=0) (mean of each colum without considering nan values)\n",
    "# - np.nanstd(x, axis=0) (mean of each colum without considering nan values)\n",
    "k = sustitute_nans(k, substitutions=[-100, -200, -300]) \n",
    "# e.g. x = sustitute_nans(x, substitutions=np.nanmean(x, axis=0)) \n",
    "print(k)"
   ]
  },
  {
   "cell_type": "code",
   "execution_count": null,
   "metadata": {
    "collapsed": true
   },
   "outputs": [],
   "source": [
    "x = fill_with_nan_list(x_raw, nan_values=[0, -999])\n",
    "x.shape"
   ]
  },
  {
   "cell_type": "markdown",
   "metadata": {},
   "source": [
    "## 3. standardize (it won't consider the np.nan entries)"
   ]
  },
  {
   "cell_type": "code",
   "execution_count": null,
   "metadata": {
    "collapsed": true
   },
   "outputs": [],
   "source": [
    "x, mean_x, std_x = standardize(x)\n",
    "x.shape"
   ]
  },
  {
   "cell_type": "markdown",
   "metadata": {},
   "source": [
    "## 4. either drop_nan_rows/column or substitute nan values with something meaningful"
   ]
  },
  {
   "cell_type": "code",
   "execution_count": null,
   "metadata": {
    "collapsed": true
   },
   "outputs": [],
   "source": [
    "# check drop_nan_rows/columns and sustitute_nans in implementations.py\n",
    "# np.nanmean(x, axis=0) should be an array of 0s (the column are standardized)\n",
    "x = sustitute_nans(x, substitutions=np.nanmean(x, axis=0)) \n",
    "x.shape"
   ]
  },
  {
   "cell_type": "markdown",
   "metadata": {},
   "source": [
    "## 5. train and test models:"
   ]
  },
  {
   "cell_type": "markdown",
   "metadata": {},
   "source": [
    "### Ridge regression with cross validation"
   ]
  },
  {
   "cell_type": "code",
   "execution_count": null,
   "metadata": {
    "collapsed": true
   },
   "outputs": [],
   "source": [
    "# just show how the function ratios_visualization works\n",
    "\n",
    "model1 = np.array([\n",
    "    [0.65, 0.9], # relative to degrees[0]\n",
    "    [0.7, 0.8],  # relative to degrees[1]\n",
    "    [0.7, 0.7]]) # relative to degrees[2]\n",
    "model2 =  np.array([\n",
    "    [0.7, 0.6],  # relative to degrees[0]\n",
    "    [0.9, 1],    # relative to degrees[1]\n",
    "    [0.8, 0.8]]) # relative to degrees[2]\n",
    "degree_list = np.array([2, 4, 7])\n",
    "lambdas = np.array([0.1, 0.5]) # x asis\n",
    " \n",
    "ratios_visualization([model1, model2, model1-0.1], degree_list, lambdas, x_label=\"x label\", log_axis_x=False, \n",
    "                     save_figure_with_name=\"test_figure\")"
   ]
  },
  {
   "cell_type": "code",
   "execution_count": null,
   "metadata": {
    "collapsed": true
   },
   "outputs": [],
   "source": [
    "# num_sets: number of sets in which the dataset will be splitted to run the cross validation\n",
    "# degree_list: list of degree to be tried\n",
    "# lambdas: list of lambdas to be tried \n",
    "def cross_validation_ridge_regression(x, y, num_K_sets, degree_list, lambdas):\n",
    "    seed = 2\n",
    "    \n",
    "    # split indices in k sets\n",
    "    k_indices = build_k_indices(y, num_K_sets, seed)\n",
    "    \n",
    "    ratio_tr = [] # matrix success ratio obtained with the training sets\n",
    "    ratio_te = [] # matrix success ratio obtained with the test sets\n",
    "\n",
    "    # define lists to store the loss of training data and test data\n",
    "    for nfigure, degree in enumerate(degree_list): # one figure per degree\n",
    "        tx = build_poly(x, degree) \n",
    "        \n",
    "        # one row (figure) per degree\n",
    "        ratio_tr.append([])\n",
    "        ratio_te.append([])\n",
    "        \n",
    "        for npoint, lambda_ in enumerate(lambdas):\n",
    "            # for each lambda we compute the expected ratio of success (this will be the a point in the figure)\n",
    "            ratio_tr[nfigure].append(0)\n",
    "            ratio_te[nfigure].append(0)\n",
    "            \n",
    "            for k_curr in range(num_K_sets):\n",
    "                train, test = get_kth_set(y, tx, k_indices, k_curr)\n",
    "                \n",
    "                # train the model, just line should change depending on the chosen training \n",
    "                _, w = ridge_regression(train.y, train.tx, lambda_)\n",
    "                \n",
    "#                 # gradient descent\n",
    "#                 initial_w = np.zeros(tx.shape[1])\n",
    "#                 max_iters = 50\n",
    "#                 gamma = lambda_\n",
    "#                 _, w = gradient_descent(train.y, train.tx, initial_w, max_iters, gamma, batch_size=-1, print_output=False, plot_losses=False, costfunc=CostFunction.MSE)\n",
    "                \n",
    "                # compute how good is the model\n",
    "                ratio_tr[nfigure][npoint] += compute_loss(train.y, train.tx, w, costfunc=CostFunction.SUCCESS_RATIO)\n",
    "                ratio_te[nfigure][npoint] += compute_loss(test.y, test.tx, w, costfunc=CostFunction.SUCCESS_RATIO)\n",
    "            \n",
    "            # average the ratio obtained with the cross validation\n",
    "            ratio_tr[nfigure][npoint] /= num_K_sets\n",
    "            ratio_te[nfigure][npoint] /= num_K_sets\n",
    "            \n",
    "    ratio_tr = np.array(ratio_tr)\n",
    "    ratio_te = np.array(ratio_te)\n",
    "    \n",
    "#     print(ratio_tr.shape) # #degree x #lambdas\n",
    "#     print(ratio_te.shape)\n",
    "#     print(degrees.shape)\n",
    "#     print(lambdas.shape)\n",
    "    \n",
    "    return ratio_tr, ratio_te"
   ]
  },
  {
   "cell_type": "code",
   "execution_count": null,
   "metadata": {
    "collapsed": true
   },
   "outputs": [],
   "source": [
    "# the lambda of the ridge regression does not affect much the model\n",
    "nlambdas = 3\n",
    "lambdas = np.linspace(0, 1000, nlambdas)\n",
    "\n",
    "num_K_sets = 5\n",
    "degree_list = [2, 3, 4]\n",
    "\n",
    "ratio_tr, ratio_te = cross_validation_ridge_regression(x, y, num_K_sets, degree_list, lambdas)"
   ]
  },
  {
   "cell_type": "code",
   "execution_count": null,
   "metadata": {
    "collapsed": true
   },
   "outputs": [],
   "source": [
    "# there is A LOT of data => there is no overfitting => the training error is close to the test error => it does\n",
    "# not makes sense to do the cross validation (just use the whole set to train the data and compute the \n",
    "# SUCCESS_RATIO on the training data)\n",
    "cross_validation_visualization(ratio_tr, ratio_te, degree_list, lambdas, \"lambda (ridge_regression)\")\n",
    "\n",
    "ratio_tr.shape, ratio_te.shape"
   ]
  },
  {
   "cell_type": "markdown",
   "metadata": {},
   "source": [
    "### Ridge regression without cross validation"
   ]
  },
  {
   "cell_type": "code",
   "execution_count": null,
   "metadata": {
    "collapsed": true
   },
   "outputs": [],
   "source": [
    "# num_sets: number of sets in which the dataset will be splitted to run the cross validation\n",
    "# degree_list: list of degree to be tried\n",
    "# lambdas: list of lambdas to be tried \n",
    "def ridge_regression_tuning(x, y, degree_list, lambdas):    \n",
    "    \n",
    "    ratios = [] # matrix success ratio obtained with the training sets\n",
    "\n",
    "    # define lists to store the loss of training data and test data\n",
    "    for nfigure, degree in enumerate(degree_list): # one figure per degree\n",
    "        tx = build_poly(x, degree) \n",
    "        \n",
    "        # one row (figure) per degree\n",
    "        ratios.append([])\n",
    "        \n",
    "        for npoint, lambda_ in enumerate(lambdas):\n",
    "            # for each lambda we compute the expected ratio of success (this will be the a point in the figure)\n",
    "            ratios[nfigure].append(0)\n",
    "            \n",
    "            # train the model, just line should change depending on the chosen training \n",
    "            _, w = ridge_regression(y, tx, lambda_)\n",
    "\n",
    "            ratios[nfigure][npoint] = compute_loss(y, tx, w, costfunc=CostFunction.SUCCESS_RATIO)\n",
    "            \n",
    "    ratios = np.array(ratios)\n",
    "    \n",
    "    return ratios"
   ]
  },
  {
   "cell_type": "code",
   "execution_count": null,
   "metadata": {
    "collapsed": true
   },
   "outputs": [],
   "source": [
    "# the lambda of the ridge regression does not affect mush the model\n",
    "nlambdas = 3\n",
    "lambdas = np.linspace(0, 1000, nlambdas)\n",
    "degree_list = [2, 3, 4]\n",
    "\n",
    "ratios = ridge_regression_tuning(x, y, degree_list, lambdas)"
   ]
  },
  {
   "cell_type": "code",
   "execution_count": null,
   "metadata": {
    "collapsed": true
   },
   "outputs": [],
   "source": [
    "x_axis = lambdas\n",
    "figure_name = \"ridge regression,nan_values=[0, -999],substitutions=nanmean(x, axis=0)\"\n",
    "ratios_visualization([ratios], degree_list, x_axis, x_label=\"lambas\", log_axis_x=False,\n",
    "                    save_figure_with_name=figure_name)"
   ]
  },
  {
   "cell_type": "markdown",
   "metadata": {},
   "source": [
    "### Gradient descent try"
   ]
  },
  {
   "cell_type": "code",
   "execution_count": null,
   "metadata": {
    "collapsed": true
   },
   "outputs": [],
   "source": [
    "degree = 4\n",
    "tx = build_poly(x, degree) "
   ]
  },
  {
   "cell_type": "markdown",
   "metadata": {},
   "source": [
    "### Logistic regression"
   ]
  },
  {
   "cell_type": "code",
   "execution_count": null,
   "metadata": {
    "collapsed": true
   },
   "outputs": [],
   "source": [
    "initial_w = np.zeros(tx.shape[1])-1\n",
    "max_iters = 5 # try a small one first to check it is converging \n",
    "gamma = 0.000000000002 # very small (for higher diverges)\n",
    "\n",
    "_, w = gradient_descent(y, tx, initial_w, max_iters, gamma, batch_size=-1, \n",
    "                        print_output_with_weights=[0, 1, 2], plot_losses=True, costfunc=CostFunction.MSE)\n",
    "\n",
    "print(compute_loss(y, tx, w, costfunc=CostFunction.SUCCESS_RATIO))"
   ]
  }
 ],
 "metadata": {
  "kernelspec": {
   "display_name": "Python 3",
   "language": "python",
   "name": "python3"
  },
  "language_info": {
   "codemirror_mode": {
    "name": "ipython",
    "version": 3
   },
   "file_extension": ".py",
   "mimetype": "text/x-python",
   "name": "python",
   "nbconvert_exporter": "python",
   "pygments_lexer": "ipython3",
   "version": "3.6.1"
  }
 },
 "nbformat": 4,
 "nbformat_minor": 2
}
