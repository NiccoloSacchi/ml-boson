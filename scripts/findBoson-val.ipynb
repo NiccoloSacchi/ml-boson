{
 "cells": [
  {
   "cell_type": "markdown",
   "metadata": {},
   "source": [
    "## 0. Imports"
   ]
  },
  {
   "cell_type": "code",
   "execution_count": 111,
   "metadata": {},
   "outputs": [
    {
     "name": "stdout",
     "output_type": "stream",
     "text": [
      "The autoreload extension is already loaded. To reload it, use:\n",
      "  %reload_ext autoreload\n"
     ]
    }
   ],
   "source": [
    "%matplotlib inline\n",
    "import numpy as np\n",
    "import matplotlib.pyplot as plt\n",
    "import matplotlib as mpl\n",
    "from implementations import * \n",
    "from proj1_helpers import *\n",
    "from helpers import *\n",
    "%load_ext autoreload\n",
    "%autoreload 2"
   ]
  },
  {
   "cell_type": "markdown",
   "metadata": {},
   "source": [
    "## 1. Load data"
   ]
  },
  {
   "cell_type": "code",
   "execution_count": 112,
   "metadata": {},
   "outputs": [
    {
     "data": {
      "text/plain": [
       "((6744,), (6744, 30))"
      ]
     },
     "execution_count": 112,
     "metadata": {},
     "output_type": "execute_result"
    }
   ],
   "source": [
    "# just load the train data set\n",
    "data_path = \"../dataset/train.csv\"\n",
    "y, x_raw, col_labels = load_partial_csv_data(data_path, 10000)\n",
    "y,x_raw = equalize_predictions(y,x_raw)\n",
    "\n",
    "_,data_u,ids_u = load_csv_data(\"../dataset/test.csv\")\n",
    "\n",
    "y.shape, x_raw.shape"
   ]
  },
  {
   "cell_type": "markdown",
   "metadata": {},
   "source": [
    "## 2. fill with nan values where there are invalid entries "
   ]
  },
  {
   "cell_type": "code",
   "execution_count": 113,
   "metadata": {},
   "outputs": [
    {
     "name": "stdout",
     "output_type": "stream",
     "text": [
      "[[   1    0 -999]\n",
      " [   7    2   -5]\n",
      " [  -7    0    5]\n",
      " [-999   -1    5]\n",
      " [  -7    2 -999]]\n",
      "\n",
      "[[  1.  nan  nan]\n",
      " [  7.   2.  -5.]\n",
      " [ -7.  nan   5.]\n",
      " [ nan  -1.   5.]\n",
      " [ -7.   2.  nan]]\n",
      "\n",
      "[[   1. -200. -300.]\n",
      " [   7.    2.   -5.]\n",
      " [  -7. -200.    5.]\n",
      " [-100.   -1.    5.]\n",
      " [  -7.    2. -300.]]\n"
     ]
    }
   ],
   "source": [
    "# example\n",
    "k = np.array([\n",
    "    [1,     0, -999],\n",
    "    [7,     2,   -5],\n",
    "    [-7,    0,    5],\n",
    "    [-999, -1,    5],\n",
    "    [-7,    2, -999]\n",
    "])\n",
    "\n",
    "print(k)\n",
    "print()\n",
    "\n",
    "# fill\n",
    "nan_values = [-999, 0]\n",
    "k = fill_with_nan_list(k, nan_values)\n",
    "print(k)\n",
    "print()\n",
    "\n",
    "# ->>>> NB: probably better to substitute after standardization at step 5 <<<<-\n",
    "\n",
    "# generate meaningful values with: \n",
    "# - np.nanmean(x, axis=0) (mean of each colum without considering nan values)\n",
    "# - np.nanmedian(x, axis=0) (mean of each colum without considering nan values)\n",
    "# - np.nanstd(x, axis=0) (mean of each colum without considering nan values)\n",
    "k = sustitute_nans(k, substitutions=[-100, -200, -300]) \n",
    "# e.g. x = sustitute_nans(x, substitutions=np.nanmean(x, axis=0)) \n",
    "print(k)"
   ]
  },
  {
   "cell_type": "code",
   "execution_count": 114,
   "metadata": {},
   "outputs": [
    {
     "data": {
      "text/plain": [
       "(6744, 30)"
      ]
     },
     "execution_count": 114,
     "metadata": {},
     "output_type": "execute_result"
    }
   ],
   "source": [
    "x = fill_with_nan_list(x_raw, nan_values=[0, -999])\n",
    "x.shape"
   ]
  },
  {
   "cell_type": "markdown",
   "metadata": {},
   "source": [
    "## 3. standardize (it won't consider the np.nan entries)"
   ]
  },
  {
   "cell_type": "code",
   "execution_count": 115,
   "metadata": {},
   "outputs": [
    {
     "data": {
      "text/plain": [
       "(6744, 30)"
      ]
     },
     "execution_count": 115,
     "metadata": {},
     "output_type": "execute_result"
    }
   ],
   "source": [
    "x, mean_x, std_x = standardize(x)\n",
    "x.shape"
   ]
  },
  {
   "cell_type": "markdown",
   "metadata": {},
   "source": [
    "## 4. either drop_nan_rows/column or substitute nan values with something meaningful"
   ]
  },
  {
   "cell_type": "code",
   "execution_count": 116,
   "metadata": {},
   "outputs": [
    {
     "data": {
      "text/plain": [
       "(6744, 30)"
      ]
     },
     "execution_count": 116,
     "metadata": {},
     "output_type": "execute_result"
    }
   ],
   "source": [
    "# check drop_nan_rows/columns and sustitute_nans in implementations.py\n",
    "# np.nanmean(x, axis=0) should be an array of 0s (the column are standardized)\n",
    "x = sustitute_nans(x, substitutions=np.nanmean(x, axis=0)) \n",
    "x.shape"
   ]
  },
  {
   "cell_type": "markdown",
   "metadata": {},
   "source": [
    "## 5. train and test models:"
   ]
  },
  {
   "cell_type": "markdown",
   "metadata": {},
   "source": [
    "### Ridge regression with cross validation"
   ]
  },
  {
   "cell_type": "code",
   "execution_count": 117,
   "metadata": {},
   "outputs": [
    {
     "data": {
      "text/plain": [
       "<matplotlib.figure.Figure at 0x28d745cc828>"
      ]
     },
     "metadata": {},
     "output_type": "display_data"
    },
    {
     "data": {
      "image/png": "[encoded data removed]",
      "text/plain": [
       "<matplotlib.figure.Figure at 0x28d745cca90>"
      ]
     },
     "metadata": {},
     "output_type": "display_data"
    }
   ],
   "source": [
    "# just show how the function ratios_visualization works\n",
    "\n",
    "model1 = np.array([\n",
    "    [0.65, 0.9], # relative to degrees[0]\n",
    "    [0.7, 0.8],  # relative to degrees[1]\n",
    "    [0.7, 0.7]]) # relative to degrees[2]\n",
    "model2 =  np.array([\n",
    "    [0.7, 0.6],  # relative to degrees[0]\n",
    "    [0.9, 1],    # relative to degrees[1]\n",
    "    [0.8, 0.8]]) # relative to degrees[2]\n",
    "degree_list = np.array([2, 4, 7])\n",
    "lambdas = np.array([0.1, 0.5]) # x asis\n",
    " \n",
    "ratios_visualization([model1, model2, model1-0.1], degree_list, lambdas, x_label=\"x label\", log_axis_x=False, \n",
    "                     save_figure_with_name=\"test_figure\")"
   ]
  },
  {
   "cell_type": "code",
   "execution_count": 118,
   "metadata": {},
   "outputs": [],
   "source": [
    "# the lambda of the ridge regression does not affect much the model\n",
    "nlambdas = 3\n",
    "lambdas = np.linspace(0, 1000, nlambdas)\n",
    "\n",
    "num_K_sets = 5\n",
    "degree_list = [2, 3, 4]\n",
    "\n",
    "ratio_tr, ratio_te = cross_validation_ridge_regression(x, y, num_K_sets, degree_list, lambdas)"
   ]
  },
  {
   "cell_type": "code",
   "execution_count": 119,
   "metadata": {},
   "outputs": [
    {
     "data": {
      "text/plain": [
       "<matplotlib.figure.Figure at 0x28d74ef4e10>"
      ]
     },
     "metadata": {},
     "output_type": "display_data"
    },
    {
     "data": {
      "image/png": "[encoded data removed]",
      "text/plain": [
       "<matplotlib.figure.Figure at 0x28d029dd0f0>"
      ]
     },
     "metadata": {},
     "output_type": "display_data"
    },
    {
     "name": "stdout",
     "output_type": "stream",
     "text": [
      "[    0.   500.  1000.]\n"
     ]
    },
    {
     "data": {
      "text/plain": [
       "((3, 3), (3, 3))"
      ]
     },
     "execution_count": 119,
     "metadata": {},
     "output_type": "execute_result"
    }
   ],
   "source": [
    "# there is A LOT of data => there is no overfitting => the training error is close to the test error => it does\n",
    "# not makes sense to do the cross validation (just use the whole set to train the data and compute the \n",
    "# SUCCESS_RATIO on the training data)\n",
    "cross_validation_visualization(ratio_tr, ratio_te, degree_list, lambdas, \"lambda (ridge_regression)\")\n",
    "\n",
    "print(lambdas)\n",
    "ratio_tr.shape, ratio_te.shape"
   ]
  },
  {
   "cell_type": "markdown",
   "metadata": {},
   "source": [
    "### Ridge regression without cross validation"
   ]
  },
  {
   "cell_type": "code",
   "execution_count": 120,
   "metadata": {
    "collapsed": true
   },
   "outputs": [],
   "source": [
    "# the lambda of the ridge regression does not affect mush the model\n",
    "nlambdas = 3\n",
    "lambdas = np.linspace(0, 1000, nlambdas)\n",
    "degree_list = [2, 3, 4]\n",
    "\n",
    "ratios = ridge_regression_tuning(x, y, degree_list, lambdas)"
   ]
  },
  {
   "cell_type": "code",
   "execution_count": 121,
   "metadata": {},
   "outputs": [
    {
     "data": {
      "text/plain": [
       "<matplotlib.figure.Figure at 0x28d7c777358>"
      ]
     },
     "metadata": {},
     "output_type": "display_data"
    },
    {
     "data": {
      "image/png": "[encoded data removed]",
      "text/plain": [
       "<matplotlib.figure.Figure at 0x28d754f5c88>"
      ]
     },
     "metadata": {},
     "output_type": "display_data"
    },
    {
     "name": "stdout",
     "output_type": "stream",
     "text": [
      "[    0.   500.  1000.]\n"
     ]
    }
   ],
   "source": [
    "x_axis = lambdas\n",
    "figure_name = \"ridge regression,nan_values=[0, -999],substitutions=nanmean(x, axis=0)\"\n",
    "ratios_visualization([ratios], degree_list, x_axis, x_label=\"lambas\", log_axis_x=False,\n",
    "                    save_figure_with_name=figure_name)\n",
    "\n",
    "print(lambdas)"
   ]
  },
  {
   "cell_type": "markdown",
   "metadata": {},
   "source": [
    "### Gradient descent try"
   ]
  },
  {
   "cell_type": "code",
   "execution_count": 122,
   "metadata": {},
   "outputs": [],
   "source": [
    "degree = 4\n",
    "tx = build_poly(x, degree) \n",
    "initial_w = np.zeros(len(y))\n",
    "max_iters = 20\n",
    "gamma = 0.5\n",
    "#loss, w = gradient_descent(y, tx, initial_w, max_iters, gamma, batch_size=1)\n",
    "#loss,w"
   ]
  },
  {
   "cell_type": "markdown",
   "metadata": {},
   "source": [
    "### Logistic regression"
   ]
  },
  {
   "cell_type": "code",
   "execution_count": 123,
   "metadata": {
    "scrolled": true
   },
   "outputs": [
    {
     "name": "stdout",
     "output_type": "stream",
     "text": [
      "Gradient Descent(0/4): loss=68761637709.58899, weights=[-0.99999998794891809, -1.0000000078055982, -0.99999986492651938]\n",
      "Gradient Descent(1/4): loss=42056586463.22049, weights=[-0.99999997841652688, -1.0000000136410503, -0.99999975921858975]\n",
      "Gradient Descent(2/4): loss=25723426394.119267, weights=[-0.99999997085389536, -1.0000000179357362, -0.99999967647619459]\n",
      "Gradient Descent(3/4): loss=15733851185.246788, weights=[-0.99999996483172837, -1.0000000210254556, -0.9999996116941563]\n",
      "Gradient Descent(4/4): loss=9624095788.514553, weights=[-0.99999996001429248, -1.000000023172823, -0.99999956095814069]\n",
      "0.5\n"
     ]
    },
    {
     "data": {
      "image/png": "[encoded data removed]",
      "text/plain": [
       "<matplotlib.figure.Figure at 0x28d74a51860>"
      ]
     },
     "metadata": {},
     "output_type": "display_data"
    }
   ],
   "source": [
    "initial_w = np.zeros(tx.shape[1])-1\n",
    "max_iters = 5 # try a small one first to check it is converging \n",
    "gamma = 0.000000000002 # very small (for higher diverges)\n",
    "\n",
    "_, w = gradient_descent(y, tx, initial_w, max_iters, gamma, batch_size=-1, \n",
    "                        print_output_with_weights=[0, 1, 2], plot_losses=True, costfunc=CostFunction.MSE)\n",
    "\n",
    "print(compute_loss(y, tx, w, costfunc=CostFunction.SUCCESS_RATIO))"
   ]
  },
  {
   "cell_type": "code",
   "execution_count": null,
   "metadata": {
    "collapsed": true
   },
   "outputs": [],
   "source": []
  },
  {
   "cell_type": "markdown",
   "metadata": {},
   "source": [
    "### Exportation"
   ]
  },
  {
   "cell_type": "code",
   "execution_count": 128,
   "metadata": {},
   "outputs": [
    {
     "name": "stdout",
     "output_type": "stream",
     "text": [
      "(568238, 2)\n",
      "['Id', 'Prediction']\n"
     ]
    }
   ],
   "source": [
    "\n",
    "loss, w = ridge_regression(y, tx, 0.001)\n",
    "\n",
    "test_model_and_export(data_u,ids_u,w,degree)\n",
    "\n"
   ]
  },
  {
   "cell_type": "code",
   "execution_count": null,
   "metadata": {
    "collapsed": true
   },
   "outputs": [],
   "source": []
  }
 ],
 "metadata": {
  "kernelspec": {
   "display_name": "Python 3",
   "language": "python",
   "name": "python3"
  },
  "language_info": {
   "codemirror_mode": {
    "name": "ipython",
    "version": 3
   },
   "file_extension": ".py",
   "mimetype": "text/x-python",
   "name": "python",
   "nbconvert_exporter": "python",
   "pygments_lexer": "ipython3",
   "version": "3.6.1"
  }
 },
 "nbformat": 4,
 "nbformat_minor": 2
}
